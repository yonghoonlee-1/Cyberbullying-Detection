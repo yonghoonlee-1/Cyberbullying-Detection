{
  "nbformat": 4,
  "nbformat_minor": 0,
  "metadata": {
    "colab": {
      "name": "Transfer Learning_BiLSTM_Glove",
      "provenance": [],
      "collapsed_sections": []
    },
    "kernelspec": {
      "name": "python3",
      "display_name": "Python 3"
    },
    "accelerator": "GPU"
  },
  "cells": [
    {
      "cell_type": "code",
      "metadata": {
        "id": "cj7tffTOTK8O",
        "colab": {
          "base_uri": "https://localhost:8080/"
        },
        "outputId": "bb5ffa37-8d98-4872-ac07-f2db3ddd7894"
      },
      "source": [
        "from google.colab import drive\n",
        "drive.mount('/gdrive')\n",
        "!rm -rf /content/gdrive\n",
        "!ln -s \"/gdrive/My Drive\" /content/gdrive\n",
        "%cd /content/gdrive"
      ],
      "execution_count": null,
      "outputs": [
        {
          "output_type": "stream",
          "text": [
            "Drive already mounted at /gdrive; to attempt to forcibly remount, call drive.mount(\"/gdrive\", force_remount=True).\n",
            "/gdrive/My Drive\n"
          ],
          "name": "stdout"
        }
      ]
    },
    {
      "cell_type": "code",
      "metadata": {
        "id": "r0QwqxZnTFRO"
      },
      "source": [
        "import keras\n",
        "from keras.preprocessing.sequence import pad_sequences\n",
        "from keras.models import Sequential\n",
        "from keras.layers import Dense, Dropout, Embedding, LSTM\n",
        "import pandas as pd\n",
        "import numpy as np\n",
        "import re\n",
        "from keras.preprocessing.text import Tokenizer\n",
        "from sklearn.model_selection import train_test_split"
      ],
      "execution_count": null,
      "outputs": []
    },
    {
      "cell_type": "code",
      "metadata": {
        "id": "cQNAs-AbTNp1"
      },
      "source": [
        "formspring=pd.read_csv(\"/content/gdrive/formspring_data_1_###_200805_labeling.csv\", encoding='latin1')"
      ],
      "execution_count": null,
      "outputs": []
    },
    {
      "cell_type": "code",
      "metadata": {
        "id": "FVEeMmVYTTlO",
        "colab": {
          "base_uri": "https://localhost:8080/",
          "height": 359
        },
        "outputId": "d6e71a03-a703-40d3-fde4-10428258e48d"
      },
      "source": [
        "formspring.head(10)"
      ],
      "execution_count": null,
      "outputs": [
        {
          "output_type": "execute_result",
          "data": {
            "text/html": [
              "<div>\n",
              "<style scoped>\n",
              "    .dataframe tbody tr th:only-of-type {\n",
              "        vertical-align: middle;\n",
              "    }\n",
              "\n",
              "    .dataframe tbody tr th {\n",
              "        vertical-align: top;\n",
              "    }\n",
              "\n",
              "    .dataframe thead th {\n",
              "        text-align: right;\n",
              "    }\n",
              "</style>\n",
              "<table border=\"1\" class=\"dataframe\">\n",
              "  <thead>\n",
              "    <tr style=\"text-align: right;\">\n",
              "      <th></th>\n",
              "      <th>sentence</th>\n",
              "      <th>sentiment</th>\n",
              "    </tr>\n",
              "  </thead>\n",
              "  <tbody>\n",
              "    <tr>\n",
              "      <th>0</th>\n",
              "      <td>Q: what&amp;#039;s your favorite song? :D&lt;br&gt;A: I ...</td>\n",
              "      <td>non-bully</td>\n",
              "    </tr>\n",
              "    <tr>\n",
              "      <th>1</th>\n",
              "      <td>Q: &lt;3&lt;br&gt;A: &lt;/3 ? haha jk! &lt;33</td>\n",
              "      <td>non-bully</td>\n",
              "    </tr>\n",
              "    <tr>\n",
              "      <th>2</th>\n",
              "      <td>Q: &amp;quot;hey angel  you duh sexy&amp;quot;&lt;br&gt;A: R...</td>\n",
              "      <td>non-bully</td>\n",
              "    </tr>\n",
              "    <tr>\n",
              "      <th>3</th>\n",
              "      <td>Q: (:&lt;br&gt;A: ;(</td>\n",
              "      <td>non-bully</td>\n",
              "    </tr>\n",
              "    <tr>\n",
              "      <th>4</th>\n",
              "      <td>Q: ******************MEOWWW*******************...</td>\n",
              "      <td>non-bully</td>\n",
              "    </tr>\n",
              "    <tr>\n",
              "      <th>5</th>\n",
              "      <td>Q: any makeup tips? i suck at doing my makeup ...</td>\n",
              "      <td>non-bully</td>\n",
              "    </tr>\n",
              "    <tr>\n",
              "      <th>6</th>\n",
              "      <td>Q: Apriiiiiiiiiiiill!!! I miss uuuu! It&amp;#039;s...</td>\n",
              "      <td>non-bully</td>\n",
              "    </tr>\n",
              "    <tr>\n",
              "      <th>7</th>\n",
              "      <td>Q: Are you a morning or night person?&lt;br&gt;A: Ni...</td>\n",
              "      <td>non-bully</td>\n",
              "    </tr>\n",
              "    <tr>\n",
              "      <th>8</th>\n",
              "      <td>Q: are you a trusting person?&lt;br&gt;A: alreadi an...</td>\n",
              "      <td>non-bully</td>\n",
              "    </tr>\n",
              "    <tr>\n",
              "      <th>9</th>\n",
              "      <td>Q: are you a trusting person?&lt;br&gt;A: Yes veryy ...</td>\n",
              "      <td>non-bully</td>\n",
              "    </tr>\n",
              "  </tbody>\n",
              "</table>\n",
              "</div>"
            ],
            "text/plain": [
              "                                            sentence  sentiment\n",
              "0  Q: what&#039;s your favorite song? :D<br>A: I ...  non-bully\n",
              "1                     Q: <3<br>A: </3 ? haha jk! <33  non-bully\n",
              "2  Q: &quot;hey angel  you duh sexy&quot;<br>A: R...  non-bully\n",
              "3                                     Q: (:<br>A: ;(  non-bully\n",
              "4  Q: ******************MEOWWW*******************...  non-bully\n",
              "5  Q: any makeup tips? i suck at doing my makeup ...  non-bully\n",
              "6  Q: Apriiiiiiiiiiiill!!! I miss uuuu! It&#039;s...  non-bully\n",
              "7  Q: Are you a morning or night person?<br>A: Ni...  non-bully\n",
              "8  Q: are you a trusting person?<br>A: alreadi an...  non-bully\n",
              "9  Q: are you a trusting person?<br>A: Yes veryy ...  non-bully"
            ]
          },
          "metadata": {
            "tags": []
          },
          "execution_count": 4
        }
      ]
    },
    {
      "cell_type": "code",
      "metadata": {
        "id": "sBPSTpSPTVXJ"
      },
      "source": [
        "data = formspring[['sentence','sentiment']]"
      ],
      "execution_count": null,
      "outputs": []
    },
    {
      "cell_type": "code",
      "metadata": {
        "id": "jf2HNdhuTW5a",
        "colab": {
          "base_uri": "https://localhost:8080/"
        },
        "outputId": "c4bcb851-3266-4b3a-e951-3bc3c1cd2387"
      },
      "source": [
        "import string\n",
        "data['sentence'] = data['sentence'].apply(lambda x: x.replace('Q:',' ').replace('A:',' ').replace('<br>',' '))\n",
        "data['sentence'] = data['sentence'].apply(lambda x: x.lower())\n",
        "data['sentence'] = data['sentence'].apply((lambda x: re.sub(r\"(https?|http)://[-a-zA-Z0-9+&@#/%?=~_|!:,.;]*[-a-zA-Z0-9+&@#/%=~_|]\", \"\", x)))\n",
        "data['sentence'] = data['sentence'].apply((lambda x: re.sub(r\"&#039;\", \"\\'\", x)))\n",
        "data['sentence'] = data['sentence'].apply((lambda x: re.sub(r\"&quot;\", \"\", x)))\n",
        "data['sentence'] = data['sentence'].apply((lambda x: re.sub(r\"&amp;\", \"\", x)))\n",
        "print(data[ data['sentiment'] == 'non-bully'].size)\n",
        "print(data[ data['sentiment'] == 'bully'].size)"
      ],
      "execution_count": null,
      "outputs": [
        {
          "output_type": "stream",
          "text": [
            "23994\n",
            "1552\n"
          ],
          "name": "stdout"
        }
      ]
    },
    {
      "cell_type": "code",
      "metadata": {
        "id": "yH1yOgIMT9xr",
        "colab": {
          "base_uri": "https://localhost:8080/",
          "height": 359
        },
        "outputId": "816e4374-8d0c-4cb4-8251-043670c06db2"
      },
      "source": [
        "data.head(10)"
      ],
      "execution_count": null,
      "outputs": [
        {
          "output_type": "execute_result",
          "data": {
            "text/html": [
              "<div>\n",
              "<style scoped>\n",
              "    .dataframe tbody tr th:only-of-type {\n",
              "        vertical-align: middle;\n",
              "    }\n",
              "\n",
              "    .dataframe tbody tr th {\n",
              "        vertical-align: top;\n",
              "    }\n",
              "\n",
              "    .dataframe thead th {\n",
              "        text-align: right;\n",
              "    }\n",
              "</style>\n",
              "<table border=\"1\" class=\"dataframe\">\n",
              "  <thead>\n",
              "    <tr style=\"text-align: right;\">\n",
              "      <th></th>\n",
              "      <th>sentence</th>\n",
              "      <th>sentiment</th>\n",
              "    </tr>\n",
              "  </thead>\n",
              "  <tbody>\n",
              "    <tr>\n",
              "      <th>0</th>\n",
              "      <td>what's your favorite song? :d   i like too m...</td>\n",
              "      <td>non-bully</td>\n",
              "    </tr>\n",
              "    <tr>\n",
              "      <th>1</th>\n",
              "      <td>&lt;3   &lt;/3 ? haha jk! &lt;33</td>\n",
              "      <td>non-bully</td>\n",
              "    </tr>\n",
              "    <tr>\n",
              "      <th>2</th>\n",
              "      <td>hey angel  you duh sexy   really?!?! thanks?...</td>\n",
              "      <td>non-bully</td>\n",
              "    </tr>\n",
              "    <tr>\n",
              "      <th>3</th>\n",
              "      <td>(:   ;(</td>\n",
              "      <td>non-bully</td>\n",
              "    </tr>\n",
              "    <tr>\n",
              "      <th>4</th>\n",
              "      <td>******************meowww********************...</td>\n",
              "      <td>non-bully</td>\n",
              "    </tr>\n",
              "    <tr>\n",
              "      <th>5</th>\n",
              "      <td>any makeup tips? i suck at doing my makeup l...</td>\n",
              "      <td>non-bully</td>\n",
              "    </tr>\n",
              "    <tr>\n",
              "      <th>6</th>\n",
              "      <td>apriiiiiiiiiiiill!!! i miss uuuu! it's emma ...</td>\n",
              "      <td>non-bully</td>\n",
              "    </tr>\n",
              "    <tr>\n",
              "      <th>7</th>\n",
              "      <td>are you a morning or night person?   night 4...</td>\n",
              "      <td>non-bully</td>\n",
              "    </tr>\n",
              "    <tr>\n",
              "      <th>8</th>\n",
              "      <td>are you a trusting person?   alreadi answrd</td>\n",
              "      <td>non-bully</td>\n",
              "    </tr>\n",
              "    <tr>\n",
              "      <th>9</th>\n",
              "      <td>are you a trusting person?   yes veryy trust...</td>\n",
              "      <td>non-bully</td>\n",
              "    </tr>\n",
              "  </tbody>\n",
              "</table>\n",
              "</div>"
            ],
            "text/plain": [
              "                                            sentence  sentiment\n",
              "0    what's your favorite song? :d   i like too m...  non-bully\n",
              "1                            <3   </3 ? haha jk! <33  non-bully\n",
              "2    hey angel  you duh sexy   really?!?! thanks?...  non-bully\n",
              "3                                            (:   ;(  non-bully\n",
              "4    ******************meowww********************...  non-bully\n",
              "5    any makeup tips? i suck at doing my makeup l...  non-bully\n",
              "6    apriiiiiiiiiiiill!!! i miss uuuu! it's emma ...  non-bully\n",
              "7    are you a morning or night person?   night 4...  non-bully\n",
              "8        are you a trusting person?   alreadi answrd  non-bully\n",
              "9    are you a trusting person?   yes veryy trust...  non-bully"
            ]
          },
          "metadata": {
            "tags": []
          },
          "execution_count": 7
        }
      ]
    },
    {
      "cell_type": "code",
      "metadata": {
        "id": "RxoIrxL1TYjU"
      },
      "source": [
        "tokenizer = Tokenizer(split=' ')\n",
        "tokenizer.fit_on_texts(data['sentence'].values)\n",
        "X = tokenizer.texts_to_sequences(data['sentence'].values)\n",
        "X = pad_sequences(X, maxlen=62)"
      ],
      "execution_count": null,
      "outputs": []
    },
    {
      "cell_type": "code",
      "metadata": {
        "id": "6sa-shz7UOFh"
      },
      "source": [
        "Y = pd.get_dummies(data['sentiment']).values"
      ],
      "execution_count": null,
      "outputs": []
    },
    {
      "cell_type": "code",
      "metadata": {
        "colab": {
          "base_uri": "https://localhost:8080/"
        },
        "id": "WuqqLktrCv_k",
        "outputId": "7c2836fb-d7e1-4b57-9809-15c7e416b1e7"
      },
      "source": [
        "print(Y[0])"
      ],
      "execution_count": null,
      "outputs": [
        {
          "output_type": "stream",
          "text": [
            "[0 1]\n"
          ],
          "name": "stdout"
        }
      ]
    },
    {
      "cell_type": "code",
      "metadata": {
        "id": "n6WDPuOxCyeD"
      },
      "source": [
        "y = []\n",
        "for i in range(12773):\n",
        "  y.append(Y[i][1])\n",
        "\n",
        "Y = np.asarray(y)"
      ],
      "execution_count": null,
      "outputs": []
    },
    {
      "cell_type": "code",
      "metadata": {
        "colab": {
          "base_uri": "https://localhost:8080/"
        },
        "id": "UNklseJKDD4n",
        "outputId": "dead0cbf-0594-4d80-cf20-a763fc799b63"
      },
      "source": [
        "print(Y[0])"
      ],
      "execution_count": null,
      "outputs": [
        {
          "output_type": "stream",
          "text": [
            "1\n"
          ],
          "name": "stdout"
        }
      ]
    },
    {
      "cell_type": "code",
      "metadata": {
        "id": "QcpcjwBASJRj",
        "colab": {
          "base_uri": "https://localhost:8080/"
        },
        "outputId": "a125ed21-f92d-4815-cc38-cb2082ef19a4"
      },
      "source": [
        "print(X.shape)"
      ],
      "execution_count": null,
      "outputs": [
        {
          "output_type": "stream",
          "text": [
            "(12773, 62)\n"
          ],
          "name": "stdout"
        }
      ]
    },
    {
      "cell_type": "code",
      "metadata": {
        "id": "mWMPIB98BIYw"
      },
      "source": [
        "X_train, X_test, Y_train, Y_test = train_test_split(X,Y, test_size = 0.2, random_state = 42)"
      ],
      "execution_count": null,
      "outputs": []
    },
    {
      "cell_type": "code",
      "metadata": {
        "id": "W__8M2U8CvUz"
      },
      "source": [
        "imdb=pd.read_csv(\"/content/gdrive/IMDB Dataset.csv\")"
      ],
      "execution_count": null,
      "outputs": []
    },
    {
      "cell_type": "code",
      "metadata": {
        "colab": {
          "base_uri": "https://localhost:8080/",
          "height": 359
        },
        "id": "fi4q5QWbCvYD",
        "outputId": "87ef8f20-33d1-4930-9093-d9e356912940"
      },
      "source": [
        "imdb.head(10)"
      ],
      "execution_count": null,
      "outputs": [
        {
          "output_type": "execute_result",
          "data": {
            "text/html": [
              "<div>\n",
              "<style scoped>\n",
              "    .dataframe tbody tr th:only-of-type {\n",
              "        vertical-align: middle;\n",
              "    }\n",
              "\n",
              "    .dataframe tbody tr th {\n",
              "        vertical-align: top;\n",
              "    }\n",
              "\n",
              "    .dataframe thead th {\n",
              "        text-align: right;\n",
              "    }\n",
              "</style>\n",
              "<table border=\"1\" class=\"dataframe\">\n",
              "  <thead>\n",
              "    <tr style=\"text-align: right;\">\n",
              "      <th></th>\n",
              "      <th>review</th>\n",
              "      <th>sentiment</th>\n",
              "    </tr>\n",
              "  </thead>\n",
              "  <tbody>\n",
              "    <tr>\n",
              "      <th>0</th>\n",
              "      <td>One of the other reviewers has mentioned that ...</td>\n",
              "      <td>positive</td>\n",
              "    </tr>\n",
              "    <tr>\n",
              "      <th>1</th>\n",
              "      <td>A wonderful little production. &lt;br /&gt;&lt;br /&gt;The...</td>\n",
              "      <td>positive</td>\n",
              "    </tr>\n",
              "    <tr>\n",
              "      <th>2</th>\n",
              "      <td>I thought this was a wonderful way to spend ti...</td>\n",
              "      <td>positive</td>\n",
              "    </tr>\n",
              "    <tr>\n",
              "      <th>3</th>\n",
              "      <td>Basically there's a family where a little boy ...</td>\n",
              "      <td>negative</td>\n",
              "    </tr>\n",
              "    <tr>\n",
              "      <th>4</th>\n",
              "      <td>Petter Mattei's \"Love in the Time of Money\" is...</td>\n",
              "      <td>positive</td>\n",
              "    </tr>\n",
              "    <tr>\n",
              "      <th>5</th>\n",
              "      <td>Probably my all-time favorite movie, a story o...</td>\n",
              "      <td>positive</td>\n",
              "    </tr>\n",
              "    <tr>\n",
              "      <th>6</th>\n",
              "      <td>I sure would like to see a resurrection of a u...</td>\n",
              "      <td>positive</td>\n",
              "    </tr>\n",
              "    <tr>\n",
              "      <th>7</th>\n",
              "      <td>This show was an amazing, fresh &amp; innovative i...</td>\n",
              "      <td>negative</td>\n",
              "    </tr>\n",
              "    <tr>\n",
              "      <th>8</th>\n",
              "      <td>Encouraged by the positive comments about this...</td>\n",
              "      <td>negative</td>\n",
              "    </tr>\n",
              "    <tr>\n",
              "      <th>9</th>\n",
              "      <td>If you like original gut wrenching laughter yo...</td>\n",
              "      <td>positive</td>\n",
              "    </tr>\n",
              "  </tbody>\n",
              "</table>\n",
              "</div>"
            ],
            "text/plain": [
              "                                              review sentiment\n",
              "0  One of the other reviewers has mentioned that ...  positive\n",
              "1  A wonderful little production. <br /><br />The...  positive\n",
              "2  I thought this was a wonderful way to spend ti...  positive\n",
              "3  Basically there's a family where a little boy ...  negative\n",
              "4  Petter Mattei's \"Love in the Time of Money\" is...  positive\n",
              "5  Probably my all-time favorite movie, a story o...  positive\n",
              "6  I sure would like to see a resurrection of a u...  positive\n",
              "7  This show was an amazing, fresh & innovative i...  negative\n",
              "8  Encouraged by the positive comments about this...  negative\n",
              "9  If you like original gut wrenching laughter yo...  positive"
            ]
          },
          "metadata": {
            "tags": []
          },
          "execution_count": 16
        }
      ]
    },
    {
      "cell_type": "code",
      "metadata": {
        "id": "tyuYc605C19w"
      },
      "source": [
        "data_imdb = imdb[['review','sentiment']]"
      ],
      "execution_count": null,
      "outputs": []
    },
    {
      "cell_type": "code",
      "metadata": {
        "id": "Q-rBnE9-C16A"
      },
      "source": [
        "import string\n",
        "data_imdb['review'] = data_imdb['review'].apply(lambda x: x.lower())\n",
        "data_imdb['review'] = data_imdb['review'].apply(lambda x: \"\".join(l for l in x if l not in string.punctuation))"
      ],
      "execution_count": null,
      "outputs": []
    },
    {
      "cell_type": "code",
      "metadata": {
        "id": "Y_UqmxfmC14S"
      },
      "source": [
        "X_imdb = tokenizer.texts_to_sequences(data_imdb['review'].values)\n",
        "X_imdb = pad_sequences(X_imdb, maxlen=62)"
      ],
      "execution_count": null,
      "outputs": []
    },
    {
      "cell_type": "code",
      "metadata": {
        "id": "FWI5pnkqC1yk"
      },
      "source": [
        "Y_imdb = pd.get_dummies(data_imdb['sentiment']).values"
      ],
      "execution_count": null,
      "outputs": []
    },
    {
      "cell_type": "code",
      "metadata": {
        "colab": {
          "base_uri": "https://localhost:8080/"
        },
        "id": "YnbvGH8mC1wQ",
        "outputId": "a58e30d0-e87c-48ce-a9ed-3e6448681140"
      },
      "source": [
        "print(Y_imdb[0])"
      ],
      "execution_count": null,
      "outputs": [
        {
          "output_type": "stream",
          "text": [
            "[0 1]\n"
          ],
          "name": "stdout"
        }
      ]
    },
    {
      "cell_type": "code",
      "metadata": {
        "id": "Bl27nYylC1qw"
      },
      "source": [
        "y_imdb = []\n",
        "\n",
        "for i in range(50000):\n",
        "  y_imdb.append(Y_imdb[i][1])\n",
        "\n",
        "Y_imdb = np.asarray(y_imdb)"
      ],
      "execution_count": null,
      "outputs": []
    },
    {
      "cell_type": "code",
      "metadata": {
        "colab": {
          "base_uri": "https://localhost:8080/"
        },
        "id": "rzQtXnDIEve6",
        "outputId": "4ef91e6c-517f-4cb4-ee06-59a89b3b0f9a"
      },
      "source": [
        "print(Y_imdb[0])"
      ],
      "execution_count": null,
      "outputs": [
        {
          "output_type": "stream",
          "text": [
            "1\n"
          ],
          "name": "stdout"
        }
      ]
    },
    {
      "cell_type": "code",
      "metadata": {
        "id": "t2rF3pYyTaVD"
      },
      "source": [
        "from numpy import array\n",
        "from numpy import asarray\n",
        "from numpy import zeros\n",
        "\n",
        "embeddings_dictionary = dict()\n",
        "glove_file = open('/content/gdrive/glove.twitter.27B.50d.txt', encoding=\"utf8\")\n",
        "\n",
        "for line in glove_file:\n",
        "    records = line.split()\n",
        "    word = records[0]\n",
        "    vector_dimensions = asarray(records[1:], dtype='float32')\n",
        "    embeddings_dictionary [word] = vector_dimensions\n",
        "glove_file.close()"
      ],
      "execution_count": null,
      "outputs": []
    },
    {
      "cell_type": "code",
      "metadata": {
        "id": "E-Na1Z5vZsCJ"
      },
      "source": [
        "vocab_size = len(tokenizer.word_index) + 1\n",
        "\n",
        "embedding_matrix = zeros((vocab_size, 50))\n",
        "for word, index in tokenizer.word_index.items():\n",
        "    embedding_vector = embeddings_dictionary.get(word)\n",
        "    if embedding_vector is not None:\n",
        "        embedding_matrix[index] = embedding_vector"
      ],
      "execution_count": null,
      "outputs": []
    },
    {
      "cell_type": "code",
      "metadata": {
        "id": "t9pL6TSeawvi",
        "colab": {
          "base_uri": "https://localhost:8080/"
        },
        "outputId": "95947fd0-565b-4153-dee2-dbbe07fccb78"
      },
      "source": [
        "from keras.layers import Bidirectional, Flatten, Reshape, Lambda\n",
        "from keras.layers.convolutional import Conv2D, MaxPooling2D \n",
        "from sklearn import metrics\n",
        "\n",
        "embed_dim = 50\n",
        "lstm_out = 50\n",
        "\n",
        "model = Sequential()\n",
        "model.add(Embedding(len(tokenizer.word_index) + 1, embed_dim, weights=[embedding_matrix], input_length = X.shape[1]))\n",
        "model.add(Dropout(0.2))\n",
        "model.add(Bidirectional(LSTM(lstm_out, return_sequences=True)))\n",
        "model.add(Dropout(0.5))\n",
        "model.add(Flatten())\n",
        "model.add(Dense(1,activation='sigmoid'))\n",
        "model.compile(loss = 'binary_crossentropy', optimizer='adam',metrics = ['accuracy'])\n",
        "model.summary()"
      ],
      "execution_count": null,
      "outputs": [
        {
          "output_type": "stream",
          "text": [
            "Model: \"sequential\"\n",
            "_________________________________________________________________\n",
            "Layer (type)                 Output Shape              Param #   \n",
            "=================================================================\n",
            "embedding (Embedding)        (None, 62, 50)            936200    \n",
            "_________________________________________________________________\n",
            "dropout (Dropout)            (None, 62, 50)            0         \n",
            "_________________________________________________________________\n",
            "bidirectional (Bidirectional (None, 62, 100)           40400     \n",
            "_________________________________________________________________\n",
            "dropout_1 (Dropout)          (None, 62, 100)           0         \n",
            "_________________________________________________________________\n",
            "flatten (Flatten)            (None, 6200)              0         \n",
            "_________________________________________________________________\n",
            "dense (Dense)                (None, 1)                 6201      \n",
            "=================================================================\n",
            "Total params: 982,801\n",
            "Trainable params: 982,801\n",
            "Non-trainable params: 0\n",
            "_________________________________________________________________\n"
          ],
          "name": "stdout"
        }
      ]
    },
    {
      "cell_type": "code",
      "metadata": {
        "colab": {
          "base_uri": "https://localhost:8080/"
        },
        "id": "GYJaK9KyE1Zo",
        "outputId": "98710f86-77d0-4e64-e03d-4aafbc60d879"
      },
      "source": [
        "model.fit(X_imdb, Y_imdb, epochs=10, batch_size=128)"
      ],
      "execution_count": null,
      "outputs": [
        {
          "output_type": "stream",
          "text": [
            "Epoch 1/10\n",
            "391/391 [==============================] - 29s 22ms/step - loss: 0.5912 - accuracy: 0.6682\n",
            "Epoch 2/10\n",
            "391/391 [==============================] - 8s 21ms/step - loss: 0.4125 - accuracy: 0.8090\n",
            "Epoch 3/10\n",
            "391/391 [==============================] - 8s 21ms/step - loss: 0.3709 - accuracy: 0.8323\n",
            "Epoch 4/10\n",
            "391/391 [==============================] - 8s 21ms/step - loss: 0.3327 - accuracy: 0.8530\n",
            "Epoch 5/10\n",
            "391/391 [==============================] - 8s 21ms/step - loss: 0.3146 - accuracy: 0.8621\n",
            "Epoch 6/10\n",
            "391/391 [==============================] - 8s 21ms/step - loss: 0.2959 - accuracy: 0.8735\n",
            "Epoch 7/10\n",
            "391/391 [==============================] - 8s 21ms/step - loss: 0.2757 - accuracy: 0.8818\n",
            "Epoch 8/10\n",
            "391/391 [==============================] - 8s 21ms/step - loss: 0.2635 - accuracy: 0.8882\n",
            "Epoch 9/10\n",
            "391/391 [==============================] - 8s 21ms/step - loss: 0.2492 - accuracy: 0.8946\n",
            "Epoch 10/10\n",
            "391/391 [==============================] - 8s 21ms/step - loss: 0.2363 - accuracy: 0.8995\n"
          ],
          "name": "stdout"
        },
        {
          "output_type": "execute_result",
          "data": {
            "text/plain": [
              "<keras.callbacks.History at 0x7f15464d2610>"
            ]
          },
          "metadata": {
            "tags": []
          },
          "execution_count": 27
        }
      ]
    },
    {
      "cell_type": "code",
      "metadata": {
        "colab": {
          "base_uri": "https://localhost:8080/"
        },
        "id": "L7_Kb-EdBS-k",
        "outputId": "10add835-99d1-4a36-af23-0aa0fac0044d"
      },
      "source": [
        "model.fit(X_train, Y_train, epochs=50, batch_size=128)"
      ],
      "execution_count": null,
      "outputs": [
        {
          "output_type": "stream",
          "text": [
            "Epoch 1/50\n",
            "80/80 [==============================] - 2s 22ms/step - loss: 0.2393 - accuracy: 0.9303\n",
            "Epoch 2/50\n",
            "80/80 [==============================] - 2s 21ms/step - loss: 0.1644 - accuracy: 0.9472\n",
            "Epoch 3/50\n",
            "80/80 [==============================] - 2s 21ms/step - loss: 0.1328 - accuracy: 0.9550\n",
            "Epoch 4/50\n",
            "80/80 [==============================] - 2s 21ms/step - loss: 0.1114 - accuracy: 0.9614\n",
            "Epoch 5/50\n",
            "80/80 [==============================] - 2s 21ms/step - loss: 0.0954 - accuracy: 0.9659\n",
            "Epoch 6/50\n",
            "80/80 [==============================] - 2s 20ms/step - loss: 0.0836 - accuracy: 0.9708\n",
            "Epoch 7/50\n",
            "80/80 [==============================] - 2s 20ms/step - loss: 0.0693 - accuracy: 0.9755\n",
            "Epoch 8/50\n",
            "80/80 [==============================] - 2s 21ms/step - loss: 0.0582 - accuracy: 0.9793\n",
            "Epoch 9/50\n",
            "80/80 [==============================] - 2s 20ms/step - loss: 0.0471 - accuracy: 0.9833\n",
            "Epoch 10/50\n",
            "80/80 [==============================] - 2s 21ms/step - loss: 0.0401 - accuracy: 0.9858\n",
            "Epoch 11/50\n",
            "80/80 [==============================] - 2s 21ms/step - loss: 0.0355 - accuracy: 0.9883\n",
            "Epoch 12/50\n",
            "80/80 [==============================] - 2s 20ms/step - loss: 0.0334 - accuracy: 0.9885\n",
            "Epoch 13/50\n",
            "80/80 [==============================] - 2s 20ms/step - loss: 0.0241 - accuracy: 0.9909\n",
            "Epoch 14/50\n",
            "80/80 [==============================] - 2s 20ms/step - loss: 0.0251 - accuracy: 0.9906\n",
            "Epoch 15/50\n",
            "80/80 [==============================] - 2s 20ms/step - loss: 0.0179 - accuracy: 0.9939\n",
            "Epoch 16/50\n",
            "80/80 [==============================] - 2s 21ms/step - loss: 0.0184 - accuracy: 0.9941\n",
            "Epoch 17/50\n",
            "80/80 [==============================] - 2s 20ms/step - loss: 0.0154 - accuracy: 0.9947\n",
            "Epoch 18/50\n",
            "80/80 [==============================] - 2s 20ms/step - loss: 0.0153 - accuracy: 0.9943\n",
            "Epoch 19/50\n",
            "80/80 [==============================] - 2s 20ms/step - loss: 0.0152 - accuracy: 0.9951\n",
            "Epoch 20/50\n",
            "80/80 [==============================] - 2s 20ms/step - loss: 0.0131 - accuracy: 0.9962\n",
            "Epoch 21/50\n",
            "80/80 [==============================] - 2s 20ms/step - loss: 0.0105 - accuracy: 0.9964\n",
            "Epoch 22/50\n",
            "80/80 [==============================] - 2s 20ms/step - loss: 0.0089 - accuracy: 0.9973\n",
            "Epoch 23/50\n",
            "80/80 [==============================] - 2s 21ms/step - loss: 0.0084 - accuracy: 0.9977\n",
            "Epoch 24/50\n",
            "80/80 [==============================] - 2s 21ms/step - loss: 0.0081 - accuracy: 0.9964\n",
            "Epoch 25/50\n",
            "80/80 [==============================] - 2s 20ms/step - loss: 0.0063 - accuracy: 0.9979\n",
            "Epoch 26/50\n",
            "80/80 [==============================] - 2s 20ms/step - loss: 0.0070 - accuracy: 0.9973\n",
            "Epoch 27/50\n",
            "80/80 [==============================] - 2s 20ms/step - loss: 0.0073 - accuracy: 0.9976\n",
            "Epoch 28/50\n",
            "80/80 [==============================] - 2s 20ms/step - loss: 0.0063 - accuracy: 0.9978\n",
            "Epoch 29/50\n",
            "80/80 [==============================] - 2s 20ms/step - loss: 0.0058 - accuracy: 0.9980\n",
            "Epoch 30/50\n",
            "80/80 [==============================] - 2s 20ms/step - loss: 0.0049 - accuracy: 0.9986\n",
            "Epoch 31/50\n",
            "80/80 [==============================] - 2s 20ms/step - loss: 0.0068 - accuracy: 0.9978\n",
            "Epoch 32/50\n",
            "80/80 [==============================] - 2s 20ms/step - loss: 0.0050 - accuracy: 0.9982\n",
            "Epoch 33/50\n",
            "80/80 [==============================] - 2s 20ms/step - loss: 0.0037 - accuracy: 0.9987\n",
            "Epoch 34/50\n",
            "80/80 [==============================] - 2s 20ms/step - loss: 0.0050 - accuracy: 0.9981\n",
            "Epoch 35/50\n",
            "80/80 [==============================] - 2s 20ms/step - loss: 0.0038 - accuracy: 0.9985\n",
            "Epoch 36/50\n",
            "80/80 [==============================] - 2s 20ms/step - loss: 0.0059 - accuracy: 0.9978\n",
            "Epoch 37/50\n",
            "80/80 [==============================] - 2s 20ms/step - loss: 0.0037 - accuracy: 0.9989\n",
            "Epoch 38/50\n",
            "80/80 [==============================] - 2s 20ms/step - loss: 0.0038 - accuracy: 0.9987\n",
            "Epoch 39/50\n",
            "80/80 [==============================] - 2s 21ms/step - loss: 0.0054 - accuracy: 0.9980\n",
            "Epoch 40/50\n",
            "80/80 [==============================] - 2s 20ms/step - loss: 0.0030 - accuracy: 0.9990\n",
            "Epoch 41/50\n",
            "80/80 [==============================] - 2s 20ms/step - loss: 0.0035 - accuracy: 0.9987\n",
            "Epoch 42/50\n",
            "80/80 [==============================] - 2s 21ms/step - loss: 0.0031 - accuracy: 0.9989\n",
            "Epoch 43/50\n",
            "80/80 [==============================] - 2s 20ms/step - loss: 0.0032 - accuracy: 0.9990\n",
            "Epoch 44/50\n",
            "80/80 [==============================] - 2s 20ms/step - loss: 0.0035 - accuracy: 0.9986\n",
            "Epoch 45/50\n",
            "80/80 [==============================] - 2s 20ms/step - loss: 0.0032 - accuracy: 0.9989\n",
            "Epoch 46/50\n",
            "80/80 [==============================] - 2s 20ms/step - loss: 0.0047 - accuracy: 0.9987\n",
            "Epoch 47/50\n",
            "80/80 [==============================] - 2s 21ms/step - loss: 0.0030 - accuracy: 0.9992\n",
            "Epoch 48/50\n",
            "80/80 [==============================] - 2s 21ms/step - loss: 0.0022 - accuracy: 0.9993\n",
            "Epoch 49/50\n",
            "80/80 [==============================] - 2s 21ms/step - loss: 0.0032 - accuracy: 0.9990\n",
            "Epoch 50/50\n",
            "80/80 [==============================] - 2s 21ms/step - loss: 0.0017 - accuracy: 0.9995\n"
          ],
          "name": "stdout"
        },
        {
          "output_type": "execute_result",
          "data": {
            "text/plain": [
              "<keras.callbacks.History at 0x7f1520171610>"
            ]
          },
          "metadata": {
            "tags": []
          },
          "execution_count": 28
        }
      ]
    },
    {
      "cell_type": "code",
      "metadata": {
        "colab": {
          "base_uri": "https://localhost:8080/"
        },
        "id": "df-7SLVvBS79",
        "outputId": "6e08a363-630a-4eca-ee6b-a288a8bc7561"
      },
      "source": [
        "print(\"\\n 테스트 정확도: %.4f\" % (model.evaluate(X_test, Y_test)[1]))"
      ],
      "execution_count": null,
      "outputs": [
        {
          "output_type": "stream",
          "text": [
            "80/80 [==============================] - 2s 5ms/step - loss: 0.3986 - accuracy: 0.9515\n",
            "\n",
            " 테스트 정확도: 0.9515\n"
          ],
          "name": "stdout"
        }
      ]
    },
    {
      "cell_type": "code",
      "metadata": {
        "id": "XkvtnBF0BS4q"
      },
      "source": [
        "predict_test = (model.predict(X_test) >= 0.5) "
      ],
      "execution_count": null,
      "outputs": []
    },
    {
      "cell_type": "code",
      "metadata": {
        "colab": {
          "base_uri": "https://localhost:8080/"
        },
        "id": "vugKW-J-BgSE",
        "outputId": "891cf784-1f3d-48a6-8275-073bc387afb9"
      },
      "source": [
        "from sklearn import metrics\n",
        "\n",
        "print('Accuracy:\\n',\n",
        "      metrics.accuracy_score(Y_test, predict_test))"
      ],
      "execution_count": null,
      "outputs": [
        {
          "output_type": "stream",
          "text": [
            "Accuracy:\n",
            " 0.95146771037182\n"
          ],
          "name": "stdout"
        }
      ]
    },
    {
      "cell_type": "code",
      "metadata": {
        "colab": {
          "base_uri": "https://localhost:8080/"
        },
        "id": "jyw1Yh_aBb5Y",
        "outputId": "05e0840e-26e9-4706-fe84-75f4a17369d6"
      },
      "source": [
        "print('\\nPrecision:\\n',\n",
        "      metrics.precision_score(Y_test, predict_test, average=None))\n",
        "print('\\nRecall:\\n',\n",
        "      metrics.recall_score(Y_test, predict_test, average=None))\n",
        "print('\\nF-measure:\\n',\n",
        "      metrics.f1_score(Y_test, predict_test, average=None))"
      ],
      "execution_count": null,
      "outputs": [
        {
          "output_type": "stream",
          "text": [
            "\n",
            "Precision:\n",
            " [0.57364341 0.97155812]\n",
            "\n",
            "Recall:\n",
            " [0.51748252 0.97719735]\n",
            "\n",
            "F-measure:\n",
            " [0.54411765 0.97436957]\n"
          ],
          "name": "stdout"
        }
      ]
    }
  ]
}
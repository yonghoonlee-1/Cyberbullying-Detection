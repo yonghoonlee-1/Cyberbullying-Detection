{
  "nbformat": 4,
  "nbformat_minor": 0,
  "metadata": {
    "colab": {
      "name": "Twitter_Racism.CNN-BiLSTM",
      "provenance": [],
      "authorship_tag": "ABX9TyMQ9bMCC0ZQ7AFEPGquWORk",
      "include_colab_link": true
    },
    "kernelspec": {
      "name": "python3",
      "display_name": "Python 3"
    },
    "accelerator": "GPU"
  },
  "cells": [
    {
      "cell_type": "markdown",
      "metadata": {
        "id": "view-in-github",
        "colab_type": "text"
      },
      "source": [
        "<a href=\"https://colab.research.google.com/github/yonghoonlee-1/Cyberbullying-Detection/blob/main/Twitter_Racism_CNN_BiLSTM.ipynb\" target=\"_parent\"><img src=\"https://colab.research.google.com/assets/colab-badge.svg\" alt=\"Open In Colab\"/></a>"
      ]
    },
    {
      "cell_type": "code",
      "metadata": {
        "id": "cj7tffTOTK8O",
        "colab": {
          "base_uri": "https://localhost:8080/"
        },
        "outputId": "d132cd70-8090-45ab-dfc9-ab6c8237f543"
      },
      "source": [
        "from google.colab import drive\n",
        "drive.mount('/gdrive')\n",
        "!rm -rf /content/gdrive\n",
        "!ln -s \"/gdrive/My Drive\" /content/gdrive\n",
        "%cd /content/gdrive"
      ],
      "execution_count": null,
      "outputs": [
        {
          "output_type": "stream",
          "text": [
            "Drive already mounted at /gdrive; to attempt to forcibly remount, call drive.mount(\"/gdrive\", force_remount=True).\n",
            "/gdrive/My Drive\n"
          ],
          "name": "stdout"
        }
      ]
    },
    {
      "cell_type": "code",
      "metadata": {
        "id": "r0QwqxZnTFRO"
      },
      "source": [
        "import keras\n",
        "from keras.preprocessing.sequence import pad_sequences\n",
        "from keras.models import Sequential\n",
        "from keras.layers import Dense, Dropout, Embedding, LSTM\n",
        "import pandas as pd\n",
        "import numpy as np\n",
        "import re\n",
        "from keras.preprocessing.text import Tokenizer\n",
        "from sklearn.model_selection import train_test_split"
      ],
      "execution_count": null,
      "outputs": []
    },
    {
      "cell_type": "code",
      "metadata": {
        "id": "cQNAs-AbTNp1"
      },
      "source": [
        "twitter=pd.read_csv(\"Cyberbullying_Twitter Racism.csv\", encoding='latin1')"
      ],
      "execution_count": null,
      "outputs": []
    },
    {
      "cell_type": "code",
      "metadata": {
        "id": "FVEeMmVYTTlO",
        "colab": {
          "base_uri": "https://localhost:8080/"
        },
        "outputId": "8653eedf-34f3-4a55-d963-5c4668a89c5d"
      },
      "source": [
        "twitter.head(10)"
      ],
      "execution_count": null,
      "outputs": [
        {
          "output_type": "execute_result",
          "data": {
            "text/html": [
              "<div>\n",
              "<style scoped>\n",
              "    .dataframe tbody tr th:only-of-type {\n",
              "        vertical-align: middle;\n",
              "    }\n",
              "\n",
              "    .dataframe tbody tr th {\n",
              "        vertical-align: top;\n",
              "    }\n",
              "\n",
              "    .dataframe thead th {\n",
              "        text-align: right;\n",
              "    }\n",
              "</style>\n",
              "<table border=\"1\" class=\"dataframe\">\n",
              "  <thead>\n",
              "    <tr style=\"text-align: right;\">\n",
              "      <th></th>\n",
              "      <th>sentence</th>\n",
              "      <th>sentiment</th>\n",
              "    </tr>\n",
              "  </thead>\n",
              "  <tbody>\n",
              "    <tr>\n",
              "      <th>0</th>\n",
              "      <td>RT @colonelkickhead: Another bloody instant re...</td>\n",
              "      <td>none</td>\n",
              "    </tr>\n",
              "    <tr>\n",
              "      <th>1</th>\n",
              "      <td>@azzamalirhabi @JihadiA8 This video of the Pes...</td>\n",
              "      <td>none</td>\n",
              "    </tr>\n",
              "    <tr>\n",
              "      <th>2</th>\n",
              "      <td>Oh really? No more instant restaurants? THAT'S...</td>\n",
              "      <td>none</td>\n",
              "    </tr>\n",
              "    <tr>\n",
              "      <th>3</th>\n",
              "      <td>RT @Benfrancisallen: It hasn't been a good few...</td>\n",
              "      <td>none</td>\n",
              "    </tr>\n",
              "    <tr>\n",
              "      <th>4</th>\n",
              "      <td>RT @NoToFeminism: I donât need femisnsn beca...</td>\n",
              "      <td>none</td>\n",
              "    </tr>\n",
              "    <tr>\n",
              "      <th>5</th>\n",
              "      <td>@MariachiMacabre 19% is not the vast majority</td>\n",
              "      <td>none</td>\n",
              "    </tr>\n",
              "    <tr>\n",
              "      <th>6</th>\n",
              "      <td>@DianH4 @ExposeFalsehood And it is Muslims who...</td>\n",
              "      <td>racism</td>\n",
              "    </tr>\n",
              "    <tr>\n",
              "      <th>7</th>\n",
              "      <td>@truaemusic @mattybboi83 @Number10gov Capital ...</td>\n",
              "      <td>racism</td>\n",
              "    </tr>\n",
              "    <tr>\n",
              "      <th>8</th>\n",
              "      <td>Gather round kids. It's story time brought to ...</td>\n",
              "      <td>none</td>\n",
              "    </tr>\n",
              "    <tr>\n",
              "      <th>9</th>\n",
              "      <td>Did you hear that? That's the sound of a bunch...</td>\n",
              "      <td>none</td>\n",
              "    </tr>\n",
              "  </tbody>\n",
              "</table>\n",
              "</div>"
            ],
            "text/plain": [
              "                                            sentence sentiment\n",
              "0  RT @colonelkickhead: Another bloody instant re...      none\n",
              "1  @azzamalirhabi @JihadiA8 This video of the Pes...      none\n",
              "2  Oh really? No more instant restaurants? THAT'S...      none\n",
              "3  RT @Benfrancisallen: It hasn't been a good few...      none\n",
              "4  RT @NoToFeminism: I donât need femisnsn beca...      none\n",
              "5      @MariachiMacabre 19% is not the vast majority      none\n",
              "6  @DianH4 @ExposeFalsehood And it is Muslims who...    racism\n",
              "7  @truaemusic @mattybboi83 @Number10gov Capital ...    racism\n",
              "8  Gather round kids. It's story time brought to ...      none\n",
              "9  Did you hear that? That's the sound of a bunch...      none"
            ]
          },
          "metadata": {
            "tags": []
          },
          "execution_count": 4
        }
      ]
    },
    {
      "cell_type": "code",
      "metadata": {
        "id": "sBPSTpSPTVXJ"
      },
      "source": [
        "data = twitter[['sentence','sentiment']]"
      ],
      "execution_count": null,
      "outputs": []
    },
    {
      "cell_type": "code",
      "metadata": {
        "id": "jf2HNdhuTW5a",
        "colab": {
          "base_uri": "https://localhost:8080/"
        },
        "outputId": "e9e6ead4-05bd-494e-e841-1ae8654c18a2"
      },
      "source": [
        "import string\n",
        "\n",
        "data['sentence'] = data['sentence'].apply(lambda x: x.lower())\n",
        "data['sentence'] = data['sentence'].apply((lambda x: re.sub(r\"\\brt\\b\", \"\", x).strip()))\n",
        "data['sentence'] = data['sentence'].apply((lambda x: re.sub(r\"(https?|http)://[-a-zA-Z0-9+&@#/%?=~_|!:,.;]*[-a-zA-Z0-9+&@#/%=~_|]\", \"\", x)))\n",
        "data['sentence'] = data['sentence'].apply(lambda x: \"\".join(l for l in x if l not in string.punctuation))\n",
        "print(data[ data['sentiment'] == 'none'].size)\n",
        "print(data[ data['sentiment'] == 'racism'].size)"
      ],
      "execution_count": null,
      "outputs": [
        {
          "output_type": "stream",
          "text": [
            "21504\n",
            "3780\n"
          ],
          "name": "stdout"
        }
      ]
    },
    {
      "cell_type": "code",
      "metadata": {
        "id": "iLpOzdFTcGK9"
      },
      "source": [
        "def text_to_wordlist(text, remove_stopwords=True):    \n",
        "\n",
        "    text = text.lower().split()\n",
        "    \n",
        "    if remove_stopwords:\n",
        "        text = [wordnet_lemmatizer.lemmatize(w) for w in text]\n",
        "        text = [w for w in text if w != \"nan\" ]\n",
        "    \n",
        "    text = \" \".join(text)\n",
        "\n",
        "    return(text)"
      ],
      "execution_count": null,
      "outputs": []
    },
    {
      "cell_type": "code",
      "metadata": {
        "id": "RjXTn6nqcIvn",
        "colab": {
          "base_uri": "https://localhost:8080/"
        },
        "outputId": "d375ef1a-3db8-4db4-eb65-2413eae912fc"
      },
      "source": [
        "import nltk\n",
        "from nltk.stem import WordNetLemmatizer\n",
        "\n",
        "nltk.download('wordnet')\n",
        "wordnet_lemmatizer = WordNetLemmatizer()"
      ],
      "execution_count": null,
      "outputs": [
        {
          "output_type": "stream",
          "text": [
            "[nltk_data] Downloading package wordnet to /root/nltk_data...\n",
            "[nltk_data]   Package wordnet is already up-to-date!\n"
          ],
          "name": "stdout"
        }
      ]
    },
    {
      "cell_type": "code",
      "metadata": {
        "id": "xbaW44d3AUdM"
      },
      "source": [
        "data['sentence'] = data.apply(lambda row: text_to_wordlist(row.sentence).split(), axis=1)"
      ],
      "execution_count": null,
      "outputs": []
    },
    {
      "cell_type": "code",
      "metadata": {
        "id": "RxoIrxL1TYjU"
      },
      "source": [
        "tokenizer = Tokenizer(split=' ')\n",
        "tokenizer.fit_on_texts(data['sentence'].values)\n",
        "X = tokenizer.texts_to_sequences(data['sentence'].values)\n",
        "X = pad_sequences(X, maxlen=26)"
      ],
      "execution_count": null,
      "outputs": []
    },
    {
      "cell_type": "code",
      "metadata": {
        "id": "B5aOKeVqiLUO"
      },
      "source": [
        "Y = pd.get_dummies(data['sentiment']).values"
      ],
      "execution_count": null,
      "outputs": []
    },
    {
      "cell_type": "code",
      "metadata": {
        "id": "lpm61i3diQ2n",
        "colab": {
          "base_uri": "https://localhost:8080/"
        },
        "outputId": "b062f31e-aaa6-4696-ab74-d3a75e7c85ef"
      },
      "source": [
        "print(X.shape)"
      ],
      "execution_count": null,
      "outputs": [
        {
          "output_type": "stream",
          "text": [
            "(12642, 26)\n"
          ],
          "name": "stdout"
        }
      ]
    },
    {
      "cell_type": "code",
      "metadata": {
        "id": "kL6tIcZ4NLlC"
      },
      "source": [
        "from sklearn.model_selection import KFold\n",
        "\n",
        "skf = KFold(n_splits=5, shuffle=True)\n",
        "accuracy = []\n",
        "precision = []\n",
        "recall = []\n",
        "f1_score = []"
      ],
      "execution_count": null,
      "outputs": []
    },
    {
      "cell_type": "code",
      "metadata": {
        "id": "t2rF3pYyTaVD"
      },
      "source": [
        "from numpy import array\n",
        "from numpy import asarray\n",
        "from numpy import zeros\n",
        "\n",
        "embeddings_dictionary = dict()\n",
        "glove_file = open('/content/gdrive/glove.twitter.27B.50d.txt', encoding=\"utf8\")\n",
        "\n",
        "for line in glove_file:\n",
        "    records = line.split()\n",
        "    word = records[0]\n",
        "    vector_dimensions = asarray(records[1:], dtype='float32')\n",
        "    embeddings_dictionary [word] = vector_dimensions\n",
        "glove_file.close()"
      ],
      "execution_count": null,
      "outputs": []
    },
    {
      "cell_type": "code",
      "metadata": {
        "id": "E-Na1Z5vZsCJ"
      },
      "source": [
        "vocab_size = len(tokenizer.word_index) + 1\n",
        "\n",
        "embedding_matrix = zeros((vocab_size, 50))\n",
        "for word, index in tokenizer.word_index.items():\n",
        "    embedding_vector = embeddings_dictionary.get(word)\n",
        "    if embedding_vector is not None:\n",
        "        embedding_matrix[index] = embedding_vector"
      ],
      "execution_count": null,
      "outputs": []
    },
    {
      "cell_type": "code",
      "metadata": {
        "id": "t9pL6TSeawvi",
        "colab": {
          "base_uri": "https://localhost:8080/"
        },
        "outputId": "81d7e02a-0cfe-4837-cf52-01df23d51674"
      },
      "source": [
        "from keras.layers import Bidirectional, Flatten\n",
        "from keras.layers.convolutional import Conv1D, MaxPooling1D\n",
        "from sklearn import metrics\n",
        "from sklearn.utils import shuffle\n",
        "\n",
        "X, Y = shuffle(X, Y, random_state=42)\n",
        "\n",
        "embed_dim = 50\n",
        "lstm_out = 50\n",
        "for train, validation in skf.split(X, Y):\n",
        "    model = Sequential()\n",
        "    model.add(Embedding(len(tokenizer.word_index) + 1, embed_dim, weights=[embedding_matrix], input_length = X.shape[1]))\n",
        "    model.add(Dropout(0.25))\n",
        "    model.add(Conv1D(filters=128, kernel_size=3, padding='same', activation='relu'))\n",
        "    model.add(MaxPooling1D(pool_size=2))\n",
        "    model.add(Bidirectional(LSTM(lstm_out, return_sequences=True)))\n",
        "    model.add(Dropout(0.5))\n",
        "    model.add(Flatten())\n",
        "    model.add(Dense(2,activation='softmax'))\n",
        "    model.compile(loss = 'categorical_crossentropy', optimizer='adam',metrics = ['accuracy'])\n",
        "    model.fit(X[train], Y[train], epochs=10, batch_size=128)\n",
        "    k_accuracy = '%.4f' % (model.evaluate(X[validation], Y[validation])[1])\n",
        "    predict_test = (model.predict(X[validation]) >= 0.5) \n",
        "    k_precision = metrics.precision_score(Y[validation], predict_test, average=None)\n",
        "    k_recall = metrics.recall_score(Y[validation], predict_test, average=None)\n",
        "    k_f1_score = metrics.f1_score(Y[validation], predict_test, average=None)\n",
        "    accuracy.append(k_accuracy)\n",
        "    precision.append(k_precision)\n",
        "    recall.append(k_recall)\n",
        "    f1_score.append(k_f1_score)"
      ],
      "execution_count": null,
      "outputs": [
        {
          "output_type": "stream",
          "text": [
            "Epoch 1/10\n",
            "80/80 [==============================] - 6s 15ms/step - loss: 0.4528 - accuracy: 0.8227\n",
            "Epoch 2/10\n",
            "80/80 [==============================] - 1s 15ms/step - loss: 0.2154 - accuracy: 0.9041\n",
            "Epoch 3/10\n",
            "80/80 [==============================] - 1s 14ms/step - loss: 0.1702 - accuracy: 0.9297\n",
            "Epoch 4/10\n",
            "80/80 [==============================] - 1s 14ms/step - loss: 0.1558 - accuracy: 0.9319\n",
            "Epoch 5/10\n",
            "80/80 [==============================] - 1s 13ms/step - loss: 0.1346 - accuracy: 0.9405\n",
            "Epoch 6/10\n",
            "80/80 [==============================] - 1s 13ms/step - loss: 0.1112 - accuracy: 0.9518\n",
            "Epoch 7/10\n",
            "80/80 [==============================] - 1s 13ms/step - loss: 0.1050 - accuracy: 0.9557\n",
            "Epoch 8/10\n",
            "80/80 [==============================] - 1s 13ms/step - loss: 0.0849 - accuracy: 0.9684\n",
            "Epoch 9/10\n",
            "80/80 [==============================] - 1s 14ms/step - loss: 0.0771 - accuracy: 0.9690\n",
            "Epoch 10/10\n",
            "80/80 [==============================] - 1s 14ms/step - loss: 0.0667 - accuracy: 0.9757\n",
            "80/80 [==============================] - 1s 3ms/step - loss: 0.2408 - accuracy: 0.9272\n",
            "Epoch 1/10\n",
            "80/80 [==============================] - 4s 14ms/step - loss: 0.3872 - accuracy: 0.8497\n",
            "Epoch 2/10\n",
            "80/80 [==============================] - 1s 14ms/step - loss: 0.2515 - accuracy: 0.8881\n",
            "Epoch 3/10\n",
            "80/80 [==============================] - 1s 14ms/step - loss: 0.1869 - accuracy: 0.9185\n",
            "Epoch 4/10\n",
            "80/80 [==============================] - 1s 14ms/step - loss: 0.1555 - accuracy: 0.9306\n",
            "Epoch 5/10\n",
            "80/80 [==============================] - 1s 14ms/step - loss: 0.1408 - accuracy: 0.9404\n",
            "Epoch 6/10\n",
            "80/80 [==============================] - 1s 14ms/step - loss: 0.1255 - accuracy: 0.9464\n",
            "Epoch 7/10\n",
            "80/80 [==============================] - 1s 14ms/step - loss: 0.1105 - accuracy: 0.9543\n",
            "Epoch 8/10\n",
            "80/80 [==============================] - 1s 14ms/step - loss: 0.0969 - accuracy: 0.9626\n",
            "Epoch 9/10\n",
            "80/80 [==============================] - 1s 15ms/step - loss: 0.0855 - accuracy: 0.9650\n",
            "Epoch 10/10\n",
            "80/80 [==============================] - 1s 14ms/step - loss: 0.0707 - accuracy: 0.9712\n",
            "80/80 [==============================] - 1s 3ms/step - loss: 0.2027 - accuracy: 0.9332\n",
            "Epoch 1/10\n",
            "80/80 [==============================] - 4s 15ms/step - loss: 0.3927 - accuracy: 0.8573\n",
            "Epoch 2/10\n",
            "80/80 [==============================] - 1s 14ms/step - loss: 0.2014 - accuracy: 0.9157\n",
            "Epoch 3/10\n",
            "80/80 [==============================] - 1s 14ms/step - loss: 0.1746 - accuracy: 0.9268\n",
            "Epoch 4/10\n",
            "80/80 [==============================] - 1s 15ms/step - loss: 0.1674 - accuracy: 0.9279\n",
            "Epoch 5/10\n",
            "80/80 [==============================] - 1s 14ms/step - loss: 0.1409 - accuracy: 0.9421\n",
            "Epoch 6/10\n",
            "80/80 [==============================] - 1s 15ms/step - loss: 0.1109 - accuracy: 0.9541\n",
            "Epoch 7/10\n",
            "80/80 [==============================] - 1s 14ms/step - loss: 0.1570 - accuracy: 0.9319\n",
            "Epoch 8/10\n",
            "80/80 [==============================] - 1s 14ms/step - loss: 0.0945 - accuracy: 0.9609\n",
            "Epoch 9/10\n",
            "80/80 [==============================] - 1s 14ms/step - loss: 0.0781 - accuracy: 0.9680\n",
            "Epoch 10/10\n",
            "80/80 [==============================] - 1s 14ms/step - loss: 0.0725 - accuracy: 0.9715\n",
            "79/79 [==============================] - 1s 3ms/step - loss: 0.1908 - accuracy: 0.9256\n",
            "Epoch 1/10\n",
            "80/80 [==============================] - 4s 15ms/step - loss: 0.4250 - accuracy: 0.8196\n",
            "Epoch 2/10\n",
            "80/80 [==============================] - 1s 14ms/step - loss: 0.2034 - accuracy: 0.9123\n",
            "Epoch 3/10\n",
            "80/80 [==============================] - 1s 15ms/step - loss: 0.1698 - accuracy: 0.9271\n",
            "Epoch 4/10\n",
            "80/80 [==============================] - 1s 14ms/step - loss: 0.1510 - accuracy: 0.9350\n",
            "Epoch 5/10\n",
            "80/80 [==============================] - 1s 14ms/step - loss: 0.1357 - accuracy: 0.9423\n",
            "Epoch 6/10\n",
            "80/80 [==============================] - 1s 14ms/step - loss: 0.1079 - accuracy: 0.9558\n",
            "Epoch 7/10\n",
            "80/80 [==============================] - 1s 14ms/step - loss: 0.1354 - accuracy: 0.9438\n",
            "Epoch 8/10\n",
            "80/80 [==============================] - 1s 14ms/step - loss: 0.0883 - accuracy: 0.9625\n",
            "Epoch 9/10\n",
            "80/80 [==============================] - 1s 13ms/step - loss: 0.0771 - accuracy: 0.9661\n",
            "Epoch 10/10\n",
            "80/80 [==============================] - 1s 14ms/step - loss: 0.0576 - accuracy: 0.9782\n",
            "79/79 [==============================] - 1s 3ms/step - loss: 0.2465 - accuracy: 0.9185\n",
            "Epoch 1/10\n",
            "80/80 [==============================] - 4s 14ms/step - loss: 0.4025 - accuracy: 0.8349\n",
            "Epoch 2/10\n",
            "80/80 [==============================] - 1s 14ms/step - loss: 0.2123 - accuracy: 0.9137\n",
            "Epoch 3/10\n",
            "80/80 [==============================] - 1s 14ms/step - loss: 0.1787 - accuracy: 0.9235\n",
            "Epoch 4/10\n",
            "80/80 [==============================] - 1s 13ms/step - loss: 0.1989 - accuracy: 0.9136\n",
            "Epoch 5/10\n",
            "80/80 [==============================] - 1s 14ms/step - loss: 0.1419 - accuracy: 0.9421\n",
            "Epoch 6/10\n",
            "80/80 [==============================] - 1s 14ms/step - loss: 0.1306 - accuracy: 0.9427\n",
            "Epoch 7/10\n",
            "80/80 [==============================] - 1s 15ms/step - loss: 0.1247 - accuracy: 0.9470\n",
            "Epoch 8/10\n",
            "80/80 [==============================] - 1s 14ms/step - loss: 0.0939 - accuracy: 0.9618\n",
            "Epoch 9/10\n",
            "80/80 [==============================] - 1s 14ms/step - loss: 0.0857 - accuracy: 0.9660\n",
            "Epoch 10/10\n",
            "80/80 [==============================] - 1s 14ms/step - loss: 0.0658 - accuracy: 0.9741\n",
            "79/79 [==============================] - 1s 3ms/step - loss: 0.2009 - accuracy: 0.9304\n"
          ],
          "name": "stdout"
        }
      ]
    },
    {
      "cell_type": "code",
      "metadata": {
        "id": "un-6cICmN6kL"
      },
      "source": [
        "def average(list):\n",
        "    return (sum(list) / len(list))"
      ],
      "execution_count": null,
      "outputs": []
    },
    {
      "cell_type": "code",
      "metadata": {
        "id": "H5tyltEFN7b3"
      },
      "source": [
        "accuracy = list(map(float, accuracy))"
      ],
      "execution_count": null,
      "outputs": []
    },
    {
      "cell_type": "code",
      "metadata": {
        "id": "B-Bf2U-eN9Ea",
        "colab": {
          "base_uri": "https://localhost:8080/"
        },
        "outputId": "5291dd31-3258-4344-ec8c-549a3de52dfb"
      },
      "source": [
        "print(average(accuracy))"
      ],
      "execution_count": null,
      "outputs": [
        {
          "output_type": "stream",
          "text": [
            "0.92698\n"
          ],
          "name": "stdout"
        }
      ]
    },
    {
      "cell_type": "code",
      "metadata": {
        "id": "4uRUxGJEN-Vc",
        "colab": {
          "base_uri": "https://localhost:8080/"
        },
        "outputId": "de96637c-3410-4925-abf2-3d935d3928f4"
      },
      "source": [
        "print(average(precision))"
      ],
      "execution_count": null,
      "outputs": [
        {
          "output_type": "stream",
          "text": [
            "[0.96358283 0.73932995]\n"
          ],
          "name": "stdout"
        }
      ]
    },
    {
      "cell_type": "code",
      "metadata": {
        "id": "AVseS-vuN_6l",
        "colab": {
          "base_uri": "https://localhost:8080/"
        },
        "outputId": "1b61b082-7afc-4990-ce09-8b1a05cca0aa"
      },
      "source": [
        "print(average(recall))"
      ],
      "execution_count": null,
      "outputs": [
        {
          "output_type": "stream",
          "text": [
            "[0.95007382 0.79349643]\n"
          ],
          "name": "stdout"
        }
      ]
    },
    {
      "cell_type": "code",
      "metadata": {
        "id": "M50vHyQMOBVH",
        "colab": {
          "base_uri": "https://localhost:8080/"
        },
        "outputId": "2dabb39c-0882-49de-a8c4-69ad72b589f1"
      },
      "source": [
        "print(average(f1_score))"
      ],
      "execution_count": null,
      "outputs": [
        {
          "output_type": "stream",
          "text": [
            "[0.95672777 0.76435712]\n"
          ],
          "name": "stdout"
        }
      ]
    },
    {
      "cell_type": "code",
      "metadata": {
        "id": "NX1PJsN2cLFp"
      },
      "source": [
        ""
      ],
      "execution_count": null,
      "outputs": []
    }
  ]
}
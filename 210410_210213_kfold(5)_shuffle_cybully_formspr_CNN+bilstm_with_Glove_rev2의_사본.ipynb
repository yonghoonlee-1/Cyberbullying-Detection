{
  "nbformat": 4,
  "nbformat_minor": 0,
  "metadata": {
    "colab": {
      "name": "210410_210213_kfold(5)_shuffle_cybully_formspr_CNN+bilstm_with Glove_rev2의 사본",
      "provenance": [],
      "collapsed_sections": [],
      "authorship_tag": "ABX9TyNSeKb7Y3V2zzDlWPwOg3Bl",
      "include_colab_link": true
    },
    "kernelspec": {
      "name": "python3",
      "display_name": "Python 3"
    },
    "accelerator": "GPU"
  },
  "cells": [
    {
      "cell_type": "markdown",
      "metadata": {
        "id": "view-in-github",
        "colab_type": "text"
      },
      "source": [
        "<a href=\"https://colab.research.google.com/github/yonghoonlee-1/Cyberbullying-Detection/blob/main/210410_210213_kfold(5)_shuffle_cybully_formspr_CNN%2Bbilstm_with_Glove_rev2%EC%9D%98_%EC%82%AC%EB%B3%B8.ipynb\" target=\"_parent\"><img src=\"https://colab.research.google.com/assets/colab-badge.svg\" alt=\"Open In Colab\"/></a>"
      ]
    },
    {
      "cell_type": "code",
      "metadata": {
        "id": "cj7tffTOTK8O",
        "colab": {
          "base_uri": "https://localhost:8080/"
        },
        "outputId": "20933cc5-3e19-458c-a51c-5c2b8b32fecd"
      },
      "source": [
        "from google.colab import drive\n",
        "drive.mount('/gdrive')\n",
        "!rm -rf /content/gdrive\n",
        "!ln -s \"/gdrive/My Drive\" /content/gdrive\n",
        "%cd /content/gdrive"
      ],
      "execution_count": 1,
      "outputs": [
        {
          "output_type": "stream",
          "text": [
            "Drive already mounted at /gdrive; to attempt to forcibly remount, call drive.mount(\"/gdrive\", force_remount=True).\n",
            "/gdrive/My Drive\n"
          ],
          "name": "stdout"
        }
      ]
    },
    {
      "cell_type": "code",
      "metadata": {
        "id": "r0QwqxZnTFRO"
      },
      "source": [
        "import keras\n",
        "from keras.preprocessing.sequence import pad_sequences\n",
        "from keras.models import Sequential\n",
        "from keras.layers import Dense, Dropout, Embedding, LSTM\n",
        "import pandas as pd\n",
        "import numpy as np\n",
        "import re\n",
        "from keras.preprocessing.text import Tokenizer\n",
        "from sklearn.model_selection import train_test_split"
      ],
      "execution_count": 2,
      "outputs": []
    },
    {
      "cell_type": "code",
      "metadata": {
        "id": "cQNAs-AbTNp1"
      },
      "source": [
        "formspring=pd.read_csv(\"/content/gdrive/formspring_data.csv\", encoding='latin1')"
      ],
      "execution_count": 3,
      "outputs": []
    },
    {
      "cell_type": "code",
      "metadata": {
        "id": "FVEeMmVYTTlO",
        "colab": {
          "base_uri": "https://localhost:8080/",
          "height": 359
        },
        "outputId": "ec629dde-328e-46d3-842a-51c7b6311bed"
      },
      "source": [
        "formspring.head(10)"
      ],
      "execution_count": 4,
      "outputs": [
        {
          "output_type": "execute_result",
          "data": {
            "text/html": [
              "<div>\n",
              "<style scoped>\n",
              "    .dataframe tbody tr th:only-of-type {\n",
              "        vertical-align: middle;\n",
              "    }\n",
              "\n",
              "    .dataframe tbody tr th {\n",
              "        vertical-align: top;\n",
              "    }\n",
              "\n",
              "    .dataframe thead th {\n",
              "        text-align: right;\n",
              "    }\n",
              "</style>\n",
              "<table border=\"1\" class=\"dataframe\">\n",
              "  <thead>\n",
              "    <tr style=\"text-align: right;\">\n",
              "      <th></th>\n",
              "      <th>sentence</th>\n",
              "      <th>sentiment</th>\n",
              "    </tr>\n",
              "  </thead>\n",
              "  <tbody>\n",
              "    <tr>\n",
              "      <th>0</th>\n",
              "      <td>Q: what&amp;#039;s your favorite song? :D&lt;br&gt;A: I ...</td>\n",
              "      <td>non-bully</td>\n",
              "    </tr>\n",
              "    <tr>\n",
              "      <th>1</th>\n",
              "      <td>Q: &lt;3&lt;br&gt;A: &lt;/3 ? haha jk! &lt;33</td>\n",
              "      <td>non-bully</td>\n",
              "    </tr>\n",
              "    <tr>\n",
              "      <th>2</th>\n",
              "      <td>Q: &amp;quot;hey angel  you duh sexy&amp;quot;&lt;br&gt;A: R...</td>\n",
              "      <td>non-bully</td>\n",
              "    </tr>\n",
              "    <tr>\n",
              "      <th>3</th>\n",
              "      <td>Q: (:&lt;br&gt;A: ;(</td>\n",
              "      <td>non-bully</td>\n",
              "    </tr>\n",
              "    <tr>\n",
              "      <th>4</th>\n",
              "      <td>Q: ******************MEOWWW*******************...</td>\n",
              "      <td>non-bully</td>\n",
              "    </tr>\n",
              "    <tr>\n",
              "      <th>5</th>\n",
              "      <td>Q: any makeup tips? i suck at doing my makeup ...</td>\n",
              "      <td>non-bully</td>\n",
              "    </tr>\n",
              "    <tr>\n",
              "      <th>6</th>\n",
              "      <td>Q: Apriiiiiiiiiiiill!!! I miss uuuu! It&amp;#039;s...</td>\n",
              "      <td>non-bully</td>\n",
              "    </tr>\n",
              "    <tr>\n",
              "      <th>7</th>\n",
              "      <td>Q: Are you a morning or night person?&lt;br&gt;A: Ni...</td>\n",
              "      <td>non-bully</td>\n",
              "    </tr>\n",
              "    <tr>\n",
              "      <th>8</th>\n",
              "      <td>Q: are you a trusting person?&lt;br&gt;A: alreadi an...</td>\n",
              "      <td>non-bully</td>\n",
              "    </tr>\n",
              "    <tr>\n",
              "      <th>9</th>\n",
              "      <td>Q: are you a trusting person?&lt;br&gt;A: Yes veryy ...</td>\n",
              "      <td>non-bully</td>\n",
              "    </tr>\n",
              "  </tbody>\n",
              "</table>\n",
              "</div>"
            ],
            "text/plain": [
              "                                            sentence  sentiment\n",
              "0  Q: what&#039;s your favorite song? :D<br>A: I ...  non-bully\n",
              "1                     Q: <3<br>A: </3 ? haha jk! <33  non-bully\n",
              "2  Q: &quot;hey angel  you duh sexy&quot;<br>A: R...  non-bully\n",
              "3                                     Q: (:<br>A: ;(  non-bully\n",
              "4  Q: ******************MEOWWW*******************...  non-bully\n",
              "5  Q: any makeup tips? i suck at doing my makeup ...  non-bully\n",
              "6  Q: Apriiiiiiiiiiiill!!! I miss uuuu! It&#039;s...  non-bully\n",
              "7  Q: Are you a morning or night person?<br>A: Ni...  non-bully\n",
              "8  Q: are you a trusting person?<br>A: alreadi an...  non-bully\n",
              "9  Q: are you a trusting person?<br>A: Yes veryy ...  non-bully"
            ]
          },
          "metadata": {
            "tags": []
          },
          "execution_count": 4
        }
      ]
    },
    {
      "cell_type": "code",
      "metadata": {
        "id": "sBPSTpSPTVXJ"
      },
      "source": [
        "data = formspring[['sentence','sentiment']]"
      ],
      "execution_count": 5,
      "outputs": []
    },
    {
      "cell_type": "code",
      "metadata": {
        "id": "jf2HNdhuTW5a",
        "colab": {
          "base_uri": "https://localhost:8080/"
        },
        "outputId": "b392881a-9664-42c9-e033-b9fb0a32b288"
      },
      "source": [
        "import string\n",
        "data['sentence'] = data['sentence'].apply(lambda x: x.replace('Q:',' ').replace('A:',' ').replace('<br>',' '))\n",
        "data['sentence'] = data['sentence'].apply(lambda x: x.lower())\n",
        "data['sentence'] = data['sentence'].apply(lambda x: \"\".join(l for l in x if l not in string.punctuation))\n",
        "print(data[ data['sentiment'] == 'non-bully'].size)\n",
        "print(data[ data['sentiment'] == 'bully'].size)"
      ],
      "execution_count": 6,
      "outputs": [
        {
          "output_type": "stream",
          "text": [
            "23994\n",
            "1552\n"
          ],
          "name": "stdout"
        }
      ]
    },
    {
      "cell_type": "code",
      "metadata": {
        "id": "vIEsoWP0Uthn"
      },
      "source": [
        "def text_to_wordlist(text, remove_stopwords=True):    \n",
        "\n",
        "    text = text.lower().split()\n",
        "    \n",
        "    if remove_stopwords:\n",
        "        text = [wordnet_lemmatizer.lemmatize(w) for w in text]\n",
        "        text = [w for w in text if w != \"nan\" ]\n",
        "    \n",
        "    text = \" \".join(text)\n",
        "\n",
        "\n",
        "    return(text)"
      ],
      "execution_count": 7,
      "outputs": []
    },
    {
      "cell_type": "code",
      "metadata": {
        "id": "Q3HCHOs3UvOl",
        "colab": {
          "base_uri": "https://localhost:8080/"
        },
        "outputId": "203219f8-62ac-43d0-8d41-e6934aee3aab"
      },
      "source": [
        "import nltk\n",
        "from nltk.stem import WordNetLemmatizer\n",
        "\n",
        "nltk.download('wordnet')\n",
        "wordnet_lemmatizer = WordNetLemmatizer()"
      ],
      "execution_count": 8,
      "outputs": [
        {
          "output_type": "stream",
          "text": [
            "[nltk_data] Downloading package wordnet to /root/nltk_data...\n",
            "[nltk_data]   Package wordnet is already up-to-date!\n"
          ],
          "name": "stdout"
        }
      ]
    },
    {
      "cell_type": "code",
      "metadata": {
        "id": "nvXRs5oxUx5I"
      },
      "source": [
        "data['sentence'] = data.apply(lambda row: text_to_wordlist(row.sentence).split(), axis=1)"
      ],
      "execution_count": 9,
      "outputs": []
    },
    {
      "cell_type": "code",
      "metadata": {
        "id": "RxoIrxL1TYjU"
      },
      "source": [
        "tokenizer = Tokenizer(split=' ')\n",
        "tokenizer.fit_on_texts(data['sentence'].values)\n",
        "X = tokenizer.texts_to_sequences(data['sentence'].values)\n",
        "X = pad_sequences(X, maxlen=62)"
      ],
      "execution_count": 10,
      "outputs": []
    },
    {
      "cell_type": "code",
      "metadata": {
        "id": "6sa-shz7UOFh"
      },
      "source": [
        "Y = pd.get_dummies(data['sentiment']).values"
      ],
      "execution_count": 11,
      "outputs": []
    },
    {
      "cell_type": "code",
      "metadata": {
        "id": "QcpcjwBASJRj",
        "colab": {
          "base_uri": "https://localhost:8080/"
        },
        "outputId": "6b93d875-ecae-439b-d599-3a3ec6fa1005"
      },
      "source": [
        "print(X.shape)"
      ],
      "execution_count": 12,
      "outputs": [
        {
          "output_type": "stream",
          "text": [
            "(12773, 62)\n"
          ],
          "name": "stdout"
        }
      ]
    },
    {
      "cell_type": "code",
      "metadata": {
        "id": "jdNCYIXrb30M"
      },
      "source": [
        "from sklearn.model_selection import KFold\n",
        "\n",
        "skf = KFold(n_splits=5, shuffle=True)\n",
        "accuracy = []\n",
        "precision = []\n",
        "recall = []\n",
        "f1_score = []"
      ],
      "execution_count": 13,
      "outputs": []
    },
    {
      "cell_type": "code",
      "metadata": {
        "id": "t2rF3pYyTaVD"
      },
      "source": [
        "from numpy import array\n",
        "from numpy import asarray\n",
        "from numpy import zeros\n",
        "\n",
        "embeddings_dictionary = dict()\n",
        "glove_file = open('/content/gdrive/glove.twitter.27B.50d.txt', encoding=\"utf8\")\n",
        "\n",
        "for line in glove_file:\n",
        "    records = line.split()\n",
        "    word = records[0]\n",
        "    vector_dimensions = asarray(records[1:], dtype='float32')\n",
        "    embeddings_dictionary [word] = vector_dimensions\n",
        "glove_file.close()"
      ],
      "execution_count": 14,
      "outputs": []
    },
    {
      "cell_type": "code",
      "metadata": {
        "id": "E-Na1Z5vZsCJ"
      },
      "source": [
        "vocab_size = len(tokenizer.word_index) + 1\n",
        "\n",
        "embedding_matrix = zeros((vocab_size, 50))\n",
        "for word, index in tokenizer.word_index.items():\n",
        "    embedding_vector = embeddings_dictionary.get(word)\n",
        "    if embedding_vector is not None:\n",
        "        embedding_matrix[index] = embedding_vector"
      ],
      "execution_count": 15,
      "outputs": []
    },
    {
      "cell_type": "code",
      "metadata": {
        "id": "t9pL6TSeawvi",
        "colab": {
          "base_uri": "https://localhost:8080/"
        },
        "outputId": "c4bf1ad1-373f-4c7b-d291-fe33cf908bd4"
      },
      "source": [
        "from keras.layers import Bidirectional, Flatten\n",
        "from keras.layers.convolutional import Conv1D, MaxPooling1D \n",
        "from sklearn import metrics\n",
        "from sklearn.utils import shuffle\n",
        "\n",
        "X, Y = shuffle(X, Y, random_state=42)\n",
        "\n",
        "\n",
        "embed_dim = 50\n",
        "lstm_out = 50\n",
        "for train, validation in skf.split(X, Y):\n",
        "    model = Sequential()\n",
        "    model.add(Embedding(len(tokenizer.word_index) + 1, embed_dim, weights=[embedding_matrix], input_length = X.shape[1]))\n",
        "    model.add(Dropout(0.25))\n",
        "    model.add(Conv1D(filters=128, kernel_size=3, padding='same', activation='relu'))\n",
        "    model.add(MaxPooling1D(pool_size=2))\n",
        "    model.add(Bidirectional(LSTM(lstm_out, return_sequences=True)))\n",
        "    model.add(Dropout(0.5))\n",
        "    model.add(Flatten())\n",
        "    model.add(Dense(2,activation='softmax'))\n",
        "    model.compile(loss = 'categorical_crossentropy', optimizer='adam',metrics = ['accuracy'])\n",
        "    model.fit(X[train], Y[train], epochs=10, batch_size=128)\n",
        "    k_accuracy = '%.4f' % (model.evaluate(X[validation], Y[validation])[1])\n",
        "    predict_test = (model.predict(X[validation]) >= 0.5) \n",
        "    k_precision = metrics.precision_score(Y[validation], predict_test, average=None)\n",
        "    k_recall = metrics.recall_score(Y[validation], predict_test, average=None)\n",
        "    k_f1_score = metrics.f1_score(Y[validation], predict_test, average=None)\n",
        "    accuracy.append(k_accuracy)\n",
        "    precision.append(k_precision)\n",
        "    recall.append(k_recall)\n",
        "    f1_score.append(k_f1_score)"
      ],
      "execution_count": 16,
      "outputs": [
        {
          "output_type": "stream",
          "text": [
            "Epoch 1/10\n",
            "80/80 [==============================] - 7s 20ms/step - loss: 0.2965 - accuracy: 0.9124\n",
            "Epoch 2/10\n",
            "80/80 [==============================] - 1s 17ms/step - loss: 0.1794 - accuracy: 0.9441\n",
            "Epoch 3/10\n",
            "80/80 [==============================] - 1s 17ms/step - loss: 0.1478 - accuracy: 0.9492\n",
            "Epoch 4/10\n",
            "80/80 [==============================] - 1s 18ms/step - loss: 0.1265 - accuracy: 0.9559\n",
            "Epoch 5/10\n",
            "80/80 [==============================] - 1s 18ms/step - loss: 0.1101 - accuracy: 0.9583\n",
            "Epoch 6/10\n",
            "80/80 [==============================] - 1s 18ms/step - loss: 0.1012 - accuracy: 0.9620\n",
            "Epoch 7/10\n",
            "80/80 [==============================] - 1s 19ms/step - loss: 0.0909 - accuracy: 0.9658\n",
            "Epoch 8/10\n",
            "80/80 [==============================] - 2s 19ms/step - loss: 0.0655 - accuracy: 0.9759\n",
            "Epoch 9/10\n",
            "80/80 [==============================] - 2s 19ms/step - loss: 0.0688 - accuracy: 0.9737\n",
            "Epoch 10/10\n",
            "80/80 [==============================] - 2s 19ms/step - loss: 0.0498 - accuracy: 0.9811\n",
            "80/80 [==============================] - 1s 5ms/step - loss: 0.1587 - accuracy: 0.9534\n",
            "Epoch 1/10\n",
            "80/80 [==============================] - 4s 20ms/step - loss: 0.3084 - accuracy: 0.9142\n",
            "Epoch 2/10\n",
            "80/80 [==============================] - 2s 19ms/step - loss: 0.1874 - accuracy: 0.9409\n",
            "Epoch 3/10\n",
            "80/80 [==============================] - 2s 19ms/step - loss: 0.1488 - accuracy: 0.9489\n",
            "Epoch 4/10\n",
            "80/80 [==============================] - 2s 19ms/step - loss: 0.1325 - accuracy: 0.9542\n",
            "Epoch 5/10\n",
            "80/80 [==============================] - 2s 19ms/step - loss: 0.1119 - accuracy: 0.9618\n",
            "Epoch 6/10\n",
            "80/80 [==============================] - 2s 19ms/step - loss: 0.1060 - accuracy: 0.9634\n",
            "Epoch 7/10\n",
            "80/80 [==============================] - 2s 19ms/step - loss: 0.0915 - accuracy: 0.9663\n",
            "Epoch 8/10\n",
            "80/80 [==============================] - 2s 20ms/step - loss: 0.0812 - accuracy: 0.9704\n",
            "Epoch 9/10\n",
            "80/80 [==============================] - 2s 19ms/step - loss: 0.0584 - accuracy: 0.9760\n",
            "Epoch 10/10\n",
            "80/80 [==============================] - 2s 19ms/step - loss: 0.0477 - accuracy: 0.9836\n",
            "80/80 [==============================] - 1s 5ms/step - loss: 0.1916 - accuracy: 0.9507\n",
            "Epoch 1/10\n",
            "80/80 [==============================] - 4s 19ms/step - loss: 0.3028 - accuracy: 0.9067\n",
            "Epoch 2/10\n",
            "80/80 [==============================] - 2s 19ms/step - loss: 0.1706 - accuracy: 0.9437\n",
            "Epoch 3/10\n",
            "80/80 [==============================] - 2s 19ms/step - loss: 0.1449 - accuracy: 0.9490\n",
            "Epoch 4/10\n",
            "80/80 [==============================] - 2s 19ms/step - loss: 0.1259 - accuracy: 0.9558\n",
            "Epoch 5/10\n",
            "80/80 [==============================] - 2s 19ms/step - loss: 0.1037 - accuracy: 0.9641\n",
            "Epoch 6/10\n",
            "80/80 [==============================] - 2s 20ms/step - loss: 0.0992 - accuracy: 0.9649\n",
            "Epoch 7/10\n",
            "80/80 [==============================] - 2s 19ms/step - loss: 0.0788 - accuracy: 0.9706\n",
            "Epoch 8/10\n",
            "80/80 [==============================] - 2s 19ms/step - loss: 0.0636 - accuracy: 0.9753\n",
            "Epoch 9/10\n",
            "80/80 [==============================] - 2s 19ms/step - loss: 0.0617 - accuracy: 0.9766\n",
            "Epoch 10/10\n",
            "80/80 [==============================] - 2s 19ms/step - loss: 0.0485 - accuracy: 0.9814\n",
            "80/80 [==============================] - 1s 4ms/step - loss: 0.1986 - accuracy: 0.9397\n",
            "Epoch 1/10\n",
            "80/80 [==============================] - 4s 21ms/step - loss: 0.3198 - accuracy: 0.8880\n",
            "Epoch 2/10\n",
            "80/80 [==============================] - 1s 17ms/step - loss: 0.1776 - accuracy: 0.9446\n",
            "Epoch 3/10\n",
            "80/80 [==============================] - 1s 18ms/step - loss: 0.1501 - accuracy: 0.9486\n",
            "Epoch 4/10\n",
            "80/80 [==============================] - 1s 18ms/step - loss: 0.1235 - accuracy: 0.9552\n",
            "Epoch 5/10\n",
            "80/80 [==============================] - 1s 19ms/step - loss: 0.1160 - accuracy: 0.9587\n",
            "Epoch 6/10\n",
            "80/80 [==============================] - 2s 19ms/step - loss: 0.1025 - accuracy: 0.9639\n",
            "Epoch 7/10\n",
            "80/80 [==============================] - 2s 19ms/step - loss: 0.0886 - accuracy: 0.9670\n",
            "Epoch 8/10\n",
            "80/80 [==============================] - 2s 19ms/step - loss: 0.0736 - accuracy: 0.9725\n",
            "Epoch 9/10\n",
            "80/80 [==============================] - 2s 19ms/step - loss: 0.0628 - accuracy: 0.9750\n",
            "Epoch 10/10\n",
            "80/80 [==============================] - 2s 19ms/step - loss: 0.0567 - accuracy: 0.9784\n",
            "80/80 [==============================] - 1s 5ms/step - loss: 0.1717 - accuracy: 0.9518\n",
            "Epoch 1/10\n",
            "80/80 [==============================] - 4s 19ms/step - loss: 0.2954 - accuracy: 0.9053\n",
            "Epoch 2/10\n",
            "80/80 [==============================] - 2s 19ms/step - loss: 0.1825 - accuracy: 0.9430\n",
            "Epoch 3/10\n",
            "80/80 [==============================] - 2s 19ms/step - loss: 0.1552 - accuracy: 0.9474\n",
            "Epoch 4/10\n",
            "80/80 [==============================] - 2s 20ms/step - loss: 0.1239 - accuracy: 0.9549\n",
            "Epoch 5/10\n",
            "80/80 [==============================] - 2s 20ms/step - loss: 0.1029 - accuracy: 0.9630\n",
            "Epoch 6/10\n",
            "80/80 [==============================] - 2s 19ms/step - loss: 0.1002 - accuracy: 0.9660\n",
            "Epoch 7/10\n",
            "80/80 [==============================] - 2s 19ms/step - loss: 0.0841 - accuracy: 0.9672\n",
            "Epoch 8/10\n",
            "80/80 [==============================] - 2s 19ms/step - loss: 0.0640 - accuracy: 0.9763\n",
            "Epoch 9/10\n",
            "80/80 [==============================] - 2s 19ms/step - loss: 0.0637 - accuracy: 0.9773\n",
            "Epoch 10/10\n",
            "80/80 [==============================] - 2s 19ms/step - loss: 0.0470 - accuracy: 0.9837\n",
            "80/80 [==============================] - 1s 5ms/step - loss: 0.1959 - accuracy: 0.9468\n"
          ],
          "name": "stdout"
        }
      ]
    },
    {
      "cell_type": "code",
      "metadata": {
        "id": "loZoo9rBC7o_"
      },
      "source": [
        "def average(list):\n",
        "    return (sum(list) / len(list))"
      ],
      "execution_count": 17,
      "outputs": []
    },
    {
      "cell_type": "code",
      "metadata": {
        "id": "8TwH_N2-hiqM"
      },
      "source": [
        "accuracy = list(map(float, accuracy))"
      ],
      "execution_count": 18,
      "outputs": []
    },
    {
      "cell_type": "code",
      "metadata": {
        "id": "pe5UbYFZhkQT",
        "colab": {
          "base_uri": "https://localhost:8080/"
        },
        "outputId": "f994e985-113a-4fc7-e0a2-65d0222f5615"
      },
      "source": [
        "print(average(accuracy))"
      ],
      "execution_count": 19,
      "outputs": [
        {
          "output_type": "stream",
          "text": [
            "0.94848\n"
          ],
          "name": "stdout"
        }
      ]
    },
    {
      "cell_type": "code",
      "metadata": {
        "id": "w0Eex-rnhlvN",
        "colab": {
          "base_uri": "https://localhost:8080/"
        },
        "outputId": "59d9bab7-9ead-40d0-beaf-2ca9fd6748cc"
      },
      "source": [
        "print(average(precision))"
      ],
      "execution_count": 20,
      "outputs": [
        {
          "output_type": "stream",
          "text": [
            "[0.60075219 0.96753927]\n"
          ],
          "name": "stdout"
        }
      ]
    },
    {
      "cell_type": "code",
      "metadata": {
        "id": "in_N8ny_hnu7",
        "colab": {
          "base_uri": "https://localhost:8080/"
        },
        "outputId": "92a89325-048c-43af-8fc6-8699194d119f"
      },
      "source": [
        "print(average(recall))"
      ],
      "execution_count": 21,
      "outputs": [
        {
          "output_type": "stream",
          "text": [
            "[0.4904009 0.9779823]\n"
          ],
          "name": "stdout"
        }
      ]
    },
    {
      "cell_type": "code",
      "metadata": {
        "id": "4a6gh1q9hpKE",
        "colab": {
          "base_uri": "https://localhost:8080/"
        },
        "outputId": "22883ad5-66aa-47d6-9548-58e6545e4c95"
      },
      "source": [
        "print(average(f1_score))"
      ],
      "execution_count": 22,
      "outputs": [
        {
          "output_type": "stream",
          "text": [
            "[0.53529034 0.97270389]\n"
          ],
          "name": "stdout"
        }
      ]
    },
    {
      "cell_type": "code",
      "metadata": {
        "id": "L3Y2K0W_ooFy"
      },
      "source": [
        ""
      ],
      "execution_count": 22,
      "outputs": []
    }
  ]
}
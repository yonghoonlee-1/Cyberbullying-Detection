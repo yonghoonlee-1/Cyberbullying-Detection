{
  "nbformat": 4,
  "nbformat_minor": 0,
  "metadata": {
    "kernelspec": {
      "name": "python3",
      "display_name": "Python 3"
    },
    "language_info": {
      "codemirror_mode": {
        "name": "ipython",
        "version": 3
      },
      "file_extension": ".py",
      "mimetype": "text/x-python",
      "name": "python",
      "nbconvert_exporter": "python",
      "pygments_lexer": "ipython3",
      "version": "3.6.8"
    },
    "colab": {
      "name": "BERT-CNN",
      "provenance": [],
      "collapsed_sections": []
    },
    "accelerator": "GPU"
  },
  "cells": [
    {
      "cell_type": "code",
      "metadata": {
        "id": "omfN5AZ9ys_g",
        "colab": {
          "base_uri": "https://localhost:8080/"
        },
        "outputId": "73c91e53-278c-4951-9f5d-5a3a6e8097a2"
      },
      "source": [
        "from google.colab import drive\n",
        "\n",
        "drive.mount('/content/gdrive')"
      ],
      "execution_count": 1,
      "outputs": [
        {
          "output_type": "stream",
          "name": "stdout",
          "text": [
            "Drive already mounted at /content/gdrive; to attempt to forcibly remount, call drive.mount(\"/content/gdrive\", force_remount=True).\n"
          ]
        }
      ]
    },
    {
      "cell_type": "markdown",
      "metadata": {
        "id": "6QhEGRaVVaFh"
      },
      "source": [
        "## Import modules"
      ]
    },
    {
      "cell_type": "code",
      "metadata": {
        "id": "MrvPcIuR1Qnt"
      },
      "source": [
        "import pandas as pd\n",
        "\n",
        "formspring = \"/content/gdrive/My Drive/formspring_data_BERT_210323.csv\""
      ],
      "execution_count": 2,
      "outputs": []
    },
    {
      "cell_type": "code",
      "metadata": {
        "id": "aYhj-RIeybIm",
        "colab": {
          "base_uri": "https://localhost:8080/"
        },
        "outputId": "1e0202e2-1e70-4815-8c20-2a07b8dc4007"
      },
      "source": [
        "import pickle as pc\n",
        "import os\n",
        "import numpy as np\n",
        "import csv\n",
        "import torch\n",
        "\n",
        "# torch 버전 확인\n",
        "print(\"Pytorch Version: \", torch.__version__)\n",
        "\n",
        "# GPU 사용 가능한지 여부 확인\n",
        "if torch.cuda.is_available():\n",
        "    \n",
        "    # PyTorch 에게 GPU 사용할거라고 알려주기\n",
        "    device = torch.device(\"cuda\")\n",
        "    \n",
        "    print(\"There are %d GPU(s) available.\" % torch.cuda.device_count())\n",
        "    print(\"We will use the GPU:\", torch.cuda.get_device_name(0))\n",
        "else:\n",
        "    print(\"No GPU available, using the CPU instead.\")\n",
        "    device = torch.device(\"cpu\")"
      ],
      "execution_count": 3,
      "outputs": [
        {
          "output_type": "stream",
          "name": "stdout",
          "text": [
            "Pytorch Version:  1.9.0+cu111\n",
            "There are 1 GPU(s) available.\n",
            "We will use the GPU: Tesla K80\n"
          ]
        }
      ]
    },
    {
      "cell_type": "markdown",
      "metadata": {
        "id": "9DoBvLNQV3wj"
      },
      "source": [
        "## Installing the Hugging Face Library"
      ]
    },
    {
      "cell_type": "code",
      "metadata": {
        "id": "ZrMn70gSV3Ko",
        "colab": {
          "base_uri": "https://localhost:8080/"
        },
        "outputId": "1186fc21-bebd-4c0e-8625-df75c646a00d"
      },
      "source": [
        "!pip install transformers"
      ],
      "execution_count": 4,
      "outputs": [
        {
          "output_type": "stream",
          "name": "stdout",
          "text": [
            "Requirement already satisfied: transformers in /usr/local/lib/python3.7/dist-packages (4.11.3)\n",
            "Requirement already satisfied: sacremoses in /usr/local/lib/python3.7/dist-packages (from transformers) (0.0.46)\n",
            "Requirement already satisfied: tokenizers<0.11,>=0.10.1 in /usr/local/lib/python3.7/dist-packages (from transformers) (0.10.3)\n",
            "Requirement already satisfied: filelock in /usr/local/lib/python3.7/dist-packages (from transformers) (3.3.0)\n",
            "Requirement already satisfied: huggingface-hub>=0.0.17 in /usr/local/lib/python3.7/dist-packages (from transformers) (0.0.19)\n",
            "Requirement already satisfied: packaging>=20.0 in /usr/local/lib/python3.7/dist-packages (from transformers) (21.0)\n",
            "Requirement already satisfied: tqdm>=4.27 in /usr/local/lib/python3.7/dist-packages (from transformers) (4.62.3)\n",
            "Requirement already satisfied: requests in /usr/local/lib/python3.7/dist-packages (from transformers) (2.23.0)\n",
            "Requirement already satisfied: importlib-metadata in /usr/local/lib/python3.7/dist-packages (from transformers) (4.8.1)\n",
            "Requirement already satisfied: pyyaml>=5.1 in /usr/local/lib/python3.7/dist-packages (from transformers) (5.4.1)\n",
            "Requirement already satisfied: numpy>=1.17 in /usr/local/lib/python3.7/dist-packages (from transformers) (1.19.5)\n",
            "Requirement already satisfied: regex!=2019.12.17 in /usr/local/lib/python3.7/dist-packages (from transformers) (2019.12.20)\n",
            "Requirement already satisfied: typing-extensions in /usr/local/lib/python3.7/dist-packages (from huggingface-hub>=0.0.17->transformers) (3.7.4.3)\n",
            "Requirement already satisfied: pyparsing>=2.0.2 in /usr/local/lib/python3.7/dist-packages (from packaging>=20.0->transformers) (2.4.7)\n",
            "Requirement already satisfied: zipp>=0.5 in /usr/local/lib/python3.7/dist-packages (from importlib-metadata->transformers) (3.6.0)\n",
            "Requirement already satisfied: certifi>=2017.4.17 in /usr/local/lib/python3.7/dist-packages (from requests->transformers) (2021.5.30)\n",
            "Requirement already satisfied: idna<3,>=2.5 in /usr/local/lib/python3.7/dist-packages (from requests->transformers) (2.10)\n",
            "Requirement already satisfied: urllib3!=1.25.0,!=1.25.1,<1.26,>=1.21.1 in /usr/local/lib/python3.7/dist-packages (from requests->transformers) (1.24.3)\n",
            "Requirement already satisfied: chardet<4,>=3.0.2 in /usr/local/lib/python3.7/dist-packages (from requests->transformers) (3.0.4)\n",
            "Requirement already satisfied: six in /usr/local/lib/python3.7/dist-packages (from sacremoses->transformers) (1.15.0)\n",
            "Requirement already satisfied: click in /usr/local/lib/python3.7/dist-packages (from sacremoses->transformers) (7.1.2)\n",
            "Requirement already satisfied: joblib in /usr/local/lib/python3.7/dist-packages (from sacremoses->transformers) (1.0.1)\n"
          ]
        }
      ]
    },
    {
      "cell_type": "code",
      "metadata": {
        "id": "1In5hQtPybIs"
      },
      "source": [
        "def load_data(filename):\n",
        "    data = list()\n",
        "    label = list()\n",
        "    \n",
        "    f = open(filename, 'r', encoding='latin1')\n",
        "    reader = csv.reader(f)\n",
        "    for idx, line in enumerate(reader):\n",
        "        if idx == 0:\n",
        "            continue\n",
        "\n",
        "        data.append(line[0])\n",
        "        label.append(int(line[2]))\n",
        "\n",
        "    f.close()\n",
        "    \n",
        "    # data 랑 label 사이즈 일치 여부 확인\n",
        "    assert len(data) == len(label)\n",
        "    return data, label"
      ],
      "execution_count": 5,
      "outputs": []
    },
    {
      "cell_type": "code",
      "metadata": {
        "id": "USBIeV1TybIv"
      },
      "source": [
        "formspring_data, formspring_label = load_data(formspring)"
      ],
      "execution_count": 6,
      "outputs": []
    },
    {
      "cell_type": "code",
      "metadata": {
        "id": "2Xdoo53fTwn4"
      },
      "source": [
        "import pandas as pd\n",
        "\n",
        "df = pd.DataFrame(formspring_data)"
      ],
      "execution_count": 7,
      "outputs": []
    },
    {
      "cell_type": "code",
      "metadata": {
        "id": "_VnJHbkAWFzI"
      },
      "source": [
        "import re\n",
        "import string\n",
        "\n",
        "df = df[0].apply(lambda x: x.replace('Q:',' ').replace('A:',' ').replace('<br>',' '))\n",
        "df = df.apply(lambda x: x.lower())\n",
        "df = df.apply((lambda x: re.sub(r\"(https?|http)://[-a-zA-Z0-9+&@#/%?=~_|!:,.;]*[-a-zA-Z0-9+&@#/%=~_|]\", \"\", x)))\n",
        "df = df.apply((lambda x: re.sub(r\"&#039;\", \"\\'\", x)))\n",
        "df = df.apply((lambda x: re.sub(r\"&quot;\", \"\", x)))\n",
        "df = df.apply((lambda x: re.sub(r\"&amp;\", \"\", x)))"
      ],
      "execution_count": 8,
      "outputs": []
    },
    {
      "cell_type": "code",
      "metadata": {
        "id": "VaYyh100VGNe"
      },
      "source": [
        "import numpy as np\n",
        "\n",
        "data = list(np.array(df.tolist()))"
      ],
      "execution_count": 9,
      "outputs": []
    },
    {
      "cell_type": "code",
      "metadata": {
        "id": "Lp9DkK9bVdQH"
      },
      "source": [
        "formspring_data = data"
      ],
      "execution_count": 10,
      "outputs": []
    },
    {
      "cell_type": "code",
      "metadata": {
        "colab": {
          "base_uri": "https://localhost:8080/"
        },
        "id": "VjZNhURn4il1",
        "outputId": "715f5bda-8891-43b1-b3d0-2de3751341db"
      },
      "source": [
        "print(\"Size of imdb data: {}\".format(len(formspring_data)))\n",
        "print(\"Size of imdb label: {}\".format(len(formspring_label)))"
      ],
      "execution_count": 11,
      "outputs": [
        {
          "output_type": "stream",
          "name": "stdout",
          "text": [
            "Size of imdb data: 12773\n",
            "Size of imdb label: 12773\n"
          ]
        }
      ]
    },
    {
      "cell_type": "code",
      "metadata": {
        "id": "RL-P6sSM4uFX"
      },
      "source": [
        "from sklearn.model_selection import train_test_split\n",
        "\n",
        "train_data, test_data, train_label, test_label = train_test_split(formspring_data, formspring_label, test_size = 0.2, random_state = 42)"
      ],
      "execution_count": 12,
      "outputs": []
    },
    {
      "cell_type": "code",
      "metadata": {
        "id": "43O3FuU7ybI0",
        "colab": {
          "base_uri": "https://localhost:8080/"
        },
        "outputId": "923dc0c7-bfc9-4edb-ee58-82cddd69acf4"
      },
      "source": [
        "print(\"Size of train data: {}\".format(len(train_data)))\n",
        "print(\"Size of train label: {}\".format(len(train_label)))"
      ],
      "execution_count": 13,
      "outputs": [
        {
          "output_type": "stream",
          "name": "stdout",
          "text": [
            "Size of train data: 10218\n",
            "Size of train label: 10218\n"
          ]
        }
      ]
    },
    {
      "cell_type": "code",
      "metadata": {
        "id": "7Uq8AHTb48_r"
      },
      "source": [
        "import numpy as np\n",
        "test_data = np.array(test_data)\n",
        "test_label = np.array(test_label)"
      ],
      "execution_count": 14,
      "outputs": []
    },
    {
      "cell_type": "code",
      "metadata": {
        "id": "Kks51eZ9ybJD",
        "colab": {
          "base_uri": "https://localhost:8080/"
        },
        "outputId": "ce0eeeba-794f-47ba-f794-5627f2245624"
      },
      "source": [
        "from transformers import BertTokenizer\n",
        "\n",
        "# BERT tokenizer 불러오기\n",
        "print(\"Loading BERT tokenizer...\")\n",
        "tokenizer = BertTokenizer.from_pretrained('bert-base-uncased', do_lower_case=True)"
      ],
      "execution_count": 15,
      "outputs": [
        {
          "output_type": "stream",
          "name": "stdout",
          "text": [
            "Loading BERT tokenizer...\n"
          ]
        }
      ]
    },
    {
      "cell_type": "code",
      "metadata": {
        "id": "VTwSHYz1ybJG",
        "colab": {
          "base_uri": "https://localhost:8080/"
        },
        "outputId": "b55ddc82-8f1a-43ba-9848-2494cec91e9a"
      },
      "source": [
        "# 하나의 sentence 에 대해 BertTokenizer 적용\n",
        "\n",
        "# Print the original sentence.\n",
        "print(\"Original: \", train_data[0])\n",
        "print()\n",
        "\n",
        "# Print the sentence split into tokens.\n",
        "print(\"Tokenized: \", tokenizer.tokenize(train_data[0]))\n",
        "print()\n",
        "\n",
        "# Print the sentence mapped to token ids.\n",
        "print(\"Token IDs: \", tokenizer.convert_tokens_to_ids(tokenizer.tokenize(train_data[0])))\n",
        "print()"
      ],
      "execution_count": 16,
      "outputs": [
        {
          "output_type": "stream",
          "name": "stdout",
          "text": [
            "Original:    haha thanks to you or i would have never been named an honerary ninja :)   haha yeeee im awesome(:\n",
            "\n",
            "Tokenized:  ['ha', '##ha', 'thanks', 'to', 'you', 'or', 'i', 'would', 'have', 'never', 'been', 'named', 'an', 'hon', '##era', '##ry', 'ninja', ':', ')', 'ha', '##ha', 'ye', '##ee', '##e', 'im', 'awesome', '(', ':']\n",
            "\n",
            "Token IDs:  [5292, 3270, 4283, 2000, 2017, 2030, 1045, 2052, 2031, 2196, 2042, 2315, 2019, 10189, 6906, 2854, 14104, 1024, 1007, 5292, 3270, 6300, 4402, 2063, 10047, 12476, 1006, 1024]\n",
            "\n"
          ]
        }
      ]
    },
    {
      "cell_type": "markdown",
      "metadata": {
        "id": "UDJ4ZBtizGK5"
      },
      "source": [
        "#### Sentences to IDs\n",
        "\n",
        "`tokenizer.encode` 함수를 이용하여 모든 문장들에 대해 위의 과정들을 한꺼번에 처리합니다."
      ]
    },
    {
      "cell_type": "code",
      "metadata": {
        "id": "qArPy88KybJM",
        "colab": {
          "base_uri": "https://localhost:8080/"
        },
        "outputId": "d35a62c7-5932-4d8c-fc42-45c28540cc8f"
      },
      "source": [
        "# Tokenize all of the sentences and map the tokens to their word IDs.\n",
        "input_ids = []\n",
        "\n",
        "# For every sentence\n",
        "for sent in train_data:\n",
        "    # 'encode' will:\n",
        "    #   (1) Tokenize the sentence.\n",
        "    #   (2) Prepend the '[CLS]' token to the start.\n",
        "    #   (3) Append the '[SEP]' token to the end.\n",
        "    #   (4) Map tokens to their IDs.\n",
        "    \n",
        "    encoded_sent = tokenizer.encode(sent, \n",
        "                                    add_special_tokens=True,\n",
        "                                    max_length = 62)\n",
        "    \n",
        "    # Add the encoded sentence to the list\n",
        "    input_ids.append(encoded_sent)\n",
        "\n",
        "# Print train data[0]\n",
        "print(\"Original: \", train_data[0])\n",
        "print()\n",
        "print(\"Token IDs: \", input_ids[0])\n",
        "\n",
        "# Print special tokens and tokenized sentence\n",
        "print(\"\\n[CLS] token: {:}, ID: {:}\".format(tokenizer.cls_token, tokenizer.cls_token_id))\n",
        "print(\"\\n[PAD] token: {:}, ID: {:}\".format(tokenizer.pad_token, tokenizer.pad_token_id))\n",
        "print(\"\\n[SEP] token: {:}, ID: {:}\".format(tokenizer.sep_token, tokenizer.sep_token_id))\n",
        "print(\"\\nTokenized: \", tokenizer.convert_ids_to_tokens(input_ids[0]))"
      ],
      "execution_count": 17,
      "outputs": [
        {
          "output_type": "stream",
          "name": "stderr",
          "text": [
            "Truncation was not explicitly activated but `max_length` is provided a specific value, please use `truncation=True` to explicitly truncate examples to max length. Defaulting to 'longest_first' truncation strategy. If you encode pairs of sequences (GLUE-style) with the tokenizer you can select this strategy more precisely by providing a specific strategy to `truncation`.\n"
          ]
        },
        {
          "output_type": "stream",
          "name": "stdout",
          "text": [
            "Original:    haha thanks to you or i would have never been named an honerary ninja :)   haha yeeee im awesome(:\n",
            "\n",
            "Token IDs:  [101, 5292, 3270, 4283, 2000, 2017, 2030, 1045, 2052, 2031, 2196, 2042, 2315, 2019, 10189, 6906, 2854, 14104, 1024, 1007, 5292, 3270, 6300, 4402, 2063, 10047, 12476, 1006, 1024, 102]\n",
            "\n",
            "[CLS] token: [CLS], ID: 101\n",
            "\n",
            "[PAD] token: [PAD], ID: 0\n",
            "\n",
            "[SEP] token: [SEP], ID: 102\n",
            "\n",
            "Tokenized:  ['[CLS]', 'ha', '##ha', 'thanks', 'to', 'you', 'or', 'i', 'would', 'have', 'never', 'been', 'named', 'an', 'hon', '##era', '##ry', 'ninja', ':', ')', 'ha', '##ha', 'ye', '##ee', '##e', 'im', 'awesome', '(', ':', '[SEP]']\n"
          ]
        }
      ]
    },
    {
      "cell_type": "markdown",
      "metadata": {
        "id": "oKm4AQMFybJP"
      },
      "source": [
        "#### Padding & Truncating\n",
        "\n",
        "`tf.keras.preprocessing.sequence.pad_sequences` 를 이용하여 **MAXLEN** 만큼 padding 과정을 진행합니다."
      ]
    },
    {
      "cell_type": "code",
      "metadata": {
        "id": "qvi1_q33ybJQ",
        "colab": {
          "base_uri": "https://localhost:8080/"
        },
        "outputId": "714cfb61-c27a-49d2-f95a-88080deac641"
      },
      "source": [
        "print(\"Max length: \", max([len(each) for each in input_ids]))"
      ],
      "execution_count": 18,
      "outputs": [
        {
          "output_type": "stream",
          "name": "stdout",
          "text": [
            "Max length:  62\n"
          ]
        }
      ]
    },
    {
      "cell_type": "code",
      "metadata": {
        "id": "cTelEtVNybJV",
        "colab": {
          "base_uri": "https://localhost:8080/"
        },
        "outputId": "c6761888-c3c2-4aa6-b06a-a72a7894b2fc"
      },
      "source": [
        "import tensorflow as tf\n",
        "print(\"Tensorflow version: {}\".format(tf.__version__))\n",
        "\n",
        "MAXLEN = 62\n",
        "\n",
        "input_ids = tf.keras.preprocessing.sequence.pad_sequences(input_ids, \n",
        "                                                          maxlen=MAXLEN, dtype=\"long\", value=0, truncating=\"post\", padding=\"post\")\n",
        "\n",
        "print(\"\\nDone.\")"
      ],
      "execution_count": 19,
      "outputs": [
        {
          "output_type": "stream",
          "name": "stdout",
          "text": [
            "Tensorflow version: 2.6.0\n",
            "\n",
            "Done.\n"
          ]
        }
      ]
    },
    {
      "cell_type": "markdown",
      "metadata": {
        "id": "ZJnT5boqybJY"
      },
      "source": [
        "#### Attention Masks"
      ]
    },
    {
      "cell_type": "code",
      "metadata": {
        "id": "maKvU-KKybJZ"
      },
      "source": [
        "# Create attention masks\n",
        "attention_masks = []\n",
        "\n",
        "# For every sentence\n",
        "for sent in input_ids:\n",
        "    # Create the attention mask.\n",
        "    #  - If a token ID is 0, then it's padding, set the mask to 0.\n",
        "    #  - If a token ID is not 0 ( > 0), then it's a real token, set the mask to 1.\n",
        "    att_mask = [int(token_id > 0) for token_id in sent]\n",
        "    \n",
        "    # Store the attention mask for this sentence.\n",
        "    attention_masks.append(att_mask)"
      ],
      "execution_count": 20,
      "outputs": []
    },
    {
      "cell_type": "markdown",
      "metadata": {
        "id": "ISSN2XpEybJc"
      },
      "source": [
        "#### Training & Validation Split\n",
        "\n",
        "\n"
      ]
    },
    {
      "cell_type": "code",
      "metadata": {
        "id": "oTLBXYLTybJg",
        "colab": {
          "base_uri": "https://localhost:8080/"
        },
        "outputId": "50290616-24c3-4d90-9cfa-1a42747cf004"
      },
      "source": [
        "# Use train_test_split to split our data into train and validation sets for training\n",
        "from sklearn.model_selection import train_test_split\n",
        "\n",
        "# Use 90% for training and 10% for validation.\n",
        "train_inputs, valid_inputs, train_labels, valid_labels = train_test_split(input_ids, train_label, random_state=2018, test_size=0.1)\n",
        "\n",
        "# Do the same for the masks.\n",
        "train_masks, valid_masks, _, _ = train_test_split(attention_masks, train_label, random_state=2018, test_size=0.1)\n",
        "\n",
        "# print train_inputs, valid_inputs\n",
        "print(train_inputs[:1])\n",
        "print(train_masks[:1])"
      ],
      "execution_count": 21,
      "outputs": [
        {
          "output_type": "stream",
          "name": "stdout",
          "text": [
            "[[  101 10047 11471  2024  2017 11471  1029  1024  1011  1013  2748 10047\n",
            "  11471  1012  1012  1012  8840  2140   102     0     0     0     0     0\n",
            "      0     0     0     0     0     0     0     0     0     0     0     0\n",
            "      0     0     0     0     0     0     0     0     0     0     0     0\n",
            "      0     0     0     0     0     0     0     0     0     0     0     0\n",
            "      0     0]]\n",
            "[[1, 1, 1, 1, 1, 1, 1, 1, 1, 1, 1, 1, 1, 1, 1, 1, 1, 1, 1, 0, 0, 0, 0, 0, 0, 0, 0, 0, 0, 0, 0, 0, 0, 0, 0, 0, 0, 0, 0, 0, 0, 0, 0, 0, 0, 0, 0, 0, 0, 0, 0, 0, 0, 0, 0, 0, 0, 0, 0, 0, 0, 0]]\n"
          ]
        }
      ]
    },
    {
      "cell_type": "markdown",
      "metadata": {
        "id": "p_jmnF2IybJj"
      },
      "source": [
        "#### Converting to PyTorch Data Types"
      ]
    },
    {
      "cell_type": "code",
      "metadata": {
        "id": "5hFzBxvyybJk"
      },
      "source": [
        "# Convert all inputs and labels into torch tensors, the required data type for our model.\n",
        "train_inputs = torch.tensor(train_inputs)\n",
        "valid_inputs = torch.tensor(valid_inputs)\n",
        "\n",
        "train_labels = torch.tensor(train_labels)\n",
        "valid_labels = torch.tensor(valid_labels)\n",
        "\n",
        "train_masks = torch.tensor(train_masks)\n",
        "valid_masks = torch.tensor(valid_masks)"
      ],
      "execution_count": 22,
      "outputs": []
    },
    {
      "cell_type": "code",
      "metadata": {
        "id": "xhbYgxdvybJq"
      },
      "source": [
        "from torch.utils.data import TensorDataset, DataLoader, RandomSampler, SequentialSampler\n",
        "\n",
        "# The DataLoader needs to know our batch size for training, so we specify it here.\n",
        "# For fine-tuning BERT on a specific task, we recommend a batch size of 16 or 32.\n",
        "\n",
        "batch_size = 32\n",
        "\n",
        "train_labels, valid_labels = (torch.FloatTensor(t) for t in (train_labels.float(), valid_labels.float()))\n",
        "\n",
        "# Create the DataLoader for our training set.\n",
        "train_data = TensorDataset(train_inputs, train_masks, train_labels)\n",
        "train_sampler = RandomSampler(train_data)\n",
        "train_dataloader = DataLoader(train_data, sampler=train_sampler, batch_size=batch_size)\n",
        "\n",
        "# Create the DataLoader for our validation set.\n",
        "valid_data = TensorDataset(valid_inputs, valid_masks, valid_labels)\n",
        "valid_sampler = SequentialSampler(valid_data)\n",
        "valid_dataloader = DataLoader(valid_data, sampler=valid_sampler, batch_size=batch_size)"
      ],
      "execution_count": 23,
      "outputs": []
    },
    {
      "cell_type": "code",
      "metadata": {
        "id": "0dZaKTuLDh3f"
      },
      "source": [
        "from torch import nn\n",
        "\n",
        "class BertCNN(nn.Module):\n",
        "    \n",
        "    def __init__(self, embed_size, bert_model):\n",
        "        super(BertCNN, self).__init__()\n",
        "        filter_sizes = [2,3]\n",
        "        num_filters = 32\n",
        "        self.convs1 = nn.ModuleList([nn.Conv2d(4, num_filters, (K, embed_size)) for K in filter_sizes])\n",
        "        self.dropout = nn.Dropout(0.1)\n",
        "        self.fc1 = nn.Linear(len(filter_sizes)*num_filters, 1)\n",
        "        self.sigmoid = nn.Sigmoid()\n",
        "        self.bert_model = bert_model\n",
        "\n",
        "    def forward(self, x, input_masks, token_type_ids):\n",
        "        x = self.bert_model(x, attention_mask=input_masks, token_type_ids=token_type_ids)[2][-4:]\n",
        "        x = torch.stack(x, dim=1)\n",
        "        x = [F.relu(conv(x)).squeeze(3) for conv in self.convs1] \n",
        "        x = [F.max_pool1d(i, i.size(2)).squeeze(2) for i in x]  \n",
        "        x = torch.cat(x, 1)\n",
        "        x = self.dropout(x)  \n",
        "        logit = self.fc1(x)\n",
        "        return self.sigmoid(logit)"
      ],
      "execution_count": 24,
      "outputs": []
    },
    {
      "cell_type": "markdown",
      "metadata": {
        "id": "JR7FaNXOybJu"
      },
      "source": [
        "## Train our classification model"
      ]
    },
    {
      "cell_type": "code",
      "metadata": {
        "id": "V7JYZMxEybJx",
        "colab": {
          "base_uri": "https://localhost:8080/"
        },
        "outputId": "6e530d3b-c87b-453c-e0eb-7635d644994d"
      },
      "source": [
        "from transformers import BertModel, AdamW, BertConfig\n",
        "\n",
        "# Load BertForSequenceClassfication, the pretrained BERT model \n",
        "# with a single linear classification layer on top.\n",
        "bert_model = BertModel.from_pretrained(\"bert-base-uncased\", output_hidden_states = True) # whether the model returns all hidden states\n",
        "\n",
        "model = BertCNN(768, bert_model)\n",
        "\n",
        "# Tell PyTorch to run this model on the GPU\n",
        "model.cuda()"
      ],
      "execution_count": 25,
      "outputs": [
        {
          "output_type": "stream",
          "name": "stderr",
          "text": [
            "Some weights of the model checkpoint at bert-base-uncased were not used when initializing BertModel: ['cls.predictions.transform.LayerNorm.bias', 'cls.predictions.decoder.weight', 'cls.predictions.transform.dense.weight', 'cls.predictions.transform.dense.bias', 'cls.predictions.bias', 'cls.seq_relationship.bias', 'cls.predictions.transform.LayerNorm.weight', 'cls.seq_relationship.weight']\n",
            "- This IS expected if you are initializing BertModel from the checkpoint of a model trained on another task or with another architecture (e.g. initializing a BertForSequenceClassification model from a BertForPreTraining model).\n",
            "- This IS NOT expected if you are initializing BertModel from the checkpoint of a model that you expect to be exactly identical (initializing a BertForSequenceClassification model from a BertForSequenceClassification model).\n"
          ]
        },
        {
          "output_type": "execute_result",
          "data": {
            "text/plain": [
              "BertCNN(\n",
              "  (convs1): ModuleList(\n",
              "    (0): Conv2d(4, 32, kernel_size=(2, 768), stride=(1, 1))\n",
              "    (1): Conv2d(4, 32, kernel_size=(3, 768), stride=(1, 1))\n",
              "  )\n",
              "  (dropout): Dropout(p=0.1, inplace=False)\n",
              "  (fc1): Linear(in_features=64, out_features=1, bias=True)\n",
              "  (sigmoid): Sigmoid()\n",
              "  (bert_model): BertModel(\n",
              "    (embeddings): BertEmbeddings(\n",
              "      (word_embeddings): Embedding(30522, 768, padding_idx=0)\n",
              "      (position_embeddings): Embedding(512, 768)\n",
              "      (token_type_embeddings): Embedding(2, 768)\n",
              "      (LayerNorm): LayerNorm((768,), eps=1e-12, elementwise_affine=True)\n",
              "      (dropout): Dropout(p=0.1, inplace=False)\n",
              "    )\n",
              "    (encoder): BertEncoder(\n",
              "      (layer): ModuleList(\n",
              "        (0): BertLayer(\n",
              "          (attention): BertAttention(\n",
              "            (self): BertSelfAttention(\n",
              "              (query): Linear(in_features=768, out_features=768, bias=True)\n",
              "              (key): Linear(in_features=768, out_features=768, bias=True)\n",
              "              (value): Linear(in_features=768, out_features=768, bias=True)\n",
              "              (dropout): Dropout(p=0.1, inplace=False)\n",
              "            )\n",
              "            (output): BertSelfOutput(\n",
              "              (dense): Linear(in_features=768, out_features=768, bias=True)\n",
              "              (LayerNorm): LayerNorm((768,), eps=1e-12, elementwise_affine=True)\n",
              "              (dropout): Dropout(p=0.1, inplace=False)\n",
              "            )\n",
              "          )\n",
              "          (intermediate): BertIntermediate(\n",
              "            (dense): Linear(in_features=768, out_features=3072, bias=True)\n",
              "          )\n",
              "          (output): BertOutput(\n",
              "            (dense): Linear(in_features=3072, out_features=768, bias=True)\n",
              "            (LayerNorm): LayerNorm((768,), eps=1e-12, elementwise_affine=True)\n",
              "            (dropout): Dropout(p=0.1, inplace=False)\n",
              "          )\n",
              "        )\n",
              "        (1): BertLayer(\n",
              "          (attention): BertAttention(\n",
              "            (self): BertSelfAttention(\n",
              "              (query): Linear(in_features=768, out_features=768, bias=True)\n",
              "              (key): Linear(in_features=768, out_features=768, bias=True)\n",
              "              (value): Linear(in_features=768, out_features=768, bias=True)\n",
              "              (dropout): Dropout(p=0.1, inplace=False)\n",
              "            )\n",
              "            (output): BertSelfOutput(\n",
              "              (dense): Linear(in_features=768, out_features=768, bias=True)\n",
              "              (LayerNorm): LayerNorm((768,), eps=1e-12, elementwise_affine=True)\n",
              "              (dropout): Dropout(p=0.1, inplace=False)\n",
              "            )\n",
              "          )\n",
              "          (intermediate): BertIntermediate(\n",
              "            (dense): Linear(in_features=768, out_features=3072, bias=True)\n",
              "          )\n",
              "          (output): BertOutput(\n",
              "            (dense): Linear(in_features=3072, out_features=768, bias=True)\n",
              "            (LayerNorm): LayerNorm((768,), eps=1e-12, elementwise_affine=True)\n",
              "            (dropout): Dropout(p=0.1, inplace=False)\n",
              "          )\n",
              "        )\n",
              "        (2): BertLayer(\n",
              "          (attention): BertAttention(\n",
              "            (self): BertSelfAttention(\n",
              "              (query): Linear(in_features=768, out_features=768, bias=True)\n",
              "              (key): Linear(in_features=768, out_features=768, bias=True)\n",
              "              (value): Linear(in_features=768, out_features=768, bias=True)\n",
              "              (dropout): Dropout(p=0.1, inplace=False)\n",
              "            )\n",
              "            (output): BertSelfOutput(\n",
              "              (dense): Linear(in_features=768, out_features=768, bias=True)\n",
              "              (LayerNorm): LayerNorm((768,), eps=1e-12, elementwise_affine=True)\n",
              "              (dropout): Dropout(p=0.1, inplace=False)\n",
              "            )\n",
              "          )\n",
              "          (intermediate): BertIntermediate(\n",
              "            (dense): Linear(in_features=768, out_features=3072, bias=True)\n",
              "          )\n",
              "          (output): BertOutput(\n",
              "            (dense): Linear(in_features=3072, out_features=768, bias=True)\n",
              "            (LayerNorm): LayerNorm((768,), eps=1e-12, elementwise_affine=True)\n",
              "            (dropout): Dropout(p=0.1, inplace=False)\n",
              "          )\n",
              "        )\n",
              "        (3): BertLayer(\n",
              "          (attention): BertAttention(\n",
              "            (self): BertSelfAttention(\n",
              "              (query): Linear(in_features=768, out_features=768, bias=True)\n",
              "              (key): Linear(in_features=768, out_features=768, bias=True)\n",
              "              (value): Linear(in_features=768, out_features=768, bias=True)\n",
              "              (dropout): Dropout(p=0.1, inplace=False)\n",
              "            )\n",
              "            (output): BertSelfOutput(\n",
              "              (dense): Linear(in_features=768, out_features=768, bias=True)\n",
              "              (LayerNorm): LayerNorm((768,), eps=1e-12, elementwise_affine=True)\n",
              "              (dropout): Dropout(p=0.1, inplace=False)\n",
              "            )\n",
              "          )\n",
              "          (intermediate): BertIntermediate(\n",
              "            (dense): Linear(in_features=768, out_features=3072, bias=True)\n",
              "          )\n",
              "          (output): BertOutput(\n",
              "            (dense): Linear(in_features=3072, out_features=768, bias=True)\n",
              "            (LayerNorm): LayerNorm((768,), eps=1e-12, elementwise_affine=True)\n",
              "            (dropout): Dropout(p=0.1, inplace=False)\n",
              "          )\n",
              "        )\n",
              "        (4): BertLayer(\n",
              "          (attention): BertAttention(\n",
              "            (self): BertSelfAttention(\n",
              "              (query): Linear(in_features=768, out_features=768, bias=True)\n",
              "              (key): Linear(in_features=768, out_features=768, bias=True)\n",
              "              (value): Linear(in_features=768, out_features=768, bias=True)\n",
              "              (dropout): Dropout(p=0.1, inplace=False)\n",
              "            )\n",
              "            (output): BertSelfOutput(\n",
              "              (dense): Linear(in_features=768, out_features=768, bias=True)\n",
              "              (LayerNorm): LayerNorm((768,), eps=1e-12, elementwise_affine=True)\n",
              "              (dropout): Dropout(p=0.1, inplace=False)\n",
              "            )\n",
              "          )\n",
              "          (intermediate): BertIntermediate(\n",
              "            (dense): Linear(in_features=768, out_features=3072, bias=True)\n",
              "          )\n",
              "          (output): BertOutput(\n",
              "            (dense): Linear(in_features=3072, out_features=768, bias=True)\n",
              "            (LayerNorm): LayerNorm((768,), eps=1e-12, elementwise_affine=True)\n",
              "            (dropout): Dropout(p=0.1, inplace=False)\n",
              "          )\n",
              "        )\n",
              "        (5): BertLayer(\n",
              "          (attention): BertAttention(\n",
              "            (self): BertSelfAttention(\n",
              "              (query): Linear(in_features=768, out_features=768, bias=True)\n",
              "              (key): Linear(in_features=768, out_features=768, bias=True)\n",
              "              (value): Linear(in_features=768, out_features=768, bias=True)\n",
              "              (dropout): Dropout(p=0.1, inplace=False)\n",
              "            )\n",
              "            (output): BertSelfOutput(\n",
              "              (dense): Linear(in_features=768, out_features=768, bias=True)\n",
              "              (LayerNorm): LayerNorm((768,), eps=1e-12, elementwise_affine=True)\n",
              "              (dropout): Dropout(p=0.1, inplace=False)\n",
              "            )\n",
              "          )\n",
              "          (intermediate): BertIntermediate(\n",
              "            (dense): Linear(in_features=768, out_features=3072, bias=True)\n",
              "          )\n",
              "          (output): BertOutput(\n",
              "            (dense): Linear(in_features=3072, out_features=768, bias=True)\n",
              "            (LayerNorm): LayerNorm((768,), eps=1e-12, elementwise_affine=True)\n",
              "            (dropout): Dropout(p=0.1, inplace=False)\n",
              "          )\n",
              "        )\n",
              "        (6): BertLayer(\n",
              "          (attention): BertAttention(\n",
              "            (self): BertSelfAttention(\n",
              "              (query): Linear(in_features=768, out_features=768, bias=True)\n",
              "              (key): Linear(in_features=768, out_features=768, bias=True)\n",
              "              (value): Linear(in_features=768, out_features=768, bias=True)\n",
              "              (dropout): Dropout(p=0.1, inplace=False)\n",
              "            )\n",
              "            (output): BertSelfOutput(\n",
              "              (dense): Linear(in_features=768, out_features=768, bias=True)\n",
              "              (LayerNorm): LayerNorm((768,), eps=1e-12, elementwise_affine=True)\n",
              "              (dropout): Dropout(p=0.1, inplace=False)\n",
              "            )\n",
              "          )\n",
              "          (intermediate): BertIntermediate(\n",
              "            (dense): Linear(in_features=768, out_features=3072, bias=True)\n",
              "          )\n",
              "          (output): BertOutput(\n",
              "            (dense): Linear(in_features=3072, out_features=768, bias=True)\n",
              "            (LayerNorm): LayerNorm((768,), eps=1e-12, elementwise_affine=True)\n",
              "            (dropout): Dropout(p=0.1, inplace=False)\n",
              "          )\n",
              "        )\n",
              "        (7): BertLayer(\n",
              "          (attention): BertAttention(\n",
              "            (self): BertSelfAttention(\n",
              "              (query): Linear(in_features=768, out_features=768, bias=True)\n",
              "              (key): Linear(in_features=768, out_features=768, bias=True)\n",
              "              (value): Linear(in_features=768, out_features=768, bias=True)\n",
              "              (dropout): Dropout(p=0.1, inplace=False)\n",
              "            )\n",
              "            (output): BertSelfOutput(\n",
              "              (dense): Linear(in_features=768, out_features=768, bias=True)\n",
              "              (LayerNorm): LayerNorm((768,), eps=1e-12, elementwise_affine=True)\n",
              "              (dropout): Dropout(p=0.1, inplace=False)\n",
              "            )\n",
              "          )\n",
              "          (intermediate): BertIntermediate(\n",
              "            (dense): Linear(in_features=768, out_features=3072, bias=True)\n",
              "          )\n",
              "          (output): BertOutput(\n",
              "            (dense): Linear(in_features=3072, out_features=768, bias=True)\n",
              "            (LayerNorm): LayerNorm((768,), eps=1e-12, elementwise_affine=True)\n",
              "            (dropout): Dropout(p=0.1, inplace=False)\n",
              "          )\n",
              "        )\n",
              "        (8): BertLayer(\n",
              "          (attention): BertAttention(\n",
              "            (self): BertSelfAttention(\n",
              "              (query): Linear(in_features=768, out_features=768, bias=True)\n",
              "              (key): Linear(in_features=768, out_features=768, bias=True)\n",
              "              (value): Linear(in_features=768, out_features=768, bias=True)\n",
              "              (dropout): Dropout(p=0.1, inplace=False)\n",
              "            )\n",
              "            (output): BertSelfOutput(\n",
              "              (dense): Linear(in_features=768, out_features=768, bias=True)\n",
              "              (LayerNorm): LayerNorm((768,), eps=1e-12, elementwise_affine=True)\n",
              "              (dropout): Dropout(p=0.1, inplace=False)\n",
              "            )\n",
              "          )\n",
              "          (intermediate): BertIntermediate(\n",
              "            (dense): Linear(in_features=768, out_features=3072, bias=True)\n",
              "          )\n",
              "          (output): BertOutput(\n",
              "            (dense): Linear(in_features=3072, out_features=768, bias=True)\n",
              "            (LayerNorm): LayerNorm((768,), eps=1e-12, elementwise_affine=True)\n",
              "            (dropout): Dropout(p=0.1, inplace=False)\n",
              "          )\n",
              "        )\n",
              "        (9): BertLayer(\n",
              "          (attention): BertAttention(\n",
              "            (self): BertSelfAttention(\n",
              "              (query): Linear(in_features=768, out_features=768, bias=True)\n",
              "              (key): Linear(in_features=768, out_features=768, bias=True)\n",
              "              (value): Linear(in_features=768, out_features=768, bias=True)\n",
              "              (dropout): Dropout(p=0.1, inplace=False)\n",
              "            )\n",
              "            (output): BertSelfOutput(\n",
              "              (dense): Linear(in_features=768, out_features=768, bias=True)\n",
              "              (LayerNorm): LayerNorm((768,), eps=1e-12, elementwise_affine=True)\n",
              "              (dropout): Dropout(p=0.1, inplace=False)\n",
              "            )\n",
              "          )\n",
              "          (intermediate): BertIntermediate(\n",
              "            (dense): Linear(in_features=768, out_features=3072, bias=True)\n",
              "          )\n",
              "          (output): BertOutput(\n",
              "            (dense): Linear(in_features=3072, out_features=768, bias=True)\n",
              "            (LayerNorm): LayerNorm((768,), eps=1e-12, elementwise_affine=True)\n",
              "            (dropout): Dropout(p=0.1, inplace=False)\n",
              "          )\n",
              "        )\n",
              "        (10): BertLayer(\n",
              "          (attention): BertAttention(\n",
              "            (self): BertSelfAttention(\n",
              "              (query): Linear(in_features=768, out_features=768, bias=True)\n",
              "              (key): Linear(in_features=768, out_features=768, bias=True)\n",
              "              (value): Linear(in_features=768, out_features=768, bias=True)\n",
              "              (dropout): Dropout(p=0.1, inplace=False)\n",
              "            )\n",
              "            (output): BertSelfOutput(\n",
              "              (dense): Linear(in_features=768, out_features=768, bias=True)\n",
              "              (LayerNorm): LayerNorm((768,), eps=1e-12, elementwise_affine=True)\n",
              "              (dropout): Dropout(p=0.1, inplace=False)\n",
              "            )\n",
              "          )\n",
              "          (intermediate): BertIntermediate(\n",
              "            (dense): Linear(in_features=768, out_features=3072, bias=True)\n",
              "          )\n",
              "          (output): BertOutput(\n",
              "            (dense): Linear(in_features=3072, out_features=768, bias=True)\n",
              "            (LayerNorm): LayerNorm((768,), eps=1e-12, elementwise_affine=True)\n",
              "            (dropout): Dropout(p=0.1, inplace=False)\n",
              "          )\n",
              "        )\n",
              "        (11): BertLayer(\n",
              "          (attention): BertAttention(\n",
              "            (self): BertSelfAttention(\n",
              "              (query): Linear(in_features=768, out_features=768, bias=True)\n",
              "              (key): Linear(in_features=768, out_features=768, bias=True)\n",
              "              (value): Linear(in_features=768, out_features=768, bias=True)\n",
              "              (dropout): Dropout(p=0.1, inplace=False)\n",
              "            )\n",
              "            (output): BertSelfOutput(\n",
              "              (dense): Linear(in_features=768, out_features=768, bias=True)\n",
              "              (LayerNorm): LayerNorm((768,), eps=1e-12, elementwise_affine=True)\n",
              "              (dropout): Dropout(p=0.1, inplace=False)\n",
              "            )\n",
              "          )\n",
              "          (intermediate): BertIntermediate(\n",
              "            (dense): Linear(in_features=768, out_features=3072, bias=True)\n",
              "          )\n",
              "          (output): BertOutput(\n",
              "            (dense): Linear(in_features=3072, out_features=768, bias=True)\n",
              "            (LayerNorm): LayerNorm((768,), eps=1e-12, elementwise_affine=True)\n",
              "            (dropout): Dropout(p=0.1, inplace=False)\n",
              "          )\n",
              "        )\n",
              "      )\n",
              "    )\n",
              "    (pooler): BertPooler(\n",
              "      (dense): Linear(in_features=768, out_features=768, bias=True)\n",
              "      (activation): Tanh()\n",
              "    )\n",
              "  )\n",
              ")"
            ]
          },
          "metadata": {},
          "execution_count": 25
        }
      ]
    },
    {
      "cell_type": "code",
      "metadata": {
        "id": "WX9bftmNybJ0",
        "colab": {
          "base_uri": "https://localhost:8080/"
        },
        "outputId": "150d9ce5-abca-4061-feb0-cdb4fcdb0b46"
      },
      "source": [
        "# Get all of the model's parameters as a list of tuples.\n",
        "params = list(model.named_parameters())\n",
        "\n",
        "print(\"The BERT model has {:} different named parameters.\\n\".format(len(params)))\n",
        "print(\"=== Embedding Layer ===\\n\")\n",
        "\n",
        "for p in params[0:5]:\n",
        "    print(\"{:<55} {:>12}\".format(p[0], str(tuple(p[1].size()))))\n",
        "\n",
        "print(\"\\n==== First Transformer ====\\n\")\n",
        "\n",
        "for p in params[5:21]:\n",
        "    print(\"{:<55} {:>12}\".format(p[0], str(tuple(p[1].size()))))\n",
        "\n",
        "print(\"\\n==== Output Layer====\\n\")\n",
        "\n",
        "for p in params[-4:]:\n",
        "    print(\"{:<55} {:>12}\".format(p[0], str(tuple(p[1].size()))))"
      ],
      "execution_count": 26,
      "outputs": [
        {
          "output_type": "stream",
          "name": "stdout",
          "text": [
            "The BERT model has 205 different named parameters.\n",
            "\n",
            "=== Embedding Layer ===\n",
            "\n",
            "convs1.0.weight                                         (32, 4, 2, 768)\n",
            "convs1.0.bias                                                  (32,)\n",
            "convs1.1.weight                                         (32, 4, 3, 768)\n",
            "convs1.1.bias                                                  (32,)\n",
            "fc1.weight                                                   (1, 64)\n",
            "\n",
            "==== First Transformer ====\n",
            "\n",
            "fc1.bias                                                        (1,)\n",
            "bert_model.embeddings.word_embeddings.weight            (30522, 768)\n",
            "bert_model.embeddings.position_embeddings.weight          (512, 768)\n",
            "bert_model.embeddings.token_type_embeddings.weight          (2, 768)\n",
            "bert_model.embeddings.LayerNorm.weight                        (768,)\n",
            "bert_model.embeddings.LayerNorm.bias                          (768,)\n",
            "bert_model.encoder.layer.0.attention.self.query.weight    (768, 768)\n",
            "bert_model.encoder.layer.0.attention.self.query.bias          (768,)\n",
            "bert_model.encoder.layer.0.attention.self.key.weight      (768, 768)\n",
            "bert_model.encoder.layer.0.attention.self.key.bias            (768,)\n",
            "bert_model.encoder.layer.0.attention.self.value.weight    (768, 768)\n",
            "bert_model.encoder.layer.0.attention.self.value.bias          (768,)\n",
            "bert_model.encoder.layer.0.attention.output.dense.weight   (768, 768)\n",
            "bert_model.encoder.layer.0.attention.output.dense.bias        (768,)\n",
            "bert_model.encoder.layer.0.attention.output.LayerNorm.weight       (768,)\n",
            "bert_model.encoder.layer.0.attention.output.LayerNorm.bias       (768,)\n",
            "\n",
            "==== Output Layer====\n",
            "\n",
            "bert_model.encoder.layer.11.output.LayerNorm.weight           (768,)\n",
            "bert_model.encoder.layer.11.output.LayerNorm.bias             (768,)\n",
            "bert_model.pooler.dense.weight                            (768, 768)\n",
            "bert_model.pooler.dense.bias                                  (768,)\n"
          ]
        }
      ]
    },
    {
      "cell_type": "code",
      "metadata": {
        "id": "GN8StKalybJ5"
      },
      "source": [
        "# Note: AdamW is a class from the huggingface library (as opposed to pytorch)\n",
        "# I believe the 'W' stands for \"Weight Decay fix\"\n",
        "optimizer = AdamW(model.parameters(), lr = 2e-5, eps = 1e-8)"
      ],
      "execution_count": 27,
      "outputs": []
    },
    {
      "cell_type": "code",
      "metadata": {
        "id": "dvTMmRTvybJ8",
        "colab": {
          "base_uri": "https://localhost:8080/"
        },
        "outputId": "71685daf-a2a6-42f1-a08d-802200cc8f98"
      },
      "source": [
        "from transformers import get_linear_schedule_with_warmup\n",
        "\n",
        "# Number of training epochs (we recommend between 2 and 4)\n",
        "epochs = 4\n",
        "\n",
        "# Total number of training steps is number of batches * number of epochs.\n",
        "print(len(train_dataloader))\n",
        "total_steps = len(train_dataloader) * epochs\n",
        "\n",
        "# Create the learning rate scheduler.\n",
        "scheduler = get_linear_schedule_with_warmup(optimizer, num_warmup_steps = 0, num_training_steps = total_steps)"
      ],
      "execution_count": 28,
      "outputs": [
        {
          "output_type": "stream",
          "name": "stdout",
          "text": [
            "288\n"
          ]
        }
      ]
    },
    {
      "cell_type": "code",
      "metadata": {
        "id": "Pigy1CqrybKA"
      },
      "source": [
        "# Function to calculate the accuracy of our predictions vs labels\n",
        "def flat_accuracy(preds, labels):\n",
        "    pred_flat = np.argmax(preds, axis=-1).flatten()\n",
        "    labels_flat = labels.flatten()\n",
        "    return np.sum(pred_flat == labels_flat) / len(labels_flat)"
      ],
      "execution_count": 29,
      "outputs": []
    },
    {
      "cell_type": "code",
      "metadata": {
        "id": "zXBpr-HAybKD"
      },
      "source": [
        "import time\n",
        "import datetime\n",
        "\n",
        "def format_time(elapsed):\n",
        "    '''\n",
        "    Take a time in seconds and returns a string hh:mm:ss\n",
        "    '''\n",
        "    # Round to the nearest second.\n",
        "    elapsed_rounded = int(round(elapsed))\n",
        "    \n",
        "    # Format as hh:mm:ss\n",
        "    return str(datetime.timedelta(seconds=elapsed_rounded))"
      ],
      "execution_count": 30,
      "outputs": []
    },
    {
      "cell_type": "code",
      "metadata": {
        "id": "f0QRDrYcybKG"
      },
      "source": [
        "import random\n",
        "\n",
        "# Set the seed value all over the place to make this reproducible\n",
        "def set_seed(seed_val):\n",
        "    random.seed(seed_val)\n",
        "    np.random.seed(seed_val)\n",
        "    torch.manual_seed(seed_val)\n",
        "    torch.cuda.manual_seed_all(seed_val)"
      ],
      "execution_count": 31,
      "outputs": []
    },
    {
      "cell_type": "code",
      "metadata": {
        "id": "rOCgIIrpybKI",
        "colab": {
          "base_uri": "https://localhost:8080/"
        },
        "outputId": "bc28e2c1-b220-49b4-98a3-f0d149300e27"
      },
      "source": [
        "import torch.nn.functional as F\n",
        "\n",
        "# This training code is based on the `run_glue.py` script here:\n",
        "# https://github.com/huggingface/transformers/blob/5bfcd0485ece086ebcbed2d008813037968a9e58/examples/run_glue.py#L128\n",
        "\n",
        "seed_val = 42\n",
        "set_seed(seed_val)\n",
        "\n",
        "# Store the average loss after each epoch so we can plot them\n",
        "loss_values = []\n",
        "\n",
        "loss_fn = nn.BCELoss()\n",
        "\n",
        "# For each epoch\n",
        "for epoch in range(0, epochs):\n",
        "    \n",
        "    # ========================================\n",
        "    #               Training\n",
        "    # ========================================\n",
        "    \n",
        "    # Perform one full pass over the training set.\n",
        "    \n",
        "    print(\"\")\n",
        "    print('======== Epoch {:} / {:} ========'.format(epoch + 1, epochs))\n",
        "    print('Training...')\n",
        "    \n",
        "    # Measure how long the training epoch takes.\n",
        "    t0 = time.time()\n",
        "    \n",
        "    # Reset the total loss for this epoch.\n",
        "    total_loss = 0.\n",
        "    \n",
        "    # Put the model into training mode.\n",
        "    # Don't be mislead -- the call to 'train' just changes the \"mode\", it doesn't \"perform\" the training.\n",
        "    # 'dropout' and 'bachnorm' layers behave differently during training vs test\n",
        "    model.train()\n",
        "    \n",
        "    # For each batch of training data\n",
        "    for step, batch in enumerate(train_dataloader):\n",
        "        \n",
        "        # Progress update every 40 batches.\n",
        "        if step % 40 == 0 and not step == 0:\n",
        "            # Calculate elapsed time in minutes.\n",
        "            elapsed = format_time(time.time() - t0)\n",
        "            \n",
        "            # Report progress\n",
        "            print(\"Batch {:>5,} of {:>5,}. Elapsed: {:}.\".format(step, len(train_dataloader), elapsed))\n",
        "        \n",
        "        # Unpack this training batch from our dataloader. \n",
        "        #\n",
        "        # As we unpack the batch, we'll also copy each tensor to the GPU using the \n",
        "        # `to` method.\n",
        "        #\n",
        "        # `batch` contains three pytorch tensors:\n",
        "        #   [0]: input ids \n",
        "        #   [1]: attention masks\n",
        "        #   [2]: labels \n",
        "        b_input_ids = batch[0].to(device)\n",
        "        b_input_mask = batch[1].to(device)\n",
        "        b_labels = batch[2].to(device)\n",
        "        \n",
        "        # Always clear any previously calculated gradients before performing a\n",
        "        # backward pass. PyTorch doesn't do this automatically because \n",
        "        # accumulating the gradients is \"convenient while training RNNs\". \n",
        "        # (source: https://stackoverflow.com/questions/48001598/why-do-we-need-to-call-zero-grad-in-pytorch)\n",
        "        model.zero_grad()\n",
        "        \n",
        "        # Perform a forward pass (evaluate the model on this training batch).\n",
        "        # This will return the loss (rather than the model output) because we\n",
        "        # have provided the `labels`.\n",
        "        # The documentation for this `model` function is here: \n",
        "        # https://huggingface.co/transformers/v2.2.0/model_doc/bert.html#transformers.BertForSequenceClassification\n",
        "        outputs = model(b_input_ids, b_input_mask, token_type_ids=None)\n",
        "\n",
        "        # The call to `model` always returns a tuple, so we need to pull the \n",
        "        # loss value out of the tuple.\n",
        "        loss = loss_fn(outputs, b_labels.unsqueeze(1))\n",
        "        \n",
        "        # Accumulate the training loss over all of the batches so that we can\n",
        "        # calculate the average loss at the end. `loss` is a Tensor containing a\n",
        "        # single value; the `.item()` function just returns the Python value from the tensor.\n",
        "        total_loss += loss.item()\n",
        "        \n",
        "        # Perform a backward pass to calculate the gradients.\n",
        "        loss.backward()\n",
        "        \n",
        "        # Clip the norm of the gradients to 1.0.\n",
        "        # This is to help prevent the \"exploding gradients\" problem.\n",
        "        torch.nn.utils.clip_grad_norm_(model.parameters(), 1.0)\n",
        "        \n",
        "        # Update parameters and take a step using the computed gradient.\n",
        "        # The optimizer dictates the \"update rule\"--how the parameters are\n",
        "        # modified based on their gradients, the learning rate, etc.        \n",
        "        optimizer.step()\n",
        "        \n",
        "        # Update the learning rate.\n",
        "        scheduler.step()\n",
        "    \n",
        "    # Calculate the average loss over the training data.\n",
        "    avg_train_loss = total_loss / len(train_dataloader)\n",
        "    \n",
        "    # Store the loss value for plotting the learning curve.\n",
        "    loss_values.append(avg_train_loss)\n",
        "    \n",
        "    print(\"\")\n",
        "    print(\"Average training loss: {0:.2f}\".format(avg_train_loss))\n",
        "    print(\"Training epoch took: {:}\".format(format_time(time.time() - t0)))\n",
        "    \n",
        "    # ========================================\n",
        "    #               Validation\n",
        "    # ========================================\n",
        "    # After the completion of each training epoch, measure our performance on our validation set.\n",
        "    \n",
        "    print(\"\")\n",
        "    print(\"Running Validation...\")\n",
        "    \n",
        "    t0 = time.time()\n",
        "    \n",
        "    # Put the model in evaluation mode -- the dropout layers behave differently during evaluation\n",
        "    model.eval()\n",
        "    \n",
        "    # Tracking variables\n",
        "    eval_loss, eval_acc = 0., 0.\n",
        "    \n",
        "    \n",
        "\n",
        "    # Evaluate data for one epoch\n",
        "    for valid_step, batch in enumerate(valid_dataloader):\n",
        "        \n",
        "        val_preds = []\n",
        "\n",
        "        # Add batch to GPU\n",
        "        batch = tuple(t.to(device) for t in batch)\n",
        "        \n",
        "        # Unpack the inputs from our dataloader\n",
        "        b_input_ids, b_input_mask, b_labels = batch\n",
        "        \n",
        "        # Telling the model not to compute or store gradients, saving memory and speeding up validation\n",
        "        with torch.no_grad():\n",
        "            \n",
        "            # Forward pass, calculate logit predictions.\n",
        "            # This will return the logits rather than the loss because we have not provided labels.\n",
        "            outputs = model(b_input_ids, b_input_mask, token_type_ids=None)\n",
        "            \n",
        "        # Get the \"logits\" output by the model.\n",
        "        # The \"logits\" are the output values prior to applying an activation function like the softmax\n",
        "        loss = loss_fn(outputs, b_labels.unsqueeze(1))\n",
        "\n",
        "        outputs = outputs.cpu().numpy().flatten()\n",
        "        val_preds += [ int(p >= 0.5) for p in outputs ]\n",
        "        \n",
        "        # Move logits and labels to CPU\n",
        "        label_ids = b_labels.to('cpu').numpy()\n",
        "        \n",
        "        # Calculate the accuracy for this batch of test sentences.\n",
        "        tmp_eval_acc = flat_accuracy(val_preds, label_ids)\n",
        "        \n",
        "        # Accumulate the total accuracy.\n",
        "        eval_acc += tmp_eval_acc       \n",
        "    \n",
        "    # Report the final accuracy for this validation run.\n",
        "    print(\"Accuracy: {0:.2f}\".format(eval_acc / (valid_step + 1)))\n",
        "    print(\"Validation took: {:}\".format(format_time(time.time() - t0)))\n",
        "\n",
        "print(\"\")\n",
        "print(\"Training complete!\")        "
      ],
      "execution_count": 32,
      "outputs": [
        {
          "output_type": "stream",
          "name": "stdout",
          "text": [
            "\n",
            "======== Epoch 1 / 4 ========\n",
            "Training...\n"
          ]
        },
        {
          "output_type": "stream",
          "name": "stderr",
          "text": [
            "/usr/local/lib/python3.7/dist-packages/torch/nn/functional.py:652: UserWarning: Named tensors and all their associated APIs are an experimental feature and subject to change. Please do not use them for anything important until they are released as stable. (Triggered internally at  /pytorch/c10/core/TensorImpl.h:1156.)\n",
            "  return torch.max_pool1d(input, kernel_size, stride, padding, dilation, ceil_mode)\n"
          ]
        },
        {
          "output_type": "stream",
          "name": "stdout",
          "text": [
            "Batch    40 of   288. Elapsed: 0:00:30.\n",
            "Batch    80 of   288. Elapsed: 0:01:00.\n",
            "Batch   120 of   288. Elapsed: 0:01:30.\n",
            "Batch   160 of   288. Elapsed: 0:02:00.\n",
            "Batch   200 of   288. Elapsed: 0:02:30.\n",
            "Batch   240 of   288. Elapsed: 0:03:00.\n",
            "Batch   280 of   288. Elapsed: 0:03:31.\n",
            "\n",
            "Average training loss: 0.20\n",
            "Training epoch took: 0:03:36\n",
            "\n",
            "Running Validation...\n",
            "Accuracy: 0.06\n",
            "Validation took: 0:00:08\n",
            "\n",
            "======== Epoch 2 / 4 ========\n",
            "Training...\n",
            "Batch    40 of   288. Elapsed: 0:00:30.\n",
            "Batch    80 of   288. Elapsed: 0:01:00.\n",
            "Batch   120 of   288. Elapsed: 0:01:30.\n",
            "Batch   160 of   288. Elapsed: 0:02:00.\n",
            "Batch   200 of   288. Elapsed: 0:02:30.\n",
            "Batch   240 of   288. Elapsed: 0:03:00.\n",
            "Batch   280 of   288. Elapsed: 0:03:30.\n",
            "\n",
            "Average training loss: 0.12\n",
            "Training epoch took: 0:03:36\n",
            "\n",
            "Running Validation...\n",
            "Accuracy: 0.06\n",
            "Validation took: 0:00:08\n",
            "\n",
            "======== Epoch 3 / 4 ========\n",
            "Training...\n",
            "Batch    40 of   288. Elapsed: 0:00:30.\n",
            "Batch    80 of   288. Elapsed: 0:01:00.\n",
            "Batch   120 of   288. Elapsed: 0:01:30.\n",
            "Batch   160 of   288. Elapsed: 0:02:00.\n",
            "Batch   200 of   288. Elapsed: 0:02:30.\n",
            "Batch   240 of   288. Elapsed: 0:03:00.\n",
            "Batch   280 of   288. Elapsed: 0:03:30.\n",
            "\n",
            "Average training loss: 0.08\n",
            "Training epoch took: 0:03:36\n",
            "\n",
            "Running Validation...\n",
            "Accuracy: 0.08\n",
            "Validation took: 0:00:08\n",
            "\n",
            "======== Epoch 4 / 4 ========\n",
            "Training...\n",
            "Batch    40 of   288. Elapsed: 0:00:30.\n",
            "Batch    80 of   288. Elapsed: 0:01:00.\n",
            "Batch   120 of   288. Elapsed: 0:01:30.\n",
            "Batch   160 of   288. Elapsed: 0:02:00.\n",
            "Batch   200 of   288. Elapsed: 0:02:30.\n",
            "Batch   240 of   288. Elapsed: 0:03:00.\n",
            "Batch   280 of   288. Elapsed: 0:03:30.\n",
            "\n",
            "Average training loss: 0.05\n",
            "Training epoch took: 0:03:35\n",
            "\n",
            "Running Validation...\n",
            "Accuracy: 0.08\n",
            "Validation took: 0:00:08\n",
            "\n",
            "Training complete!\n"
          ]
        }
      ]
    },
    {
      "cell_type": "code",
      "metadata": {
        "id": "7HEWjeywybKL",
        "colab": {
          "base_uri": "https://localhost:8080/",
          "height": 427
        },
        "outputId": "db72fb3d-4ca8-4dea-eb37-a29c69a4a80a"
      },
      "source": [
        "# visualize training loss over all batches\n",
        "import matplotlib.pyplot as plt\n",
        "% matplotlib inline\n",
        "\n",
        "import seaborn as sns\n",
        "\n",
        "# Use plot styling from seaborn.\n",
        "sns.set(style='darkgrid')\n",
        "\n",
        "# Increase the plot size and font size.\n",
        "sns.set(font_scale=1.5)\n",
        "plt.rcParams[\"figure.figsize\"] = (12,6)\n",
        "\n",
        "# Plot the learning curve.\n",
        "plt.plot(loss_values, 'b-o')\n",
        "\n",
        "# Label the plot.\n",
        "plt.title(\"Training loss\")\n",
        "plt.xlabel(\"Epoch\")\n",
        "plt.ylabel(\"Loss\")\n",
        "\n",
        "plt.show()"
      ],
      "execution_count": 33,
      "outputs": [
        {
          "output_type": "display_data",
          "data": {
            "image/png": "[encoded data removed]",
            "text/plain": [
              "<Figure size 864x432 with 1 Axes>"
            ]
          },
          "metadata": {}
        }
      ]
    },
    {
      "cell_type": "markdown",
      "metadata": {
        "id": "qVQTc7Yd5wR8"
      },
      "source": [
        "## Performance on Test set\n",
        "\n",
        "- `sklearn` 라이브러리의 `classification_report` 함수 이용하여 **accuracy, precision, recall, f1 score** 평가 지표를 이용하여 test dataset 에 대해 성능 확인"
      ]
    },
    {
      "cell_type": "code",
      "metadata": {
        "colab": {
          "base_uri": "https://localhost:8080/"
        },
        "id": "68rTtPWjzbMp",
        "outputId": "71a495f4-0c05-4dc4-ca76-d66d5c2fcf31"
      },
      "source": [
        "print(test_data)"
      ],
      "execution_count": 34,
      "outputs": [
        {
          "output_type": "stream",
          "name": "stdout",
          "text": [
            "['  baby... nothing can ever break us apart... i love you so much and i want to be with you for ever. i really love you... for ever... and ever. *you are the only exception*. (l) <3 <3 <3 <3   ily2 u2665'\n",
            " '  does your stomach make noise when your terribly hungry?smh mines do all the time ughh:(   yeah sometimes or i just get a really sore head'\n",
            " '  do you have your own bank account?:   mes  they can be fun' ...\n",
            " \"  the stupids is about a family mr and mrs stupid and their children. they're rather quite stupid. it's a comedy and is rather hilarious...they're just stupid! haha. it's awesome. they do something good  it's a nice story. only available on region 1 dvd :-(   ohhhh  well thats a faillll because i don't have a multiregional player :( i might watch it online or something  thanks :d\"\n",
            " '  u mad?   nope im good'\n",
            " '  who asks people if they know me why do i see it all the time who is it that cares   you have a fan d00d. can you sign my bewbs?']\n"
          ]
        }
      ]
    },
    {
      "cell_type": "code",
      "metadata": {
        "colab": {
          "base_uri": "https://localhost:8080/"
        },
        "id": "6bfw6WvDzdkZ",
        "outputId": "5502a01e-66eb-41bf-f6c1-5465b0f0e93d"
      },
      "source": [
        "len(test_label)"
      ],
      "execution_count": 35,
      "outputs": [
        {
          "output_type": "execute_result",
          "data": {
            "text/plain": [
              "2555"
            ]
          },
          "metadata": {},
          "execution_count": 35
        }
      ]
    },
    {
      "cell_type": "code",
      "metadata": {
        "id": "PIg14zYC50F1",
        "colab": {
          "base_uri": "https://localhost:8080/"
        },
        "outputId": "f92dab19-0081-4619-b55f-f7862bf59917"
      },
      "source": [
        "# Tokenize all of the sentences and map the tokens to thier word IDs.\n",
        "input_ids = []\n",
        "\n",
        "# For every sentence...\n",
        "for sent in test_data:\n",
        "    # `encode` will:\n",
        "    #   (1) Tokenize the sentence.\n",
        "    #   (2) Prepend the `[CLS]` token to the start.\n",
        "    #   (3) Append the `[SEP]` token to the end.\n",
        "    #   (4) Map tokens to their IDs.\n",
        "    encoded_sent = tokenizer.encode(\n",
        "                        sent,                      # Sentence to encode.\n",
        "                        add_special_tokens = True, # Add '[CLS]' and '[SEP]'\n",
        "                   )\n",
        "    \n",
        "    input_ids.append(encoded_sent)\n",
        "\n",
        "# Pad our input tokens\n",
        "input_ids = tf.keras.preprocessing.sequence.pad_sequences(input_ids, maxlen=MAXLEN, \n",
        "                          dtype=\"long\", truncating=\"post\", padding=\"post\")\n",
        "\n",
        "# Create attention masks\n",
        "attention_masks = []\n",
        "\n",
        "# For every sentence\n",
        "for sent in input_ids:\n",
        "    # Create the attention mask.\n",
        "    #  - If a token ID is 0, then it's padding, set the mask to 0.\n",
        "    #  - If a token ID is not 0 ( > 0), then it's a real token, set the mask to 1.\n",
        "    att_mask = [int(token_id > 0) for token_id in sent]\n",
        "    \n",
        "    # Store the attention mask for this sentence.\n",
        "    attention_masks.append(att_mask)\n",
        "\n",
        "# Convert to tensors.\n",
        "prediction_inputs = torch.tensor(input_ids)\n",
        "prediction_masks = torch.tensor(attention_masks)\n",
        "prediction_labels = torch.tensor(test_label)\n",
        "\n",
        "# Set the batch size.  \n",
        "batch_size = 32  \n",
        "\n",
        "# Create the DataLoader.\n",
        "prediction_data = TensorDataset(prediction_inputs, prediction_masks, prediction_labels)\n",
        "prediction_sampler = SequentialSampler(prediction_data)\n",
        "prediction_dataloader = DataLoader(prediction_data, sampler=prediction_sampler, batch_size=batch_size)"
      ],
      "execution_count": 36,
      "outputs": [
        {
          "output_type": "stream",
          "name": "stderr",
          "text": [
            "Token indices sequence length is longer than the specified maximum sequence length for this model (612 > 512). Running this sequence through the model will result in indexing errors\n"
          ]
        }
      ]
    },
    {
      "cell_type": "code",
      "metadata": {
        "id": "9PK69aZG6kWt",
        "colab": {
          "base_uri": "https://localhost:8080/"
        },
        "outputId": "2072f27e-dd7b-46cd-c478-cff60982d437"
      },
      "source": [
        "# Prediction on test set\n",
        "\n",
        "print('Predicting labels for {:,} test sentences...'.format(len(prediction_inputs)))\n",
        "\n",
        "# Put model in evaluation mode\n",
        "model.eval()\n",
        "\n",
        "# Tracking variables \n",
        "predictions , true_labels = [], []\n",
        "\n",
        "preds = []\n",
        "# Predict \n",
        "for batch in prediction_dataloader:\n",
        "  # Add batch to GPU\n",
        "  batch = tuple(t.to(device) for t in batch)\n",
        "  \n",
        "  # Unpack the inputs from our dataloader\n",
        "  b_input_ids, b_input_mask, b_labels = batch\n",
        "  \n",
        "  # Telling the model not to compute or store gradients, saving memory and \n",
        "  # speeding up prediction\n",
        "  with torch.no_grad():\n",
        "      # Forward pass, calculate logit predictions\n",
        "      outputs = model(b_input_ids, b_input_mask, token_type_ids=None)\n",
        "\n",
        "  preds += list(outputs.cpu().numpy().flatten())\n",
        "\n",
        "  label_ids = b_labels.to('cpu').numpy()\n",
        "\n",
        "  true_labels.extend(label_ids.flatten())\n",
        "\n",
        "\n",
        "print('DONE.')"
      ],
      "execution_count": 37,
      "outputs": [
        {
          "output_type": "stream",
          "name": "stdout",
          "text": [
            "Predicting labels for 2,555 test sentences...\n",
            "DONE.\n"
          ]
        }
      ]
    },
    {
      "cell_type": "code",
      "metadata": {
        "id": "LzAXUuqDQh6u"
      },
      "source": [
        "pre = [int(x >= 0.5) for x in preds]"
      ],
      "execution_count": 38,
      "outputs": []
    },
    {
      "cell_type": "code",
      "metadata": {
        "id": "Q3o8SfUnV--K",
        "colab": {
          "base_uri": "https://localhost:8080/"
        },
        "outputId": "53e09131-7fca-4114-8e5d-5d21f5863aa8"
      },
      "source": [
        "# accuracy, precision, recall, f1 score 성능 확인\n",
        "from sklearn.metrics import classification_report\n",
        "    \n",
        "target_names = ['negative', 'positive']\n",
        "\n",
        "print(classification_report(true_labels, pre, digits=4, target_names=target_names))"
      ],
      "execution_count": 39,
      "outputs": [
        {
          "output_type": "stream",
          "name": "stdout",
          "text": [
            "              precision    recall  f1-score   support\n",
            "\n",
            "    negative     0.5229    0.5594    0.5405       143\n",
            "    positive     0.9738    0.9697    0.9717      2412\n",
            "\n",
            "    accuracy                         0.9468      2555\n",
            "   macro avg     0.7483    0.7646    0.7561      2555\n",
            "weighted avg     0.9485    0.9468    0.9476      2555\n",
            "\n"
          ]
        }
      ]
    }
  ]
}
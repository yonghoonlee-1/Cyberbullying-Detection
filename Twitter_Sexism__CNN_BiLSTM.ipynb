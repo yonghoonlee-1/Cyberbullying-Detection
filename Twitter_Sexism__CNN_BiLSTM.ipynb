{
  "nbformat": 4,
  "nbformat_minor": 0,
  "metadata": {
    "colab": {
      "name": "Twitter_Sexism__CNN-BiLSTM",
      "provenance": [],
      "authorship_tag": "ABX9TyOpcQFMRjTRFj6pi2DSJqiy",
      "include_colab_link": true
    },
    "kernelspec": {
      "name": "python3",
      "display_name": "Python 3"
    },
    "accelerator": "GPU"
  },
  "cells": [
    {
      "cell_type": "markdown",
      "metadata": {
        "id": "view-in-github",
        "colab_type": "text"
      },
      "source": [
        "<a href=\"https://colab.research.google.com/github/yonghoonlee-1/Cyberbullying-Detection/blob/main/Twitter_Sexism__CNN_BiLSTM.ipynb\" target=\"_parent\"><img src=\"https://colab.research.google.com/assets/colab-badge.svg\" alt=\"Open In Colab\"/></a>"
      ]
    },
    {
      "cell_type": "code",
      "metadata": {
        "id": "cj7tffTOTK8O",
        "colab": {
          "base_uri": "https://localhost:8080/"
        },
        "outputId": "b462cf91-2f25-466d-b323-aaad6076dc83"
      },
      "source": [
        "from google.colab import drive\n",
        "drive.mount('/gdrive')\n",
        "!rm -rf /content/gdrive\n",
        "!ln -s \"/gdrive/My Drive\" /content/gdrive\n",
        "%cd /content/gdrive"
      ],
      "execution_count": null,
      "outputs": [
        {
          "output_type": "stream",
          "text": [
            "Mounted at /gdrive\n",
            "/gdrive/My Drive\n"
          ],
          "name": "stdout"
        }
      ]
    },
    {
      "cell_type": "code",
      "metadata": {
        "id": "r0QwqxZnTFRO"
      },
      "source": [
        "import keras\n",
        "from keras.preprocessing.sequence import pad_sequences\n",
        "from keras.models import Sequential\n",
        "from keras.layers import Dense, Dropout, Embedding, LSTM\n",
        "import pandas as pd\n",
        "import numpy as np\n",
        "import re\n",
        "from keras.preprocessing.text import Tokenizer\n",
        "from sklearn.model_selection import train_test_split"
      ],
      "execution_count": null,
      "outputs": []
    },
    {
      "cell_type": "code",
      "metadata": {
        "id": "cQNAs-AbTNp1",
        "colab": {
          "base_uri": "https://localhost:8080/",
          "height": 359
        },
        "outputId": "b39e21ff-7161-4c39-c11a-71b654fadca3"
      },
      "source": [
        "twitter=pd.read_csv(\"Cyberbullying_Twitter Sexism.csv\", encoding='latin1')\n",
        "twitter.head(10)"
      ],
      "execution_count": null,
      "outputs": [
        {
          "output_type": "execute_result",
          "data": {
            "text/html": [
              "<div>\n",
              "<style scoped>\n",
              "    .dataframe tbody tr th:only-of-type {\n",
              "        vertical-align: middle;\n",
              "    }\n",
              "\n",
              "    .dataframe tbody tr th {\n",
              "        vertical-align: top;\n",
              "    }\n",
              "\n",
              "    .dataframe thead th {\n",
              "        text-align: right;\n",
              "    }\n",
              "</style>\n",
              "<table border=\"1\" class=\"dataframe\">\n",
              "  <thead>\n",
              "    <tr style=\"text-align: right;\">\n",
              "      <th></th>\n",
              "      <th>sentence</th>\n",
              "      <th>sentiment</th>\n",
              "    </tr>\n",
              "  </thead>\n",
              "  <tbody>\n",
              "    <tr>\n",
              "      <th>0</th>\n",
              "      <td>RT @colonelkickhead: Another bloody instant re...</td>\n",
              "      <td>none</td>\n",
              "    </tr>\n",
              "    <tr>\n",
              "      <th>1</th>\n",
              "      <td>@azzamalirhabi @JihadiA8 This video of the Pes...</td>\n",
              "      <td>none</td>\n",
              "    </tr>\n",
              "    <tr>\n",
              "      <th>2</th>\n",
              "      <td>Oh really? No more instant restaurants? THAT'S...</td>\n",
              "      <td>none</td>\n",
              "    </tr>\n",
              "    <tr>\n",
              "      <th>3</th>\n",
              "      <td>RT @Benfrancisallen: It hasn't been a good few...</td>\n",
              "      <td>none</td>\n",
              "    </tr>\n",
              "    <tr>\n",
              "      <th>4</th>\n",
              "      <td>RT @NoToFeminism: I donât need femisnsn beca...</td>\n",
              "      <td>none</td>\n",
              "    </tr>\n",
              "    <tr>\n",
              "      <th>5</th>\n",
              "      <td>@MariachiMacabre 19% is not the vast majority</td>\n",
              "      <td>none</td>\n",
              "    </tr>\n",
              "    <tr>\n",
              "      <th>6</th>\n",
              "      <td>RT @fruitondabottom: #FeminismisEQUALITYwhen M...</td>\n",
              "      <td>sexism</td>\n",
              "    </tr>\n",
              "    <tr>\n",
              "      <th>7</th>\n",
              "      <td>Gather round kids. It's story time brought to ...</td>\n",
              "      <td>none</td>\n",
              "    </tr>\n",
              "    <tr>\n",
              "      <th>8</th>\n",
              "      <td>Did you hear that? That's the sound of a bunch...</td>\n",
              "      <td>none</td>\n",
              "    </tr>\n",
              "    <tr>\n",
              "      <th>9</th>\n",
              "      <td>@jobbers7 And western feminists are silent.</td>\n",
              "      <td>none</td>\n",
              "    </tr>\n",
              "  </tbody>\n",
              "</table>\n",
              "</div>"
            ],
            "text/plain": [
              "                                            sentence sentiment\n",
              "0  RT @colonelkickhead: Another bloody instant re...      none\n",
              "1  @azzamalirhabi @JihadiA8 This video of the Pes...      none\n",
              "2  Oh really? No more instant restaurants? THAT'S...      none\n",
              "3  RT @Benfrancisallen: It hasn't been a good few...      none\n",
              "4  RT @NoToFeminism: I donât need femisnsn beca...      none\n",
              "5      @MariachiMacabre 19% is not the vast majority      none\n",
              "6  RT @fruitondabottom: #FeminismisEQUALITYwhen M...    sexism\n",
              "7  Gather round kids. It's story time brought to ...      none\n",
              "8  Did you hear that? That's the sound of a bunch...      none\n",
              "9        @jobbers7 And western feminists are silent.      none"
            ]
          },
          "metadata": {
            "tags": []
          },
          "execution_count": 3
        }
      ]
    },
    {
      "cell_type": "code",
      "metadata": {
        "id": "sBPSTpSPTVXJ"
      },
      "source": [
        "data = twitter[['sentence','sentiment']]"
      ],
      "execution_count": null,
      "outputs": []
    },
    {
      "cell_type": "code",
      "metadata": {
        "id": "jf2HNdhuTW5a",
        "colab": {
          "base_uri": "https://localhost:8080/"
        },
        "outputId": "e6baf166-65bb-4183-efad-32caf955dde2"
      },
      "source": [
        "import string\n",
        "\n",
        "data['sentence'] = data['sentence'].apply(lambda x: x.lower())\n",
        "data['sentence'] = data['sentence'].apply((lambda x: re.sub(r\"\\brt\\b\", \"\", x).strip()))\n",
        "data['sentence'] = data['sentence'].apply((lambda x: re.sub(r\"(https?|http)://[-a-zA-Z0-9+&@#/%?=~_|!:,.;]*[-a-zA-Z0-9+&@#/%=~_|]\", \"\", x)))\n",
        "data['sentence'] = data['sentence'].apply(lambda x: \"\".join(l for l in x if l not in string.punctuation))\n",
        "print(data[ data['sentiment'] == 'none'].size)\n",
        "print(data[ data['sentiment'] == 'sexism'].size)"
      ],
      "execution_count": null,
      "outputs": [
        {
          "output_type": "stream",
          "text": [
            "21504\n",
            "6042\n"
          ],
          "name": "stdout"
        }
      ]
    },
    {
      "cell_type": "code",
      "metadata": {
        "id": "eMe61u6hKsPy"
      },
      "source": [
        "def text_to_wordlist(text, remove_stopwords=True):    \n",
        "\n",
        "    text = text.lower().split()\n",
        "    \n",
        "    if remove_stopwords:\n",
        "        text = [wordnet_lemmatizer.lemmatize(w) for w in text]\n",
        "        text = [w for w in text if w != \"nan\" ]\n",
        "    \n",
        "    text = \" \".join(text)\n",
        "\n",
        "    return(text)"
      ],
      "execution_count": null,
      "outputs": []
    },
    {
      "cell_type": "code",
      "metadata": {
        "id": "bL79bJCXKsWZ",
        "colab": {
          "base_uri": "https://localhost:8080/"
        },
        "outputId": "7ea582a9-968a-47b6-a8b9-e0abfffc80ad"
      },
      "source": [
        "import nltk\n",
        "from nltk.stem import WordNetLemmatizer\n",
        "\n",
        "nltk.download('wordnet')\n",
        "wordnet_lemmatizer = WordNetLemmatizer()"
      ],
      "execution_count": null,
      "outputs": [
        {
          "output_type": "stream",
          "text": [
            "[nltk_data] Downloading package wordnet to /root/nltk_data...\n",
            "[nltk_data]   Unzipping corpora/wordnet.zip.\n"
          ],
          "name": "stdout"
        }
      ]
    },
    {
      "cell_type": "code",
      "metadata": {
        "id": "Y8EeJpxWWRr1"
      },
      "source": [
        "data['sentence'] = data.apply(lambda row: text_to_wordlist(row.sentence).split(), axis=1)"
      ],
      "execution_count": null,
      "outputs": []
    },
    {
      "cell_type": "code",
      "metadata": {
        "id": "RxoIrxL1TYjU"
      },
      "source": [
        "tokenizer = Tokenizer(split=' ')\n",
        "tokenizer.fit_on_texts(data['sentence'].values)\n",
        "X = tokenizer.texts_to_sequences(data['sentence'].values)\n",
        "X = pad_sequences(X, maxlen=26)"
      ],
      "execution_count": null,
      "outputs": []
    },
    {
      "cell_type": "code",
      "metadata": {
        "id": "B5aOKeVqiLUO"
      },
      "source": [
        "Y = pd.get_dummies(data['sentiment']).values"
      ],
      "execution_count": null,
      "outputs": []
    },
    {
      "cell_type": "code",
      "metadata": {
        "id": "dPPHhKjlORRG",
        "colab": {
          "base_uri": "https://localhost:8080/"
        },
        "outputId": "369bbf8f-0246-4884-e2e4-2c74005cdcfa"
      },
      "source": [
        "print(X.shape)"
      ],
      "execution_count": null,
      "outputs": [
        {
          "output_type": "stream",
          "text": [
            "(13773, 26)\n"
          ],
          "name": "stdout"
        }
      ]
    },
    {
      "cell_type": "code",
      "metadata": {
        "id": "kL6tIcZ4NLlC"
      },
      "source": [
        "from sklearn.model_selection import KFold\n",
        "\n",
        "skf = KFold(n_splits=5, shuffle=True)\n",
        "accuracy = []\n",
        "precision = []\n",
        "recall = []\n",
        "f1_score = []"
      ],
      "execution_count": null,
      "outputs": []
    },
    {
      "cell_type": "code",
      "metadata": {
        "id": "t2rF3pYyTaVD"
      },
      "source": [
        "from numpy import array\n",
        "from numpy import asarray\n",
        "from numpy import zeros\n",
        "\n",
        "embeddings_dictionary = dict()\n",
        "glove_file = open('/content/gdrive/glove.twitter.27B.50d.txt', encoding=\"utf8\")\n",
        "\n",
        "for line in glove_file:\n",
        "    records = line.split()\n",
        "    word = records[0]\n",
        "    vector_dimensions = asarray(records[1:], dtype='float32')\n",
        "    embeddings_dictionary [word] = vector_dimensions\n",
        "glove_file.close()"
      ],
      "execution_count": null,
      "outputs": []
    },
    {
      "cell_type": "code",
      "metadata": {
        "id": "E-Na1Z5vZsCJ"
      },
      "source": [
        "vocab_size = len(tokenizer.word_index) + 1\n",
        "\n",
        "embedding_matrix = zeros((vocab_size, 50))\n",
        "for word, index in tokenizer.word_index.items():\n",
        "    embedding_vector = embeddings_dictionary.get(word)\n",
        "    if embedding_vector is not None:\n",
        "        embedding_matrix[index] = embedding_vector"
      ],
      "execution_count": null,
      "outputs": []
    },
    {
      "cell_type": "code",
      "metadata": {
        "id": "t9pL6TSeawvi",
        "colab": {
          "base_uri": "https://localhost:8080/"
        },
        "outputId": "57629c40-1ed7-4f3e-ad9f-7e6446933624"
      },
      "source": [
        "from keras.layers import Bidirectional, Flatten\n",
        "from keras.layers.convolutional import Conv1D, MaxPooling1D \n",
        "from sklearn import metrics\n",
        "from sklearn.utils import shuffle\n",
        "\n",
        "X, Y = shuffle(X, Y, random_state=42)\n",
        "\n",
        "embed_dim = 50\n",
        "lstm_out = 50\n",
        "for train, validation in skf.split(X, Y):\n",
        "    model = Sequential()\n",
        "    model.add(Embedding(len(tokenizer.word_index) + 1, embed_dim, weights=[embedding_matrix], input_length = X.shape[1]))\n",
        "    model.add(Dropout(0.25))\n",
        "    model.add(Conv1D(filters=128, kernel_size=3, padding='same', activation='relu'))\n",
        "    model.add(MaxPooling1D(pool_size=2))\n",
        "    model.add(Bidirectional(LSTM(lstm_out, return_sequences=True)))\n",
        "    model.add(Dropout(0.5))\n",
        "    model.add(Flatten())\n",
        "    model.add(Dense(2,activation='softmax'))\n",
        "    model.compile(loss = 'categorical_crossentropy', optimizer='adam',metrics = ['accuracy'])\n",
        "    model.fit(X[train], Y[train], epochs=10, batch_size=128)\n",
        "    k_accuracy = '%.4f' % (model.evaluate(X[validation], Y[validation])[1])\n",
        "    predict_test = (model.predict(X[validation]) >= 0.5) \n",
        "    k_precision = metrics.precision_score(Y[validation], predict_test, average=None)\n",
        "    k_recall = metrics.recall_score(Y[validation], predict_test, average=None)\n",
        "    k_f1_score = metrics.f1_score(Y[validation], predict_test, average=None)\n",
        "    accuracy.append(k_accuracy)\n",
        "    precision.append(k_precision)\n",
        "    recall.append(k_recall)\n",
        "    f1_score.append(k_f1_score)"
      ],
      "execution_count": null,
      "outputs": [
        {
          "output_type": "stream",
          "text": [
            "Epoch 1/10\n",
            "87/87 [==============================] - 10s 14ms/step - loss: 0.5258 - accuracy: 0.7738\n",
            "Epoch 2/10\n",
            "87/87 [==============================] - 1s 14ms/step - loss: 0.3772 - accuracy: 0.8449\n",
            "Epoch 3/10\n",
            "87/87 [==============================] - 1s 14ms/step - loss: 0.3163 - accuracy: 0.8719\n",
            "Epoch 4/10\n",
            "87/87 [==============================] - 1s 14ms/step - loss: 0.2406 - accuracy: 0.8993\n",
            "Epoch 5/10\n",
            "87/87 [==============================] - 1s 14ms/step - loss: 0.1867 - accuracy: 0.9271\n",
            "Epoch 6/10\n",
            "87/87 [==============================] - 1s 14ms/step - loss: 0.1325 - accuracy: 0.9501\n",
            "Epoch 7/10\n",
            "87/87 [==============================] - 1s 14ms/step - loss: 0.1073 - accuracy: 0.9607\n",
            "Epoch 8/10\n",
            "87/87 [==============================] - 1s 14ms/step - loss: 0.1222 - accuracy: 0.9530\n",
            "Epoch 9/10\n",
            "87/87 [==============================] - 1s 14ms/step - loss: 0.0901 - accuracy: 0.9640\n",
            "Epoch 10/10\n",
            "87/87 [==============================] - 1s 14ms/step - loss: 0.0642 - accuracy: 0.9772\n",
            "87/87 [==============================] - 1s 3ms/step - loss: 0.3265 - accuracy: 0.8973\n",
            "Epoch 1/10\n",
            "87/87 [==============================] - 4s 15ms/step - loss: 0.5374 - accuracy: 0.7680\n",
            "Epoch 2/10\n",
            "87/87 [==============================] - 1s 14ms/step - loss: 0.4011 - accuracy: 0.8356\n",
            "Epoch 3/10\n",
            "87/87 [==============================] - 1s 14ms/step - loss: 0.3209 - accuracy: 0.8709\n",
            "Epoch 4/10\n",
            "87/87 [==============================] - 1s 14ms/step - loss: 0.2624 - accuracy: 0.8935\n",
            "Epoch 5/10\n",
            "87/87 [==============================] - 1s 14ms/step - loss: 0.2059 - accuracy: 0.9193\n",
            "Epoch 6/10\n",
            "87/87 [==============================] - 1s 14ms/step - loss: 0.1779 - accuracy: 0.9281\n",
            "Epoch 7/10\n",
            "87/87 [==============================] - 1s 14ms/step - loss: 0.1317 - accuracy: 0.9492\n",
            "Epoch 8/10\n",
            "87/87 [==============================] - 1s 14ms/step - loss: 0.1003 - accuracy: 0.9624\n",
            "Epoch 9/10\n",
            "87/87 [==============================] - 1s 14ms/step - loss: 0.0789 - accuracy: 0.9702\n",
            "Epoch 10/10\n",
            "87/87 [==============================] - 1s 14ms/step - loss: 0.0725 - accuracy: 0.9755\n",
            "87/87 [==============================] - 1s 3ms/step - loss: 0.3044 - accuracy: 0.9085\n",
            "Epoch 1/10\n",
            "87/87 [==============================] - 3s 14ms/step - loss: 0.5147 - accuracy: 0.7873\n",
            "Epoch 2/10\n",
            "87/87 [==============================] - 1s 14ms/step - loss: 0.3784 - accuracy: 0.8437\n",
            "Epoch 3/10\n",
            "87/87 [==============================] - 1s 14ms/step - loss: 0.3082 - accuracy: 0.8711\n",
            "Epoch 4/10\n",
            "87/87 [==============================] - 1s 14ms/step - loss: 0.2479 - accuracy: 0.8994\n",
            "Epoch 5/10\n",
            "87/87 [==============================] - 1s 14ms/step - loss: 0.1909 - accuracy: 0.9239\n",
            "Epoch 6/10\n",
            "87/87 [==============================] - 1s 14ms/step - loss: 0.1425 - accuracy: 0.9446\n",
            "Epoch 7/10\n",
            "87/87 [==============================] - 1s 14ms/step - loss: 0.1234 - accuracy: 0.9530\n",
            "Epoch 8/10\n",
            "87/87 [==============================] - 1s 14ms/step - loss: 0.0975 - accuracy: 0.9626\n",
            "Epoch 9/10\n",
            "87/87 [==============================] - 1s 14ms/step - loss: 0.0959 - accuracy: 0.9640\n",
            "Epoch 10/10\n",
            "87/87 [==============================] - 1s 14ms/step - loss: 0.0766 - accuracy: 0.9706\n",
            "87/87 [==============================] - 1s 3ms/step - loss: 0.3440 - accuracy: 0.9038\n",
            "Epoch 1/10\n",
            "87/87 [==============================] - 4s 14ms/step - loss: 0.5421 - accuracy: 0.7615\n",
            "Epoch 2/10\n",
            "87/87 [==============================] - 1s 14ms/step - loss: 0.3874 - accuracy: 0.8406\n",
            "Epoch 3/10\n",
            "87/87 [==============================] - 1s 14ms/step - loss: 0.3320 - accuracy: 0.8600\n",
            "Epoch 4/10\n",
            "87/87 [==============================] - 1s 14ms/step - loss: 0.2693 - accuracy: 0.8930\n",
            "Epoch 5/10\n",
            "87/87 [==============================] - 1s 14ms/step - loss: 0.1989 - accuracy: 0.9213\n",
            "Epoch 6/10\n",
            "87/87 [==============================] - 1s 14ms/step - loss: 0.1558 - accuracy: 0.9368\n",
            "Epoch 7/10\n",
            "87/87 [==============================] - 1s 14ms/step - loss: 0.1105 - accuracy: 0.9605\n",
            "Epoch 8/10\n",
            "87/87 [==============================] - 1s 15ms/step - loss: 0.0984 - accuracy: 0.9643\n",
            "Epoch 9/10\n",
            "87/87 [==============================] - 1s 14ms/step - loss: 0.0903 - accuracy: 0.9654\n",
            "Epoch 10/10\n",
            "87/87 [==============================] - 1s 14ms/step - loss: 0.0659 - accuracy: 0.9742\n",
            "87/87 [==============================] - 1s 3ms/step - loss: 0.3304 - accuracy: 0.9027\n",
            "Epoch 1/10\n",
            "87/87 [==============================] - 4s 14ms/step - loss: 0.5321 - accuracy: 0.7677\n",
            "Epoch 2/10\n",
            "87/87 [==============================] - 1s 14ms/step - loss: 0.3716 - accuracy: 0.8445\n",
            "Epoch 3/10\n",
            "87/87 [==============================] - 1s 14ms/step - loss: 0.3288 - accuracy: 0.8650\n",
            "Epoch 4/10\n",
            "87/87 [==============================] - 1s 14ms/step - loss: 0.2641 - accuracy: 0.8853\n",
            "Epoch 5/10\n",
            "87/87 [==============================] - 1s 14ms/step - loss: 0.2063 - accuracy: 0.9207\n",
            "Epoch 6/10\n",
            "87/87 [==============================] - 1s 14ms/step - loss: 0.1489 - accuracy: 0.9439\n",
            "Epoch 7/10\n",
            "87/87 [==============================] - 1s 14ms/step - loss: 0.1180 - accuracy: 0.9553\n",
            "Epoch 8/10\n",
            "87/87 [==============================] - 1s 14ms/step - loss: 0.0955 - accuracy: 0.9628\n",
            "Epoch 9/10\n",
            "87/87 [==============================] - 1s 14ms/step - loss: 0.0845 - accuracy: 0.9653\n",
            "Epoch 10/10\n",
            "87/87 [==============================] - 1s 14ms/step - loss: 0.0641 - accuracy: 0.9758\n",
            "87/87 [==============================] - 1s 3ms/step - loss: 0.3006 - accuracy: 0.9020\n"
          ],
          "name": "stdout"
        }
      ]
    },
    {
      "cell_type": "code",
      "metadata": {
        "id": "un-6cICmN6kL"
      },
      "source": [
        "def average(list):\n",
        "    return (sum(list) / len(list))"
      ],
      "execution_count": null,
      "outputs": []
    },
    {
      "cell_type": "code",
      "metadata": {
        "id": "H5tyltEFN7b3"
      },
      "source": [
        "accuracy = list(map(float, accuracy))"
      ],
      "execution_count": null,
      "outputs": []
    },
    {
      "cell_type": "code",
      "metadata": {
        "id": "B-Bf2U-eN9Ea",
        "colab": {
          "base_uri": "https://localhost:8080/"
        },
        "outputId": "c498956c-4263-4495-fe4e-aaeb06d22ce7"
      },
      "source": [
        "print(average(accuracy))"
      ],
      "execution_count": null,
      "outputs": [
        {
          "output_type": "stream",
          "text": [
            "0.9028599999999999\n"
          ],
          "name": "stdout"
        }
      ]
    },
    {
      "cell_type": "code",
      "metadata": {
        "id": "4uRUxGJEN-Vc",
        "colab": {
          "base_uri": "https://localhost:8080/"
        },
        "outputId": "b3e46df8-2357-4a86-ba1d-c1bf8e97289d"
      },
      "source": [
        "print(average(precision))"
      ],
      "execution_count": null,
      "outputs": [
        {
          "output_type": "stream",
          "text": [
            "[0.93545006 0.79136688]\n"
          ],
          "name": "stdout"
        }
      ]
    },
    {
      "cell_type": "code",
      "metadata": {
        "id": "AVseS-vuN_6l",
        "colab": {
          "base_uri": "https://localhost:8080/"
        },
        "outputId": "a32c3aad-532a-483b-caed-8d369b8419fd"
      },
      "source": [
        "print(average(recall))"
      ],
      "execution_count": null,
      "outputs": [
        {
          "output_type": "stream",
          "text": [
            "[0.94101593 0.76797932]\n"
          ],
          "name": "stdout"
        }
      ]
    },
    {
      "cell_type": "code",
      "metadata": {
        "id": "M50vHyQMOBVH",
        "colab": {
          "base_uri": "https://localhost:8080/"
        },
        "outputId": "933b4429-2190-4faa-c20a-eaadf3ab0771"
      },
      "source": [
        "print(average(f1_score))"
      ],
      "execution_count": null,
      "outputs": [
        {
          "output_type": "stream",
          "text": [
            "[0.93792323 0.77559184]\n"
          ],
          "name": "stdout"
        }
      ]
    },
    {
      "cell_type": "code",
      "metadata": {
        "id": "I7-qAq3b-G-4"
      },
      "source": [
        ""
      ],
      "execution_count": null,
      "outputs": []
    }
  ]
}
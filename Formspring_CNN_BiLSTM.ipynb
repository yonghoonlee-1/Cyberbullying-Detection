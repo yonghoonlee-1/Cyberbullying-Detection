{
  "nbformat": 4,
  "nbformat_minor": 0,
  "metadata": {
    "colab": {
      "name": "Formspring CNN-BiLSTM",
      "provenance": [],
      "collapsed_sections": [],
      "authorship_tag": "ABX9TyNSeKb7Y3V2zzDlWPwOg3Bl",
      "include_colab_link": true
    },
    "kernelspec": {
      "name": "python3",
      "display_name": "Python 3"
    },
    "accelerator": "GPU"
  },
  "cells": [
    {
      "cell_type": "markdown",
      "metadata": {
        "id": "view-in-github",
        "colab_type": "text"
      },
      "source": [
        "<a href=\"https://colab.research.google.com/github/yonghoonlee-1/Cyberbullying-Detection/blob/main/Formspring_CNN_BiLSTM.ipynb\" target=\"_parent\"><img src=\"https://colab.research.google.com/assets/colab-badge.svg\" alt=\"Open In Colab\"/></a>"
      ]
    },
    {
      "cell_type": "code",
      "metadata": {
        "id": "cj7tffTOTK8O",
        "colab": {
          "base_uri": "https://localhost:8080/"
        },
        "outputId": "a2cc2425-dfe5-4b70-e456-2c1b127792e8"
      },
      "source": [
        "from google.colab import drive\n",
        "drive.mount('/gdrive')\n",
        "!rm -rf /content/gdrive\n",
        "!ln -s \"/gdrive/My Drive\" /content/gdrive\n",
        "%cd /content/gdrive"
      ],
      "execution_count": 1,
      "outputs": [
        {
          "output_type": "stream",
          "text": [
            "Drive already mounted at /gdrive; to attempt to forcibly remount, call drive.mount(\"/gdrive\", force_remount=True).\n",
            "/gdrive/My Drive\n"
          ],
          "name": "stdout"
        }
      ]
    },
    {
      "cell_type": "code",
      "metadata": {
        "id": "r0QwqxZnTFRO"
      },
      "source": [
        "import keras\n",
        "from keras.preprocessing.sequence import pad_sequences\n",
        "from keras.models import Sequential\n",
        "from keras.layers import Dense, Dropout, Embedding, LSTM\n",
        "import pandas as pd\n",
        "import numpy as np\n",
        "import re\n",
        "from keras.preprocessing.text import Tokenizer\n",
        "from sklearn.model_selection import train_test_split"
      ],
      "execution_count": 2,
      "outputs": []
    },
    {
      "cell_type": "code",
      "metadata": {
        "id": "cQNAs-AbTNp1"
      },
      "source": [
        "formspring=pd.read_csv(\"/content/gdrive/formspring_data.csv\", encoding='latin1')"
      ],
      "execution_count": 3,
      "outputs": []
    },
    {
      "cell_type": "code",
      "metadata": {
        "id": "FVEeMmVYTTlO",
        "colab": {
          "base_uri": "https://localhost:8080/",
          "height": 359
        },
        "outputId": "e81e3342-b08b-49f0-ddcb-4b2cb6676db0"
      },
      "source": [
        "formspring.head(10)"
      ],
      "execution_count": 4,
      "outputs": [
        {
          "output_type": "execute_result",
          "data": {
            "text/html": [
              "<div>\n",
              "<style scoped>\n",
              "    .dataframe tbody tr th:only-of-type {\n",
              "        vertical-align: middle;\n",
              "    }\n",
              "\n",
              "    .dataframe tbody tr th {\n",
              "        vertical-align: top;\n",
              "    }\n",
              "\n",
              "    .dataframe thead th {\n",
              "        text-align: right;\n",
              "    }\n",
              "</style>\n",
              "<table border=\"1\" class=\"dataframe\">\n",
              "  <thead>\n",
              "    <tr style=\"text-align: right;\">\n",
              "      <th></th>\n",
              "      <th>sentence</th>\n",
              "      <th>sentiment</th>\n",
              "    </tr>\n",
              "  </thead>\n",
              "  <tbody>\n",
              "    <tr>\n",
              "      <th>0</th>\n",
              "      <td>Q: what&amp;#039;s your favorite song? :D&lt;br&gt;A: I ...</td>\n",
              "      <td>non-bully</td>\n",
              "    </tr>\n",
              "    <tr>\n",
              "      <th>1</th>\n",
              "      <td>Q: &lt;3&lt;br&gt;A: &lt;/3 ? haha jk! &lt;33</td>\n",
              "      <td>non-bully</td>\n",
              "    </tr>\n",
              "    <tr>\n",
              "      <th>2</th>\n",
              "      <td>Q: &amp;quot;hey angel  you duh sexy&amp;quot;&lt;br&gt;A: R...</td>\n",
              "      <td>non-bully</td>\n",
              "    </tr>\n",
              "    <tr>\n",
              "      <th>3</th>\n",
              "      <td>Q: (:&lt;br&gt;A: ;(</td>\n",
              "      <td>non-bully</td>\n",
              "    </tr>\n",
              "    <tr>\n",
              "      <th>4</th>\n",
              "      <td>Q: ******************MEOWWW*******************...</td>\n",
              "      <td>non-bully</td>\n",
              "    </tr>\n",
              "    <tr>\n",
              "      <th>5</th>\n",
              "      <td>Q: any makeup tips? i suck at doing my makeup ...</td>\n",
              "      <td>non-bully</td>\n",
              "    </tr>\n",
              "    <tr>\n",
              "      <th>6</th>\n",
              "      <td>Q: Apriiiiiiiiiiiill!!! I miss uuuu! It&amp;#039;s...</td>\n",
              "      <td>non-bully</td>\n",
              "    </tr>\n",
              "    <tr>\n",
              "      <th>7</th>\n",
              "      <td>Q: Are you a morning or night person?&lt;br&gt;A: Ni...</td>\n",
              "      <td>non-bully</td>\n",
              "    </tr>\n",
              "    <tr>\n",
              "      <th>8</th>\n",
              "      <td>Q: are you a trusting person?&lt;br&gt;A: alreadi an...</td>\n",
              "      <td>non-bully</td>\n",
              "    </tr>\n",
              "    <tr>\n",
              "      <th>9</th>\n",
              "      <td>Q: are you a trusting person?&lt;br&gt;A: Yes veryy ...</td>\n",
              "      <td>non-bully</td>\n",
              "    </tr>\n",
              "  </tbody>\n",
              "</table>\n",
              "</div>"
            ],
            "text/plain": [
              "                                            sentence  sentiment\n",
              "0  Q: what&#039;s your favorite song? :D<br>A: I ...  non-bully\n",
              "1                     Q: <3<br>A: </3 ? haha jk! <33  non-bully\n",
              "2  Q: &quot;hey angel  you duh sexy&quot;<br>A: R...  non-bully\n",
              "3                                     Q: (:<br>A: ;(  non-bully\n",
              "4  Q: ******************MEOWWW*******************...  non-bully\n",
              "5  Q: any makeup tips? i suck at doing my makeup ...  non-bully\n",
              "6  Q: Apriiiiiiiiiiiill!!! I miss uuuu! It&#039;s...  non-bully\n",
              "7  Q: Are you a morning or night person?<br>A: Ni...  non-bully\n",
              "8  Q: are you a trusting person?<br>A: alreadi an...  non-bully\n",
              "9  Q: are you a trusting person?<br>A: Yes veryy ...  non-bully"
            ]
          },
          "metadata": {
            "tags": []
          },
          "execution_count": 4
        }
      ]
    },
    {
      "cell_type": "code",
      "metadata": {
        "id": "sBPSTpSPTVXJ"
      },
      "source": [
        "data = formspring[['sentence','sentiment']]"
      ],
      "execution_count": 5,
      "outputs": []
    },
    {
      "cell_type": "code",
      "metadata": {
        "id": "jf2HNdhuTW5a",
        "colab": {
          "base_uri": "https://localhost:8080/"
        },
        "outputId": "5815f262-5ac0-44b2-c594-e6b0f356a829"
      },
      "source": [
        "import string\n",
        "data['sentence'] = data['sentence'].apply(lambda x: x.replace('Q:',' ').replace('A:',' ').replace('<br>',' '))\n",
        "data['sentence'] = data['sentence'].apply(lambda x: x.lower())\n",
        "data['sentence'] = data['sentence'].apply(lambda x: \"\".join(l for l in x if l not in string.punctuation))\n",
        "print(data[ data['sentiment'] == 'non-bully'].size)\n",
        "print(data[ data['sentiment'] == 'bully'].size)"
      ],
      "execution_count": 6,
      "outputs": [
        {
          "output_type": "stream",
          "text": [
            "23994\n",
            "1552\n"
          ],
          "name": "stdout"
        }
      ]
    },
    {
      "cell_type": "code",
      "metadata": {
        "id": "vIEsoWP0Uthn"
      },
      "source": [
        "def text_to_wordlist(text, remove_stopwords=True):    \n",
        "\n",
        "    text = text.lower().split()\n",
        "    \n",
        "    if remove_stopwords:\n",
        "        text = [wordnet_lemmatizer.lemmatize(w) for w in text]\n",
        "        text = [w for w in text if w != \"nan\" ]\n",
        "    \n",
        "    text = \" \".join(text)\n",
        "\n",
        "\n",
        "    return(text)"
      ],
      "execution_count": 7,
      "outputs": []
    },
    {
      "cell_type": "code",
      "metadata": {
        "id": "Q3HCHOs3UvOl",
        "colab": {
          "base_uri": "https://localhost:8080/"
        },
        "outputId": "ca7796b9-e3bc-4735-f080-6e94ec26b718"
      },
      "source": [
        "import nltk\n",
        "from nltk.stem import WordNetLemmatizer\n",
        "\n",
        "nltk.download('wordnet')\n",
        "wordnet_lemmatizer = WordNetLemmatizer()"
      ],
      "execution_count": 8,
      "outputs": [
        {
          "output_type": "stream",
          "text": [
            "[nltk_data] Downloading package wordnet to /root/nltk_data...\n",
            "[nltk_data]   Package wordnet is already up-to-date!\n"
          ],
          "name": "stdout"
        }
      ]
    },
    {
      "cell_type": "code",
      "metadata": {
        "id": "nvXRs5oxUx5I"
      },
      "source": [
        "data['sentence'] = data.apply(lambda row: text_to_wordlist(row.sentence).split(), axis=1)"
      ],
      "execution_count": 9,
      "outputs": []
    },
    {
      "cell_type": "code",
      "metadata": {
        "id": "RxoIrxL1TYjU"
      },
      "source": [
        "tokenizer = Tokenizer(split=' ')\n",
        "tokenizer.fit_on_texts(data['sentence'].values)\n",
        "X = tokenizer.texts_to_sequences(data['sentence'].values)\n",
        "X = pad_sequences(X, maxlen=62)"
      ],
      "execution_count": 10,
      "outputs": []
    },
    {
      "cell_type": "code",
      "metadata": {
        "id": "6sa-shz7UOFh"
      },
      "source": [
        "Y = pd.get_dummies(data['sentiment']).values"
      ],
      "execution_count": 11,
      "outputs": []
    },
    {
      "cell_type": "code",
      "metadata": {
        "id": "QcpcjwBASJRj",
        "colab": {
          "base_uri": "https://localhost:8080/"
        },
        "outputId": "3be68f7c-9a92-4533-96b5-9ced76de6343"
      },
      "source": [
        "print(X.shape)"
      ],
      "execution_count": 12,
      "outputs": [
        {
          "output_type": "stream",
          "text": [
            "(12773, 62)\n"
          ],
          "name": "stdout"
        }
      ]
    },
    {
      "cell_type": "code",
      "metadata": {
        "id": "jdNCYIXrb30M"
      },
      "source": [
        "from sklearn.model_selection import KFold\n",
        "\n",
        "skf = KFold(n_splits=5, shuffle=True)\n",
        "accuracy = []\n",
        "precision = []\n",
        "recall = []\n",
        "f1_score = []"
      ],
      "execution_count": 13,
      "outputs": []
    },
    {
      "cell_type": "code",
      "metadata": {
        "id": "t2rF3pYyTaVD"
      },
      "source": [
        "from numpy import array\n",
        "from numpy import asarray\n",
        "from numpy import zeros\n",
        "\n",
        "embeddings_dictionary = dict()\n",
        "glove_file = open('/content/gdrive/glove.twitter.27B.50d.txt', encoding=\"utf8\")\n",
        "\n",
        "for line in glove_file:\n",
        "    records = line.split()\n",
        "    word = records[0]\n",
        "    vector_dimensions = asarray(records[1:], dtype='float32')\n",
        "    embeddings_dictionary [word] = vector_dimensions\n",
        "glove_file.close()"
      ],
      "execution_count": 14,
      "outputs": []
    },
    {
      "cell_type": "code",
      "metadata": {
        "id": "E-Na1Z5vZsCJ"
      },
      "source": [
        "vocab_size = len(tokenizer.word_index) + 1\n",
        "\n",
        "embedding_matrix = zeros((vocab_size, 50))\n",
        "for word, index in tokenizer.word_index.items():\n",
        "    embedding_vector = embeddings_dictionary.get(word)\n",
        "    if embedding_vector is not None:\n",
        "        embedding_matrix[index] = embedding_vector"
      ],
      "execution_count": 15,
      "outputs": []
    },
    {
      "cell_type": "code",
      "metadata": {
        "id": "t9pL6TSeawvi",
        "colab": {
          "base_uri": "https://localhost:8080/"
        },
        "outputId": "5637458f-a984-4011-813f-117fd7c99469"
      },
      "source": [
        "from keras.layers import Bidirectional, Flatten\n",
        "from keras.layers.convolutional import Conv1D, MaxPooling1D \n",
        "from sklearn import metrics\n",
        "from sklearn.utils import shuffle\n",
        "\n",
        "X, Y = shuffle(X, Y, random_state=42)\n",
        "\n",
        "\n",
        "embed_dim = 50\n",
        "lstm_out = 50\n",
        "for train, validation in skf.split(X, Y):\n",
        "    model = Sequential()\n",
        "    model.add(Embedding(len(tokenizer.word_index) + 1, embed_dim, weights=[embedding_matrix], input_length = X.shape[1]))\n",
        "    model.add(Dropout(0.25))\n",
        "    model.add(Conv1D(filters=128, kernel_size=3, padding='same', activation='relu'))\n",
        "    model.add(MaxPooling1D(pool_size=2))\n",
        "    model.add(Bidirectional(LSTM(lstm_out, return_sequences=True)))\n",
        "    model.add(Dropout(0.5))\n",
        "    model.add(Flatten())\n",
        "    model.add(Dense(2,activation='softmax'))\n",
        "    model.compile(loss = 'categorical_crossentropy', optimizer='adam',metrics = ['accuracy'])\n",
        "    model.fit(X[train], Y[train], epochs=10, batch_size=128)\n",
        "    k_accuracy = '%.4f' % (model.evaluate(X[validation], Y[validation])[1])\n",
        "    predict_test = (model.predict(X[validation]) >= 0.5) \n",
        "    k_precision = metrics.precision_score(Y[validation], predict_test, average=None)\n",
        "    k_recall = metrics.recall_score(Y[validation], predict_test, average=None)\n",
        "    k_f1_score = metrics.f1_score(Y[validation], predict_test, average=None)\n",
        "    accuracy.append(k_accuracy)\n",
        "    precision.append(k_precision)\n",
        "    recall.append(k_recall)\n",
        "    f1_score.append(k_f1_score)"
      ],
      "execution_count": 16,
      "outputs": [
        {
          "output_type": "stream",
          "text": [
            "Epoch 1/10\n",
            "80/80 [==============================] - 7s 19ms/step - loss: 0.3016 - accuracy: 0.9027\n",
            "Epoch 2/10\n",
            "80/80 [==============================] - 1s 17ms/step - loss: 0.1782 - accuracy: 0.9433\n",
            "Epoch 3/10\n",
            "80/80 [==============================] - 1s 17ms/step - loss: 0.1594 - accuracy: 0.9455\n",
            "Epoch 4/10\n",
            "80/80 [==============================] - 1s 17ms/step - loss: 0.1354 - accuracy: 0.9483\n",
            "Epoch 5/10\n",
            "80/80 [==============================] - 1s 18ms/step - loss: 0.1127 - accuracy: 0.9606\n",
            "Epoch 6/10\n",
            "80/80 [==============================] - 1s 18ms/step - loss: 0.1006 - accuracy: 0.9641\n",
            "Epoch 7/10\n",
            "80/80 [==============================] - 1s 18ms/step - loss: 0.0906 - accuracy: 0.9667\n",
            "Epoch 8/10\n",
            "80/80 [==============================] - 1s 18ms/step - loss: 0.0816 - accuracy: 0.9680\n",
            "Epoch 9/10\n",
            "80/80 [==============================] - 1s 19ms/step - loss: 0.0697 - accuracy: 0.9746\n",
            "Epoch 10/10\n",
            "80/80 [==============================] - 1s 18ms/step - loss: 0.0531 - accuracy: 0.9801\n",
            "80/80 [==============================] - 1s 5ms/step - loss: 0.1702 - accuracy: 0.9436\n",
            "Epoch 1/10\n",
            "80/80 [==============================] - 4s 19ms/step - loss: 0.2868 - accuracy: 0.9184\n",
            "Epoch 2/10\n",
            "80/80 [==============================] - 2s 19ms/step - loss: 0.1880 - accuracy: 0.9406\n",
            "Epoch 3/10\n",
            "80/80 [==============================] - 1s 18ms/step - loss: 0.1528 - accuracy: 0.9478\n",
            "Epoch 4/10\n",
            "80/80 [==============================] - 1s 18ms/step - loss: 0.1180 - accuracy: 0.9586\n",
            "Epoch 5/10\n",
            "80/80 [==============================] - 1s 18ms/step - loss: 0.1108 - accuracy: 0.9608\n",
            "Epoch 6/10\n",
            "80/80 [==============================] - 1s 18ms/step - loss: 0.0898 - accuracy: 0.9683\n",
            "Epoch 7/10\n",
            "80/80 [==============================] - 1s 18ms/step - loss: 0.0816 - accuracy: 0.9689\n",
            "Epoch 8/10\n",
            "80/80 [==============================] - 1s 18ms/step - loss: 0.0709 - accuracy: 0.9732\n",
            "Epoch 9/10\n",
            "80/80 [==============================] - 1s 19ms/step - loss: 0.0557 - accuracy: 0.9767\n",
            "Epoch 10/10\n",
            "80/80 [==============================] - 1s 19ms/step - loss: 0.0509 - accuracy: 0.9810\n",
            "80/80 [==============================] - 1s 5ms/step - loss: 0.2319 - accuracy: 0.9280\n",
            "Epoch 1/10\n",
            "80/80 [==============================] - 4s 18ms/step - loss: 0.2850 - accuracy: 0.9173\n",
            "Epoch 2/10\n",
            "80/80 [==============================] - 1s 18ms/step - loss: 0.1661 - accuracy: 0.9475\n",
            "Epoch 3/10\n",
            "80/80 [==============================] - 1s 18ms/step - loss: 0.1470 - accuracy: 0.9485\n",
            "Epoch 4/10\n",
            "80/80 [==============================] - 1s 18ms/step - loss: 0.1193 - accuracy: 0.9572\n",
            "Epoch 5/10\n",
            "80/80 [==============================] - 1s 18ms/step - loss: 0.1097 - accuracy: 0.9598\n",
            "Epoch 6/10\n",
            "80/80 [==============================] - 2s 19ms/step - loss: 0.0935 - accuracy: 0.9654\n",
            "Epoch 7/10\n",
            "80/80 [==============================] - 1s 18ms/step - loss: 0.0860 - accuracy: 0.9673\n",
            "Epoch 8/10\n",
            "80/80 [==============================] - 1s 18ms/step - loss: 0.0666 - accuracy: 0.9760\n",
            "Epoch 9/10\n",
            "80/80 [==============================] - 1s 18ms/step - loss: 0.0616 - accuracy: 0.9768\n",
            "Epoch 10/10\n",
            "80/80 [==============================] - 1s 18ms/step - loss: 0.0458 - accuracy: 0.9798\n",
            "80/80 [==============================] - 1s 5ms/step - loss: 0.1913 - accuracy: 0.9495\n",
            "Epoch 1/10\n",
            "80/80 [==============================] - 4s 20ms/step - loss: 0.3140 - accuracy: 0.8958\n",
            "Epoch 2/10\n",
            "80/80 [==============================] - 1s 17ms/step - loss: 0.1981 - accuracy: 0.9347\n",
            "Epoch 3/10\n",
            "80/80 [==============================] - 1s 17ms/step - loss: 0.1621 - accuracy: 0.9450\n",
            "Epoch 4/10\n",
            "80/80 [==============================] - 1s 18ms/step - loss: 0.1331 - accuracy: 0.9543\n",
            "Epoch 5/10\n",
            "80/80 [==============================] - 1s 18ms/step - loss: 0.1104 - accuracy: 0.9576\n",
            "Epoch 6/10\n",
            "80/80 [==============================] - 1s 18ms/step - loss: 0.1095 - accuracy: 0.9585\n",
            "Epoch 7/10\n",
            "80/80 [==============================] - 1s 18ms/step - loss: 0.0879 - accuracy: 0.9686\n",
            "Epoch 8/10\n",
            "80/80 [==============================] - 1s 18ms/step - loss: 0.0766 - accuracy: 0.9699\n",
            "Epoch 9/10\n",
            "80/80 [==============================] - 1s 18ms/step - loss: 0.0638 - accuracy: 0.9763\n",
            "Epoch 10/10\n",
            "80/80 [==============================] - 1s 18ms/step - loss: 0.0527 - accuracy: 0.9782\n",
            "80/80 [==============================] - 1s 5ms/step - loss: 0.1670 - accuracy: 0.9542\n",
            "Epoch 1/10\n",
            "80/80 [==============================] - 4s 19ms/step - loss: 0.2956 - accuracy: 0.9031\n",
            "Epoch 2/10\n",
            "80/80 [==============================] - 2s 19ms/step - loss: 0.1628 - accuracy: 0.9474\n",
            "Epoch 3/10\n",
            "80/80 [==============================] - 2s 19ms/step - loss: 0.1344 - accuracy: 0.9538\n",
            "Epoch 4/10\n",
            "80/80 [==============================] - 1s 19ms/step - loss: 0.1132 - accuracy: 0.9589\n",
            "Epoch 5/10\n",
            "80/80 [==============================] - 1s 19ms/step - loss: 0.1076 - accuracy: 0.9579\n",
            "Epoch 6/10\n",
            "80/80 [==============================] - 1s 18ms/step - loss: 0.0941 - accuracy: 0.9651\n",
            "Epoch 7/10\n",
            "80/80 [==============================] - 1s 18ms/step - loss: 0.0719 - accuracy: 0.9710\n",
            "Epoch 8/10\n",
            "80/80 [==============================] - 1s 18ms/step - loss: 0.0674 - accuracy: 0.9755\n",
            "Epoch 9/10\n",
            "80/80 [==============================] - 1s 18ms/step - loss: 0.0651 - accuracy: 0.9748\n",
            "Epoch 10/10\n",
            "80/80 [==============================] - 2s 19ms/step - loss: 0.0477 - accuracy: 0.9839\n",
            "80/80 [==============================] - 1s 5ms/step - loss: 0.1877 - accuracy: 0.9460\n"
          ],
          "name": "stdout"
        }
      ]
    },
    {
      "cell_type": "code",
      "metadata": {
        "id": "loZoo9rBC7o_"
      },
      "source": [
        "def average(list):\n",
        "    return (sum(list) / len(list))"
      ],
      "execution_count": 17,
      "outputs": []
    },
    {
      "cell_type": "code",
      "metadata": {
        "id": "8TwH_N2-hiqM"
      },
      "source": [
        "accuracy = list(map(float, accuracy))"
      ],
      "execution_count": 18,
      "outputs": []
    },
    {
      "cell_type": "code",
      "metadata": {
        "id": "pe5UbYFZhkQT",
        "colab": {
          "base_uri": "https://localhost:8080/"
        },
        "outputId": "094f862b-0eab-413b-f7f2-dc7b70ad4f56"
      },
      "source": [
        "print(average(accuracy))"
      ],
      "execution_count": 19,
      "outputs": [
        {
          "output_type": "stream",
          "text": [
            "0.9442600000000001\n"
          ],
          "name": "stdout"
        }
      ]
    },
    {
      "cell_type": "code",
      "metadata": {
        "id": "w0Eex-rnhlvN",
        "colab": {
          "base_uri": "https://localhost:8080/"
        },
        "outputId": "e5ea2142-f9a7-4083-c772-0b400dca2e22"
      },
      "source": [
        "print(average(precision))"
      ],
      "execution_count": 20,
      "outputs": [
        {
          "output_type": "stream",
          "text": [
            "[0.5537765 0.9692419]\n"
          ],
          "name": "stdout"
        }
      ]
    },
    {
      "cell_type": "code",
      "metadata": {
        "id": "in_N8ny_hnu7",
        "colab": {
          "base_uri": "https://localhost:8080/"
        },
        "outputId": "d9c182f0-91bc-4ba2-d56b-aea5f4513597"
      },
      "source": [
        "print(average(recall))"
      ],
      "execution_count": 21,
      "outputs": [
        {
          "output_type": "stream",
          "text": [
            "[0.52241918 0.97146889]\n"
          ],
          "name": "stdout"
        }
      ]
    },
    {
      "cell_type": "code",
      "metadata": {
        "id": "4a6gh1q9hpKE",
        "colab": {
          "base_uri": "https://localhost:8080/"
        },
        "outputId": "7c734ff7-76ee-4d61-a238-4928083e99bd"
      },
      "source": [
        "print(average(f1_score))"
      ],
      "execution_count": 22,
      "outputs": [
        {
          "output_type": "stream",
          "text": [
            "[0.53334711 0.9703171 ]\n"
          ],
          "name": "stdout"
        }
      ]
    },
    {
      "cell_type": "code",
      "metadata": {
        "id": "L3Y2K0W_ooFy"
      },
      "source": [
        ""
      ],
      "execution_count": 22,
      "outputs": []
    }
  ]
}